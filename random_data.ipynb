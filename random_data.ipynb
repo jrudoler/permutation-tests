{
 "cells": [
  {
   "cell_type": "code",
   "execution_count": 119,
   "id": "5fcdc24d-e738-44a2-aa95-1499331359a7",
   "metadata": {},
   "outputs": [],
   "source": [
    "import numpy as np\n",
    "import scipy as scp"
   ]
  },
  {
   "cell_type": "code",
   "execution_count": 129,
   "id": "c7abf2f4-71ce-4a59-bcd9-1719037fcbb1",
   "metadata": {},
   "outputs": [],
   "source": [
    "np.random.seed(56)\n",
    "n_feats = 10\n",
    "random_matrix = lambda n: np.dot(mat:=np.random.randn(n, n), mat.T)\n",
    "## initialize multivariate normal dist with normally distributed means and covariance\n",
    "## drawn from an inverse wishart distribution (conjugate prior for MVN)\n",
    "norm_means = np.random.randn(n_feats)\n",
    "wishart_cov = scp.stats.invwishart(n_feats, random_matrix(n_feats)).rvs()\n",
    "mvn = scp.stats.multivariate_normal(mean=norm_means, cov=wishart_cov)\n",
    "## generate data samples from a multivariate normal\n",
    "data = mvn.rvs(10000)\n",
    "## arbitrary correlations between data variables and classes\n",
    "betas = np.random.randn(n_feats)\n",
    "## separate classes\n",
    "y = data @ betas\n",
    "labels = y >= np.median(y)\n",
    "## introduce classification noise\n",
    "eta = .05\n",
    "noisy_labels = np.where(np.random.uniform(size=len(data)) < (1-eta), labels, ~labels)"
   ]
  },
  {
   "cell_type": "code",
   "execution_count": 127,
   "id": "4ebb6df3-6b62-44ba-9cb3-c82ce9304c56",
   "metadata": {},
   "outputs": [],
   "source": []
  },
  {
   "cell_type": "code",
   "execution_count": 128,
   "id": "c4d67f3a-097b-44cb-8030-50de54026122",
   "metadata": {},
   "outputs": [
    {
     "data": {
      "text/plain": [
       "0.9496"
      ]
     },
     "execution_count": 128,
     "metadata": {},
     "output_type": "execute_result"
    }
   ],
   "source": [
    "np.mean(noisy_labels == labels)"
   ]
  },
  {
   "cell_type": "code",
   "execution_count": null,
   "id": "57982cfd-b3aa-48ed-ba2c-b8b529acd521",
   "metadata": {},
   "outputs": [],
   "source": []
  }
 ],
 "metadata": {
  "kernelspec": {
   "display_name": "py38",
   "language": "python",
   "name": "py38"
  },
  "language_info": {
   "codemirror_mode": {
    "name": "ipython",
    "version": 3
   },
   "file_extension": ".py",
   "mimetype": "text/x-python",
   "name": "python",
   "nbconvert_exporter": "python",
   "pygments_lexer": "ipython3",
   "version": "3.8.13"
  }
 },
 "nbformat": 4,
 "nbformat_minor": 5
}
