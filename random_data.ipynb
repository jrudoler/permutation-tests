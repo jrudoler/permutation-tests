{
 "cells": [
  {
   "cell_type": "code",
   "execution_count": 4,
   "id": "5fcdc24d-e738-44a2-aa95-1499331359a7",
   "metadata": {},
   "outputs": [],
   "source": [
    "import numpy as np\n",
    "import scipy as scp"
   ]
  },
  {
   "cell_type": "code",
   "execution_count": 74,
   "id": "7156eafd",
   "metadata": {},
   "outputs": [],
   "source": [
    "import numpy as np\n",
    "from scipy.spatial.distance import mahalanobis\n",
    "from scipy.stats import multivariate_normal, invwishart\n",
    "def random_data_gen(n_samples=1000, n_feats=10, maha=1.0, ratio=0.5, seed=None):\n",
    "    if seed:\n",
    "        np.random.seed(seed)\n",
    "    random_matrix = lambda n: np.dot(mat:=np.random.randn(n, n), mat.T)\n",
    "    ## initialize multivariate normal dist with normally distributed means and covariance\n",
    "    ## drawn from an inverse wishart distribution (conjugate prior for MVN)\n",
    "    norm_means_a = np.random.randn(n_feats)\n",
    "    norm_means_b = np.zeros_like(norm_means_a)\n",
    "    wishart_cov = invwishart(n_feats, random_matrix(n_feats)).rvs()\n",
    "    dist = mahalanobis(norm_means_a, norm_means_b, wishart_cov)\n",
    "    norm_means_a = norm_means_a * (maha / dist)\n",
    "    assert np.isclose(mahalanobis(norm_means_a, norm_means_b, wishart_cov), maha)\n",
    "    ## multivariate normal distributions with different means and equal variances\n",
    "    mvn_a = multivariate_normal(mean=norm_means_a, cov=wishart_cov)\n",
    "    mvn_b = multivariate_normal(mean=norm_means_b, cov=wishart_cov)\n",
    "    ## generate data samples from a multivariate normal\n",
    "    data = np.vstack([mvn_a.rvs(int(n_samples*ratio)), mvn_b.rvs(n_samples - int(n_samples*ratio))])\n",
    "    labels = np.arange(len(data))<int(n_samples*ratio)\n",
    "    return data, labels\n"
   ]
  },
  {
   "cell_type": "code",
   "execution_count": 79,
   "id": "0ce73d12",
   "metadata": {},
   "outputs": [
    {
     "data": {
      "text/plain": [
       "(array([[  0.42043342,  -2.12769268,   1.58060764,  -0.27377687,\n",
       "           0.33953751],\n",
       "        [  2.41673574,  -1.5883988 ,  -0.33667244,  -1.2879792 ,\n",
       "           2.86648047],\n",
       "        [ -1.65304322,   1.84963592,  -1.01250505,   0.41389216,\n",
       "          -3.13223372],\n",
       "        ...,\n",
       "        [ -4.40412632,   7.74836198,   8.61616593,  10.93168848,\n",
       "         -16.76288283],\n",
       "        [  4.3128885 ,  -7.89731866,  -6.05406186,  -8.91448981,\n",
       "          12.31904641],\n",
       "        [  0.59019821,  -0.68048415,  -0.79076833,  -1.30790723,\n",
       "          -0.15644951]]),\n",
       " array([ True,  True,  True, ..., False, False, False]))"
      ]
     },
     "execution_count": 79,
     "metadata": {},
     "output_type": "execute_result"
    }
   ],
   "source": [
    "data, labels = random_data_gen(10000, 5, 1., ratio=.5, seed=56)\n",
    "data, labels"
   ]
  },
  {
   "cell_type": "code",
   "execution_count": 80,
   "id": "44869a53",
   "metadata": {},
   "outputs": [],
   "source": [
    "np.save(\"random_data_X.npy\", data)\n",
    "np.save(\"random_data_y\", labels)"
   ]
  },
  {
   "cell_type": "code",
   "execution_count": null,
   "id": "0d80000f",
   "metadata": {},
   "outputs": [],
   "source": []
  }
 ],
 "metadata": {
  "kernelspec": {
   "display_name": "py38",
   "language": "python",
   "name": "py38"
  },
  "language_info": {
   "codemirror_mode": {
    "name": "ipython",
    "version": 3
   },
   "file_extension": ".py",
   "mimetype": "text/x-python",
   "name": "python",
   "nbconvert_exporter": "python",
   "pygments_lexer": "ipython3",
   "version": "3.8.13"
  },
  "vscode": {
   "interpreter": {
    "hash": "1a3043ce43b8894bffef93d1839881ad472cb7607c1a3c9f1cfc63c042591dd0"
   }
  }
 },
 "nbformat": 4,
 "nbformat_minor": 5
}
