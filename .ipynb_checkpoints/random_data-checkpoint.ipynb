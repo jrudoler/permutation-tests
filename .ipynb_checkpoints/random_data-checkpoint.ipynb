{
 "cells": [
  {
   "cell_type": "code",
   "execution_count": 2,
   "id": "5fcdc24d-e738-44a2-aa95-1499331359a7",
   "metadata": {},
   "outputs": [],
   "source": [
    "import numpy as np\n",
    "import scipy as scp"
   ]
  },
  {
   "cell_type": "code",
   "execution_count": 43,
   "id": "9a775c2e-9184-4b57-a942-32e614a79f99",
   "metadata": {},
   "outputs": [
    {
     "data": {
      "text/plain": [
       "array([[0.42646838, 0.03812715, 0.88597842, 0.99294523, 0.014166  ,\n",
       "        0.79314199, 0.46882595, 0.29673332, 0.86057824, 0.81801752],\n",
       "       [0.16732116, 0.90519451, 0.3887167 , 0.87802433, 0.66312936,\n",
       "        0.41093569, 0.91661174, 0.10934841, 0.38533521, 0.8479159 ],\n",
       "       [0.44641189, 0.87649086, 0.25604911, 0.69222683, 0.27673748,\n",
       "        0.06972736, 0.51618033, 0.88290112, 0.59156674, 0.94927261],\n",
       "       [0.15703096, 0.83965002, 0.18195224, 0.43250677, 0.1521192 ,\n",
       "        0.25980485, 0.27545836, 0.76086931, 0.26918801, 0.13471756],\n",
       "       [0.44464649, 0.1131265 , 0.44535106, 0.52211015, 0.85920107,\n",
       "        0.69036088, 0.87082674, 0.82465213, 0.18350347, 0.36813342],\n",
       "       [0.98157423, 0.87931151, 0.97134457, 0.4593007 , 0.41223666,\n",
       "        0.58904006, 0.13712508, 0.63596533, 0.73450552, 0.13534961],\n",
       "       [0.29665975, 0.45247505, 0.1984255 , 0.69683371, 0.77182687,\n",
       "        0.99443565, 0.15739575, 0.46258091, 0.14583192, 0.13806172],\n",
       "       [0.28217884, 0.25410107, 0.59432035, 0.58809961, 0.34723639,\n",
       "        0.65950546, 0.43710378, 0.1377804 , 0.56854649, 0.30069837],\n",
       "       [0.73831986, 0.01429266, 0.24948202, 0.59306399, 0.94584367,\n",
       "        0.83170407, 0.66932961, 0.23474469, 0.35484185, 0.61259995],\n",
       "       [0.96938467, 0.35004358, 0.3473717 , 0.61654152, 0.73157599,\n",
       "        0.94859783, 0.9867611 , 0.91697745, 0.5132538 , 0.52281972]])"
      ]
     },
     "execution_count": 43,
     "metadata": {},
     "output_type": "execute_result"
    }
   ],
   "source": [
    "np.random.uniform(size=(10, 10))"
   ]
  },
  {
   "cell_type": "code",
   "execution_count": 107,
   "id": "7156eafd",
   "metadata": {},
   "outputs": [],
   "source": [
    "import numpy as np\n",
    "from scipy.spatial.distance import mahalanobis\n",
    "from scipy.stats import multivariate_normal, invwishart\n",
    "def random_data_gen(n_samples=1000, n_feats=10, maha=1.0, ratio=0.5, seed=None):\n",
    "    if seed:\n",
    "        np.random.seed(seed)\n",
    "    ## initialize multivariate normal dist with normally distributed means and covariance\n",
    "    ## drawn from an inverse wishart distribution (conjugate prior for MVN)\n",
    "    norm_means_a = np.random.randn(n_feats)\n",
    "    norm_means_b = np.zeros_like(norm_means_a)\n",
    "    wishart_cov = invwishart(n_feats+1, np.identity(n_feats)).rvs()\n",
    "    dist = mahalanobis(norm_means_a, norm_means_b, wishart_cov)\n",
    "    norm_means_a = norm_means_a * (maha / dist)\n",
    "    assert np.isclose(mahalanobis(norm_means_a, norm_means_b, wishart_cov), maha)\n",
    "    ## multivariate normal distributions with different means and equal variances\n",
    "    corr = (D:=np.diag(1/np.sqrt(np.diag(wishart_cov)))) @ wishart_cov @ D\n",
    "    print(corr)\n",
    "    mvn_a = multivariate_normal(mean=norm_means_a, cov=wishart_cov)\n",
    "    mvn_b = multivariate_normal(mean=norm_means_b, cov=wishart_cov)\n",
    "    ## generate data samples from a multivariate normal\n",
    "    data = np.vstack([mvn_a.rvs(int(n_samples*ratio)), mvn_b.rvs(n_samples - int(n_samples*ratio))])\n",
    "    labels = np.arange(len(data))<int(n_samples*ratio)\n",
    "    return data, labels"
   ]
  },
  {
   "cell_type": "code",
   "execution_count": 118,
   "id": "0ce73d12",
   "metadata": {},
   "outputs": [
    {
     "name": "stdout",
     "output_type": "stream",
     "text": [
      "[[ 1.          0.99904193 -0.78106497 -0.99874176 -0.95925316]\n",
      " [ 0.99904193  1.         -0.77127787 -0.99761355 -0.95539105]\n",
      " [-0.78106497 -0.77127787  1.          0.79233068  0.70397249]\n",
      " [-0.99874176 -0.99761355  0.79233068  1.          0.95633065]\n",
      " [-0.95925316 -0.95539105  0.70397249  0.95633065  1.        ]]\n"
     ]
    },
    {
     "data": {
      "text/plain": [
       "(array([[ 15.76619368,   7.78832996,  -0.75438178,  -7.05145257,\n",
       "          -0.77385922],\n",
       "        [ 37.8049325 ,  19.07014396,  -0.96343823, -16.50795526,\n",
       "          -1.94195358],\n",
       "        [ -2.48947919,  -1.12962534,   0.14490648,   1.05568633,\n",
       "          -0.44289784],\n",
       "        ...,\n",
       "        [-19.24309108,  -9.25543252,   0.16033534,   8.11962009,\n",
       "           1.72793296],\n",
       "        [ 27.72485679,  12.46464721,  -1.18275469, -11.91530613,\n",
       "          -2.11252013],\n",
       "        [ 16.61960213,   8.51401289,   0.12725027,  -6.25510498,\n",
       "          -1.28529781]]),\n",
       " array([ True,  True,  True, ..., False, False, False]))"
      ]
     },
     "execution_count": 118,
     "metadata": {},
     "output_type": "execute_result"
    }
   ],
   "source": [
    "data, labels = random_data_gen(10000, 5, 1., ratio=.5)\n",
    "data, labels"
   ]
  },
  {
   "cell_type": "code",
   "execution_count": 80,
   "id": "44869a53",
   "metadata": {},
   "outputs": [],
   "source": [
    "np.save(\"random_data_X.npy\", data)\n",
    "np.save(\"random_data_y\", labels)"
   ]
  },
  {
   "cell_type": "code",
   "execution_count": 3,
   "id": "0d80000f",
   "metadata": {
    "collapsed": true,
    "jupyter": {
     "outputs_hidden": true
    },
    "tags": []
   },
   "outputs": [
    {
     "data": {
      "text/plain": [
       "\u001b[0;31mDocstring:\u001b[0m\n",
       "randn(d0, d1, ..., dn)\n",
       "\n",
       "Return a sample (or samples) from the \"standard normal\" distribution.\n",
       "\n",
       ".. note::\n",
       "    This is a convenience function for users porting code from Matlab,\n",
       "    and wraps `standard_normal`. That function takes a\n",
       "    tuple to specify the size of the output, which is consistent with\n",
       "    other NumPy functions like `numpy.zeros` and `numpy.ones`.\n",
       "\n",
       ".. note::\n",
       "    New code should use the ``standard_normal`` method of a ``default_rng()``\n",
       "    instance instead; please see the :ref:`random-quick-start`.\n",
       "\n",
       "If positive int_like arguments are provided, `randn` generates an array\n",
       "of shape ``(d0, d1, ..., dn)``, filled\n",
       "with random floats sampled from a univariate \"normal\" (Gaussian)\n",
       "distribution of mean 0 and variance 1. A single float randomly sampled\n",
       "from the distribution is returned if no argument is provided.\n",
       "\n",
       "Parameters\n",
       "----------\n",
       "d0, d1, ..., dn : int, optional\n",
       "    The dimensions of the returned array, must be non-negative.\n",
       "    If no argument is given a single Python float is returned.\n",
       "\n",
       "Returns\n",
       "-------\n",
       "Z : ndarray or float\n",
       "    A ``(d0, d1, ..., dn)``-shaped array of floating-point samples from\n",
       "    the standard normal distribution, or a single such float if\n",
       "    no parameters were supplied.\n",
       "\n",
       "See Also\n",
       "--------\n",
       "standard_normal : Similar, but takes a tuple as its argument.\n",
       "normal : Also accepts mu and sigma arguments.\n",
       "random.Generator.standard_normal: which should be used for new code.\n",
       "\n",
       "Notes\n",
       "-----\n",
       "For random samples from :math:`N(\\mu, \\sigma^2)`, use:\n",
       "\n",
       "``sigma * np.random.randn(...) + mu``\n",
       "\n",
       "Examples\n",
       "--------\n",
       ">>> np.random.randn()\n",
       "2.1923875335537315  # random\n",
       "\n",
       "Two-by-four array of samples from N(3, 6.25):\n",
       "\n",
       ">>> 3 + 2.5 * np.random.randn(2, 4)\n",
       "array([[-4.49401501,  4.00950034, -1.81814867,  7.29718677],   # random\n",
       "       [ 0.39924804,  4.68456316,  4.99394529,  4.84057254]])  # random\n",
       "\u001b[0;31mType:\u001b[0m      builtin_function_or_method\n"
      ]
     },
     "metadata": {},
     "output_type": "display_data"
    }
   ],
   "source": [
    "np.random.randn?"
   ]
  },
  {
   "cell_type": "code",
   "execution_count": null,
   "id": "542ef3d3-ca49-4f48-bf06-66c20b7506aa",
   "metadata": {},
   "outputs": [],
   "source": []
  }
 ],
 "metadata": {
  "kernelspec": {
   "display_name": "py38",
   "language": "python",
   "name": "py38"
  },
  "language_info": {
   "codemirror_mode": {
    "name": "ipython",
    "version": 3
   },
   "file_extension": ".py",
   "mimetype": "text/x-python",
   "name": "python",
   "nbconvert_exporter": "python",
   "pygments_lexer": "ipython3",
   "version": "3.8.13"
  },
  "vscode": {
   "interpreter": {
    "hash": "1a3043ce43b8894bffef93d1839881ad472cb7607c1a3c9f1cfc63c042591dd0"
   }
  }
 },
 "nbformat": 4,
 "nbformat_minor": 5
}
