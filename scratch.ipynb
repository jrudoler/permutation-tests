{
 "cells": [
  {
   "cell_type": "code",
   "execution_count": 1,
   "id": "74b134d2-d75e-49a1-a608-91339da5dbac",
   "metadata": {},
   "outputs": [],
   "source": [
    "import warnings\n",
    "warnings.simplefilter('ignore', FutureWarning)\n",
    "import numpy as np\n",
    "import scipy as scp\n",
    "import pandas as pd\n",
    "import matplotlib.pyplot as plt\n",
    "import seaborn as sns\n",
    "from sklearn.linear_model import LogisticRegression, LogisticRegressionCV\n",
    "from sklearn.metrics import roc_auc_score, roc_curve\n",
    "from sklearn.model_selection import (permutation_test_score, learning_curve, LeaveOneGroupOut,\n",
    "                                     KFold, cross_val_score, cross_val_predict, cross_validate,\n",
    "                                     train_test_split)\n",
    "from sklearn.utils import parallel_backend\n",
    "from sklearn.base import clone\n",
    "from sklearn import datasets\n",
    "from joblib.parallel import Parallel, delayed\n",
    "import pickle\n",
    "from permutation_helpers import random_data_gen, post_hoc_permutation, simulate"
   ]
  },
  {
   "cell_type": "markdown",
   "id": "314cbfb0-9b4c-4fd2-9b19-940915d4f6ed",
   "metadata": {},
   "source": [
    "## Setup"
   ]
  },
  {
   "cell_type": "code",
   "execution_count": null,
   "id": "a158e6db-8ff2-473a-b90b-6119019a82e2",
   "metadata": {},
   "outputs": [],
   "source": [
    "## IRIS dataset\n",
    "# X_iris, y_iris = datasets.load_iris(return_X_y=True)\n",
    "# mask = y_iris < 2\n",
    "# X_iris, y_iris = X_iris[mask], y_iris[mask]"
   ]
  },
  {
   "cell_type": "code",
   "execution_count": null,
   "id": "63bfdcc7-b0b5-43f0-8c6c-4dd312ae5b2d",
   "metadata": {},
   "outputs": [],
   "source": [
    "X = np.load(\"random_data_X.npy\")\n",
    "y = np.load(\"random_data_y.npy\")"
   ]
  },
  {
   "cell_type": "code",
   "execution_count": null,
   "id": "e62bd609-74da-4d38-9e21-cba17f8ccf56",
   "metadata": {},
   "outputs": [],
   "source": [
    "estimator = LogisticRegressionCV(class_weight='balanced', Cs=4)\n",
    "cv = KFold(n_splits=3, shuffle=True, random_state=0)\n",
    "n_permutations = 5000"
   ]
  },
  {
   "cell_type": "markdown",
   "id": "a76399af-c206-4c01-80c4-508f29bcfacb",
   "metadata": {},
   "source": [
    "## Pre-training permutation"
   ]
  },
  {
   "cell_type": "code",
   "execution_count": null,
   "id": "15ff16c8-e24d-4d3f-82be-949e3d75ffeb",
   "metadata": {
    "collapsed": true,
    "jupyter": {
     "outputs_hidden": true
    },
    "tags": []
   },
   "outputs": [],
   "source": [
    "score, null, p = permutation_test_score(estimator=estimator,\n",
    "                                        X=X, y=y,\n",
    "                                        cv = cv,\n",
    "                                        n_permutations=n_permutations,\n",
    "                                        scoring='roc_auc',\n",
    "                                        verbose=True, n_jobs=-1\n",
    "                                       )"
   ]
  },
  {
   "cell_type": "code",
   "execution_count": null,
   "id": "a1cea981",
   "metadata": {},
   "outputs": [],
   "source": [
    "null"
   ]
  },
  {
   "cell_type": "markdown",
   "id": "5eec9581-4b50-4831-a2a4-47e23d78c83e",
   "metadata": {},
   "source": [
    "## Post-training permutation"
   ]
  },
  {
   "cell_type": "code",
   "execution_count": null,
   "id": "e0b3a996-de77-40a1-9d02-1c8f9beacc82",
   "metadata": {},
   "outputs": [],
   "source": [
    "y_pred = cross_val_predict(clone(estimator), X, y, cv=cv, method='predict_proba')\n",
    "# post_score, post_null, post_p = post_hoc_permutation(y, y_pred[:, 1], n_jobs=-1, verbose=True, n_permutations=n_permutations)"
   ]
  },
  {
   "cell_type": "code",
   "execution_count": null,
   "id": "60a8b86a-90f4-4dac-bb42-747ffd9e58ab",
   "metadata": {},
   "outputs": [],
   "source": [
    "cross_val_score(clone(estimator), X, y, cv=cv, scoring=\"roc_auc\", verbose=1)"
   ]
  },
  {
   "cell_type": "markdown",
   "id": "b0f480b3-7839-4b00-870d-24079d6fa76c",
   "metadata": {},
   "source": [
    "Above permutes across CV folds. If we want to permute within CV folds we need to use something like the below and run the permutation function each time, then aggregate"
   ]
  },
  {
   "cell_type": "code",
   "execution_count": null,
   "id": "d116a883",
   "metadata": {},
   "outputs": [],
   "source": [
    "from permutation_helpers import post_hoc_permutation_cv"
   ]
  },
  {
   "cell_type": "markdown",
   "id": "ad47a695",
   "metadata": {},
   "source": [
    "## Running simulations"
   ]
  },
  {
   "cell_type": "code",
   "execution_count": null,
   "id": "30a6f3f2-6343-42e2-ac5b-a260479ba2bc",
   "metadata": {},
   "outputs": [],
   "source": [
    "@simulate(parameter_range=np.linspace(0, 5), n_sim=10)\n",
    "def scale(param=None, x=None, intercept=None, seed=None):\n",
    "    # if np.random.randn()>0:\n",
    "    #     return None\n",
    "    return param*x + intercept"
   ]
  },
  {
   "cell_type": "code",
   "execution_count": null,
   "id": "f05c7f66-f6d2-44e8-bdcd-e6590898568b",
   "metadata": {},
   "outputs": [],
   "source": [
    "# try:\n",
    "#     client.shutdown()\n",
    "#     client = Client()\n",
    "# except:\n",
    "#     client = Client()\n",
    "result = scale(x=np.array([1, 2, 4]), intercept=2)\n",
    "result"
   ]
  },
  {
   "cell_type": "code",
   "execution_count": null,
   "id": "dab08840",
   "metadata": {},
   "outputs": [],
   "source": [
    "with open(\"simulation_results.pkl\", \"wb\") as f:\n",
    "    pickle.dump(result, f)"
   ]
  },
  {
   "cell_type": "markdown",
   "id": "c15e15c5",
   "metadata": {},
   "source": [
    "## Simulate permutations with different params"
   ]
  },
  {
   "cell_type": "code",
   "execution_count": 2,
   "id": "b2630245",
   "metadata": {},
   "outputs": [
    {
     "name": "stdout",
     "output_type": "stream",
     "text": [
      "Unique port for jrudoler is 51360\n",
      "{'dashboard_address': ':51360'}\n",
      "To view the dashboard, run: \n",
      "`ssh -fN jrudoler@rhino2.psych.upenn.edu -L 8000:128.91.77.24:51360` in your local computer's terminal (NOT rhino) \n",
      "and then navigate to localhost:8000 in your browser\n"
     ]
    }
   ],
   "source": [
    "import cmldask.CMLDask as da\n",
    "rhino_client = da.new_dask_client(\n",
    "    job_name=\"simulations\",\n",
    "    memory_per_job=\"1.5GB\",\n",
    "    max_n_jobs=400, threads_per_job=5, \n",
    "    adapt=True,\n",
    "    local_directory=\"/home1/jrudoler/dask_worker_space\",\n",
    "    log_directory=\"/home1/jrudoler/logs/\",\n",
    "    )"
   ]
  },
  {
   "cell_type": "code",
   "execution_count": null,
   "id": "568934f2",
   "metadata": {},
   "outputs": [],
   "source": [
    "rhino_client.shutdown()"
   ]
  },
  {
   "cell_type": "code",
   "execution_count": null,
   "id": "8aff4eb6",
   "metadata": {},
   "outputs": [],
   "source": [
    "rhino_client.cluster.scale(400)"
   ]
  },
  {
   "cell_type": "code",
   "execution_count": null,
   "id": "f68318fa",
   "metadata": {},
   "outputs": [],
   "source": [
    "@simulate(parameter_range=np.logspace(2, 5, 10).astype(int), n_sim=1000)\n",
    "def simulate_samplesize(param=None, seed=None):\n",
    "    X, y = random_data_gen(n_samples=param, n_feats=5, maha=0.1, ratio=0.5, seed=seed)\n",
    "    X_train, X_test, y_train, y_test = train_test_split(X, y, test_size=.2, shuffle=True)\n",
    "    estimator = LogisticRegressionCV(class_weight='balanced', Cs=4)\n",
    "    cv = KFold(n_splits=5, shuffle=True, random_state=0)\n",
    "    n_permutations = 5000\n",
    "    estimator.fit(X=X_train, y=y_train)\n",
    "    y_pred = estimator.predict_proba(X_test)[:, 1]\n",
    "    score, permutation_scores, pvalue = post_hoc_permutation(\n",
    "        y_true=y_test, y_score=y_pred,\n",
    "        n_permutations=n_permutations, n_jobs=-1,\n",
    "        )\n",
    "    return score, permutation_scores, pvalue\n",
    "\n",
    "@simulate(parameter_range=np.linspace(0., 1.5, 25), n_sim=500)\n",
    "def simulate_maha(param=None, seed=None):\n",
    "    X, y = random_data_gen(n_samples=5000, n_feats=5, maha=param, ratio=0.5, seed=seed)\n",
    "    X_train, X_test, y_train, y_test = train_test_split(X, y, test_size=.2, shuffle=True)\n",
    "    estimator = LogisticRegressionCV(class_weight='balanced', Cs=4)\n",
    "    cv = KFold(n_splits=5, shuffle=True, random_state=0)\n",
    "    n_permutations = 5000\n",
    "    estimator.fit(X=X_train, y=y_train)\n",
    "    y_pred = estimator.predict_proba(X_test)[:, 1]\n",
    "    score, permutation_scores, pvalue = post_hoc_permutation(\n",
    "        y_true=y_test, y_score=y_pred,\n",
    "        n_permutations=n_permutations, n_jobs=-1,\n",
    "        )\n",
    "    return score, permutation_scores, pvalue\n",
    "\n",
    "@simulate(parameter_range=np.logspace(1, 10, 10, base=2).astype(int), n_sim=500)\n",
    "def simulate_nfeats(param=None, seed=None):\n",
    "    X, y = random_data_gen(n_samples=5000, n_feats=param, maha=.1, ratio=0.5, seed=seed)\n",
    "    X_train, X_test, y_train, y_test = train_test_split(X, y, test_size=.2, shuffle=True)\n",
    "    estimator = LogisticRegressionCV(class_weight='balanced', Cs=4)\n",
    "    cv = KFold(n_splits=5, shuffle=True, random_state=0)\n",
    "    n_permutations = 5000\n",
    "    estimator.fit(X=X_train, y=y_train)\n",
    "    y_pred = estimator.predict_proba(X_test)[:, 1]\n",
    "    score, permutation_scores, pvalue = post_hoc_permutation(\n",
    "        y_true=y_test, y_score=y_pred,\n",
    "        n_permutations=n_permutations, n_jobs=-1,\n",
    "        )\n",
    "    return score, permutation_scores, pvalue\n",
    "\n",
    "@simulate(parameter_range=np.linspace(.1, .9, 8), n_sim=500)\n",
    "def simulate_ratio(param=None, seed=None):\n",
    "    X, y = random_data_gen(n_samples=5000, n_feats=5, maha=.1, ratio=param, seed=seed)\n",
    "    X_train, X_test, y_train, y_test = train_test_split(X, y, test_size=.2, shuffle=True)\n",
    "    estimator = LogisticRegressionCV(class_weight='balanced', Cs=4)\n",
    "    cv = KFold(n_splits=5, shuffle=True, random_state=0)\n",
    "    n_permutations = 5000\n",
    "    estimator.fit(X=X_train, y=y_train)\n",
    "    y_pred = estimator.predict_proba(X_test)[:, 1]\n",
    "    score, permutation_scores, pvalue = post_hoc_permutation(\n",
    "        y_true=y_test, y_score=y_pred,\n",
    "        n_permutations=n_permutations, n_jobs=-1,\n",
    "        )\n",
    "    return score, permutation_scores, pvalue\n",
    "    \n",
    "    "
   ]
  },
  {
   "cell_type": "code",
   "execution_count": null,
   "id": "87482528",
   "metadata": {},
   "outputs": [],
   "source": [
    "result = simulate_samplesize()"
   ]
  },
  {
   "cell_type": "code",
   "execution_count": null,
   "id": "56343748",
   "metadata": {},
   "outputs": [],
   "source": [
    "df_result = pd.DataFrame(result).melt(var_name=\"param\")\n",
    "df_result[[\"score\", \"perm_scores\", \"pval\"]] = df_result['value'].apply(pd.Series)\n",
    "df_result = df_result.drop(columns='value')\n",
    "df_result.to_pickle(\"simulate_samplesize.pkl\")\n",
    "# loaded = pd.read_pickle(\"simulate_samplesize.pkl\")"
   ]
  },
  {
   "cell_type": "code",
   "execution_count": null,
   "id": "b12c1024",
   "metadata": {},
   "outputs": [],
   "source": []
  },
  {
   "cell_type": "code",
   "execution_count": null,
   "id": "f3e9e1c6",
   "metadata": {},
   "outputs": [],
   "source": [
    "nfeats_result, nfeats_futures = simulate_nfeats()\n",
    "df_result = pd.DataFrame(nfeats_result).melt(var_name=\"param\")\n",
    "df_result[[\"score\", \"perm_scores\", \"pval\"]] = df_result['value'].apply(pd.Series)\n",
    "df_result = df_result.drop(columns='value')\n",
    "df_result.to_pickle(\"simulate_nfeats.pkl\")"
   ]
  },
  {
   "cell_type": "code",
   "execution_count": null,
   "id": "cfd251a7",
   "metadata": {},
   "outputs": [],
   "source": [
    "maha_result, maha_futures = simulate_maha()\n",
    "df_result = pd.DataFrame(maha_result).melt(var_name=\"param\")\n",
    "df_result[[\"score\", \"perm_scores\", \"pval\"]] = df_result['value'].apply(pd.Series)\n",
    "df_result = df_result.drop(columns='value')\n",
    "df_result.to_pickle(\"simulate_maha.pkl\")\n",
    "# loaded = pd.read_pickle(\"simulate_samplesize.pkl\")"
   ]
  },
  {
   "cell_type": "code",
   "execution_count": null,
   "id": "32ce4be4",
   "metadata": {},
   "outputs": [],
   "source": [
    "ratio_result, ratio_futures = simulate_ratio()\n",
    "df_result = pd.DataFrame(nfeats_result).melt(var_name=\"param\")\n",
    "df_result[[\"score\", \"perm_scores\", \"pval\"]] = df_result['value'].apply(pd.Series)\n",
    "df_result = df_result.drop(columns='value')\n",
    "df_result.to_pickle(\"simulate_ratio.pkl\")"
   ]
  },
  {
   "cell_type": "code",
   "execution_count": null,
   "id": "e2a68eec",
   "metadata": {},
   "outputs": [],
   "source": [
    "rhino_client.shutdown()"
   ]
  },
  {
   "cell_type": "markdown",
   "id": "9fd38d34",
   "metadata": {},
   "source": [
    "## Compare with original permutation test"
   ]
  },
  {
   "cell_type": "code",
   "execution_count": null,
   "id": "975732d2",
   "metadata": {},
   "outputs": [],
   "source": [
    "from sklearn.metrics import make_scorer"
   ]
  },
  {
   "cell_type": "code",
   "execution_count": 13,
   "id": "f99aa182",
   "metadata": {},
   "outputs": [],
   "source": [
    "def _train_score(estimator, X_train, X_test, y_train, y_test, \n",
    "                score_func, shuffle_labels=False):\n",
    "    if shuffle_labels:\n",
    "        indices = np.random.default_rng().permutation(len(y_train))\n",
    "        y_train = y_train[indices]\n",
    "    estimator.fit(X_train, y_train)\n",
    "    y_pred = estimator.predict_proba(X_test)[:,1]\n",
    "    score = score_func(y_true=y_test, y_score=y_pred)\n",
    "    return score\n",
    "\n",
    "\n",
    "\n",
    "def pre_training_permutation(estimator, X_train, X_test, y_train, y_test,\n",
    "                            n_permutations, score_func, verbose=False, n_jobs=None):\n",
    "    score = _train_score(\n",
    "        clone(estimator), X_train, X_test, y_train, y_test, score_func, shuffle_labels=False\n",
    "    )\n",
    "    permutation_scores = Parallel(n_jobs=n_jobs, verbose=verbose)(\n",
    "        delayed(_train_score)(\n",
    "            clone(estimator),\n",
    "            X_train, X_test, y_train, y_test,\n",
    "            score_func,\n",
    "            shuffle_labels=True,\n",
    "        )\n",
    "        for _ in range(n_permutations)\n",
    "    )\n",
    "    permutation_scores = np.array(permutation_scores)\n",
    "    pvalue = (np.sum(permutation_scores >= score) + 1.0) / (n_permutations + 1)\n",
    "    return score, permutation_scores, pvalue\n"
   ]
  },
  {
   "cell_type": "code",
   "execution_count": 14,
   "id": "61cdfd93",
   "metadata": {},
   "outputs": [
    {
     "name": "stdout",
     "output_type": "stream",
     "text": [
      "Running 100 simulations\n",
      "using dask client at http://128.91.77.24:51360/status\n"
     ]
    }
   ],
   "source": [
    "@simulate(parameter_range=np.linspace(0., 1.5, 25), n_sim=100)\n",
    "def simulate_maha_pre(param=None, seed=None):\n",
    "    X, y = random_data_gen(n_samples=1000, n_feats=5, maha=param, ratio=0.5, seed=seed)\n",
    "    X_train, X_test, y_train, y_test = train_test_split(X, y, test_size=.2, shuffle=True)\n",
    "    estimator = LogisticRegressionCV(class_weight='balanced', Cs=4)\n",
    "    n_permutations = 5000\n",
    "    score, null, p = pre_training_permutation(\n",
    "        estimator,\n",
    "        X_train, X_test, y_train, y_test,\n",
    "        n_permutations=n_permutations,\n",
    "        score_func=roc_auc_score,\n",
    "        verbose=True, n_jobs=-1\n",
    "    )\n",
    "    return score, null, p"
   ]
  },
  {
   "cell_type": "code",
   "execution_count": 15,
   "id": "009cd86e",
   "metadata": {},
   "outputs": [
    {
     "name": "stdout",
     "output_type": "stream",
     "text": [
      "Running 100 simulations\n",
      "Using dask client at http://128.91.77.24:51360/status\n",
      "2500 parallel jobs\n",
      "[#######################                 ] | 57% Completed |  2hr 55min 35.9s\r"
     ]
    }
   ],
   "source": [
    "maha_result, maha_futures = simulate_maha_pre()\n",
    "df_result = pd.DataFrame(maha_result).melt(var_name=\"param\")\n",
    "df_result[[\"score\", \"perm_scores\", \"pval\"]] = df_result['value'].apply(pd.Series)\n",
    "df_result = df_result.drop(columns='value')\n",
    "df_result.to_pickle(\"simulate_maha_pre.pkl\")"
   ]
  },
  {
   "cell_type": "code",
   "execution_count": 12,
   "id": "dba36352",
   "metadata": {},
   "outputs": [
    {
     "data": {
      "text/html": [
       "<div>\n",
       "<style scoped>\n",
       "    .dataframe tbody tr th:only-of-type {\n",
       "        vertical-align: middle;\n",
       "    }\n",
       "\n",
       "    .dataframe tbody tr th {\n",
       "        vertical-align: top;\n",
       "    }\n",
       "\n",
       "    .dataframe thead th {\n",
       "        text-align: right;\n",
       "    }\n",
       "</style>\n",
       "<table border=\"1\" class=\"dataframe\">\n",
       "  <thead>\n",
       "    <tr style=\"text-align: right;\">\n",
       "      <th></th>\n",
       "      <th>exception</th>\n",
       "      <th>traceback_obj</th>\n",
       "    </tr>\n",
       "    <tr>\n",
       "      <th>param</th>\n",
       "      <th></th>\n",
       "      <th></th>\n",
       "    </tr>\n",
       "  </thead>\n",
       "  <tbody>\n",
       "    <tr>\n",
       "      <th>0</th>\n",
       "      <td>TypeError(\"predict_proba() missing 1 required ...</td>\n",
       "      <td>&lt;traceback object at 0x7f2f05816a40&gt;</td>\n",
       "    </tr>\n",
       "    <tr>\n",
       "      <th>1</th>\n",
       "      <td>TypeError(\"predict_proba() missing 1 required ...</td>\n",
       "      <td>&lt;traceback object at 0x7f2efbf929c0&gt;</td>\n",
       "    </tr>\n",
       "    <tr>\n",
       "      <th>2</th>\n",
       "      <td>TypeError(\"predict_proba() missing 1 required ...</td>\n",
       "      <td>&lt;traceback object at 0x7f2f05e67500&gt;</td>\n",
       "    </tr>\n",
       "    <tr>\n",
       "      <th>3</th>\n",
       "      <td>TypeError(\"predict_proba() missing 1 required ...</td>\n",
       "      <td>&lt;traceback object at 0x7f2f016b25c0&gt;</td>\n",
       "    </tr>\n",
       "    <tr>\n",
       "      <th>4</th>\n",
       "      <td>TypeError(\"predict_proba() missing 1 required ...</td>\n",
       "      <td>&lt;traceback object at 0x7f2f2d86b280&gt;</td>\n",
       "    </tr>\n",
       "    <tr>\n",
       "      <th>...</th>\n",
       "      <td>...</td>\n",
       "      <td>...</td>\n",
       "    </tr>\n",
       "    <tr>\n",
       "      <th>2495</th>\n",
       "      <td>TypeError(\"predict_proba() missing 1 required ...</td>\n",
       "      <td>&lt;traceback object at 0x7f2ef1f74e00&gt;</td>\n",
       "    </tr>\n",
       "    <tr>\n",
       "      <th>2496</th>\n",
       "      <td>TypeError(\"predict_proba() missing 1 required ...</td>\n",
       "      <td>&lt;traceback object at 0x7f2eefe5f200&gt;</td>\n",
       "    </tr>\n",
       "    <tr>\n",
       "      <th>2497</th>\n",
       "      <td>TypeError(\"predict_proba() missing 1 required ...</td>\n",
       "      <td>&lt;traceback object at 0x7f2eea7a98c0&gt;</td>\n",
       "    </tr>\n",
       "    <tr>\n",
       "      <th>2498</th>\n",
       "      <td>TypeError(\"predict_proba() missing 1 required ...</td>\n",
       "      <td>&lt;traceback object at 0x7f2ee83e6a00&gt;</td>\n",
       "    </tr>\n",
       "    <tr>\n",
       "      <th>2499</th>\n",
       "      <td>TypeError(\"predict_proba() missing 1 required ...</td>\n",
       "      <td>&lt;traceback object at 0x7f2ee859d8c0&gt;</td>\n",
       "    </tr>\n",
       "  </tbody>\n",
       "</table>\n",
       "<p>2500 rows × 2 columns</p>\n",
       "</div>"
      ],
      "text/plain": [
       "                                               exception  \\\n",
       "param                                                      \n",
       "0      TypeError(\"predict_proba() missing 1 required ...   \n",
       "1      TypeError(\"predict_proba() missing 1 required ...   \n",
       "2      TypeError(\"predict_proba() missing 1 required ...   \n",
       "3      TypeError(\"predict_proba() missing 1 required ...   \n",
       "4      TypeError(\"predict_proba() missing 1 required ...   \n",
       "...                                                  ...   \n",
       "2495   TypeError(\"predict_proba() missing 1 required ...   \n",
       "2496   TypeError(\"predict_proba() missing 1 required ...   \n",
       "2497   TypeError(\"predict_proba() missing 1 required ...   \n",
       "2498   TypeError(\"predict_proba() missing 1 required ...   \n",
       "2499   TypeError(\"predict_proba() missing 1 required ...   \n",
       "\n",
       "                              traceback_obj  \n",
       "param                                        \n",
       "0      <traceback object at 0x7f2f05816a40>  \n",
       "1      <traceback object at 0x7f2efbf929c0>  \n",
       "2      <traceback object at 0x7f2f05e67500>  \n",
       "3      <traceback object at 0x7f2f016b25c0>  \n",
       "4      <traceback object at 0x7f2f2d86b280>  \n",
       "...                                     ...  \n",
       "2495   <traceback object at 0x7f2ef1f74e00>  \n",
       "2496   <traceback object at 0x7f2eefe5f200>  \n",
       "2497   <traceback object at 0x7f2eea7a98c0>  \n",
       "2498   <traceback object at 0x7f2ee83e6a00>  \n",
       "2499   <traceback object at 0x7f2ee859d8c0>  \n",
       "\n",
       "[2500 rows x 2 columns]"
      ]
     },
     "execution_count": 12,
     "metadata": {},
     "output_type": "execute_result"
    }
   ],
   "source": [
    "da.get_exceptions(maha_futures, range(len(maha_futures)))"
   ]
  },
  {
   "cell_type": "code",
   "execution_count": null,
   "id": "7425038d",
   "metadata": {},
   "outputs": [],
   "source": []
  }
 ],
 "metadata": {
  "kernelspec": {
   "display_name": "py38",
   "language": "python",
   "name": "python3"
  },
  "language_info": {
   "codemirror_mode": {
    "name": "ipython",
    "version": 3
   },
   "file_extension": ".py",
   "mimetype": "text/x-python",
   "name": "python",
   "nbconvert_exporter": "python",
   "pygments_lexer": "ipython3",
   "version": "3.8.13 (default, Mar 28 2022, 11:38:47) \n[GCC 7.5.0]"
  },
  "vscode": {
   "interpreter": {
    "hash": "1a3043ce43b8894bffef93d1839881ad472cb7607c1a3c9f1cfc63c042591dd0"
   }
  }
 },
 "nbformat": 4,
 "nbformat_minor": 5
}
