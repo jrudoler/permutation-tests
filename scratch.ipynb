{
 "cells": [
  {
   "cell_type": "code",
   "execution_count": 1,
   "id": "74b134d2-d75e-49a1-a608-91339da5dbac",
   "metadata": {},
   "outputs": [],
   "source": [
    "import numpy as np\n",
    "import scipy as scp\n",
    "import matplotlib.pyplot as plt\n",
    "import seaborn as sns\n",
    "from sklearn.linear_model import LogisticRegression, LogisticRegressionCV\n",
    "from sklearn.metrics import roc_auc_score, roc_curve\n",
    "from sklearn.model_selection import (permutation_test_score, learning_curve, LeaveOneGroupOut,\n",
    "                                     KFold, cross_val_score, cross_val_predict, cross_validate)\n",
    "from sklearn.utils import parallel_backend\n",
    "from sklearn.base import clone\n",
    "from sklearn import datasets\n",
    "from joblib.parallel import Parallel, delayed"
   ]
  },
  {
   "cell_type": "markdown",
   "id": "314cbfb0-9b4c-4fd2-9b19-940915d4f6ed",
   "metadata": {},
   "source": [
    "## Setup"
   ]
  },
  {
   "cell_type": "code",
   "execution_count": 20,
   "id": "a158e6db-8ff2-473a-b90b-6119019a82e2",
   "metadata": {},
   "outputs": [],
   "source": [
    "## IRIS dataset\n",
    "# X_iris, y_iris = datasets.load_iris(return_X_y=True)\n",
    "# mask = y_iris < 2\n",
    "# X_iris, y_iris = X_iris[mask], y_iris[mask]"
   ]
  },
  {
   "cell_type": "code",
   "execution_count": 2,
   "id": "63bfdcc7-b0b5-43f0-8c6c-4dd312ae5b2d",
   "metadata": {},
   "outputs": [],
   "source": [
    "X = np.load(\"random_data_X.npy\")\n",
    "y = np.load(\"random_data_y.npy\")"
   ]
  },
  {
   "cell_type": "code",
   "execution_count": 3,
   "id": "e62bd609-74da-4d38-9e21-cba17f8ccf56",
   "metadata": {},
   "outputs": [],
   "source": [
    "estimator = LogisticRegressionCV(class_weight='balanced', Cs=4)\n",
    "cv = KFold(n_splits=3, shuffle=True, random_state=0)\n",
    "n_permutations = 5000"
   ]
  },
  {
   "cell_type": "markdown",
   "id": "a76399af-c206-4c01-80c4-508f29bcfacb",
   "metadata": {},
   "source": [
    "## Pre-training permutation"
   ]
  },
  {
   "cell_type": "code",
   "execution_count": 4,
   "id": "15ff16c8-e24d-4d3f-82be-949e3d75ffeb",
   "metadata": {
    "collapsed": true,
    "jupyter": {
     "outputs_hidden": true
    },
    "tags": []
   },
   "outputs": [
    {
     "name": "stderr",
     "output_type": "stream",
     "text": [
      "[Parallel(n_jobs=-1)]: Using backend LokyBackend with 40 concurrent workers.\n",
      "[Parallel(n_jobs=-1)]: Done 120 tasks      | elapsed:    5.2s\n",
      "[Parallel(n_jobs=-1)]: Done 370 tasks      | elapsed:   11.1s\n",
      "[Parallel(n_jobs=-1)]: Done 720 tasks      | elapsed:   19.0s\n",
      "[Parallel(n_jobs=-1)]: Done 1170 tasks      | elapsed:   29.7s\n",
      "[Parallel(n_jobs=-1)]: Done 1720 tasks      | elapsed:   43.0s\n",
      "[Parallel(n_jobs=-1)]: Done 2370 tasks      | elapsed:   58.3s\n",
      "[Parallel(n_jobs=-1)]: Done 3120 tasks      | elapsed:  1.3min\n",
      "[Parallel(n_jobs=-1)]: Done 3970 tasks      | elapsed:  1.6min\n",
      "[Parallel(n_jobs=-1)]: Done 4920 tasks      | elapsed:  2.0min\n",
      "[Parallel(n_jobs=-1)]: Done 5000 out of 5000 | elapsed:  2.0min finished\n"
     ]
    }
   ],
   "source": [
    "score, null, p = permutation_test_score(estimator=estimator,\n",
    "                                        X=X, y=y,\n",
    "                                        cv = cv,\n",
    "                                        n_permutations=n_permutations,\n",
    "                                        scoring='roc_auc',\n",
    "                                        verbose=True, n_jobs=-1\n",
    "                                       )"
   ]
  },
  {
   "cell_type": "code",
   "execution_count": 5,
   "id": "a1cea981",
   "metadata": {},
   "outputs": [
    {
     "data": {
      "text/plain": [
       "0.0001999600079984003"
      ]
     },
     "execution_count": 5,
     "metadata": {},
     "output_type": "execute_result"
    }
   ],
   "source": [
    "p"
   ]
  },
  {
   "cell_type": "markdown",
   "id": "5eec9581-4b50-4831-a2a4-47e23d78c83e",
   "metadata": {},
   "source": [
    "## Post-training permutation"
   ]
  },
  {
   "cell_type": "code",
   "execution_count": 6,
   "id": "c093b0e4-134e-475f-a762-9c852f87cf3f",
   "metadata": {},
   "outputs": [],
   "source": [
    "from permutation_helpers import post_hoc_permuation"
   ]
  },
  {
   "cell_type": "code",
   "execution_count": 7,
   "id": "e0b3a996-de77-40a1-9d02-1c8f9beacc82",
   "metadata": {},
   "outputs": [],
   "source": [
    "y_pred = cross_val_predict(clone(estimator), X, y, cv=cv, method='predict_proba')\n",
    "# post_score, post_null, post_p = post_hoc_permuation(y, y_pred[:, 1], n_jobs=-1, verbose=True, n_permutations=n_permutations)"
   ]
  },
  {
   "cell_type": "code",
   "execution_count": 8,
   "id": "60a8b86a-90f4-4dac-bb42-747ffd9e58ab",
   "metadata": {},
   "outputs": [
    {
     "name": "stderr",
     "output_type": "stream",
     "text": [
      "[Parallel(n_jobs=1)]: Using backend SequentialBackend with 1 concurrent workers.\n",
      "[Parallel(n_jobs=1)]: Done   3 out of   3 | elapsed:    1.1s finished\n"
     ]
    },
    {
     "data": {
      "text/plain": [
       "array([0.91790977, 0.92486726, 0.91869629])"
      ]
     },
     "execution_count": 8,
     "metadata": {},
     "output_type": "execute_result"
    }
   ],
   "source": [
    "cross_val_score(clone(estimator), X, y, cv=cv, scoring=\"roc_auc\", verbose=1)"
   ]
  },
  {
   "cell_type": "markdown",
   "id": "b0f480b3-7839-4b00-870d-24079d6fa76c",
   "metadata": {},
   "source": [
    "Above permutes across CV folds. If we want to permute within CV folds we need to use something like the below and run the permutation function each time, then aggregate"
   ]
  },
  {
   "cell_type": "code",
   "execution_count": 9,
   "id": "6223c54f-0d0c-4ad0-b5b6-712d4978a375",
   "metadata": {},
   "outputs": [
    {
     "name": "stderr",
     "output_type": "stream",
     "text": [
      "[Parallel(n_jobs=-1)]: Using backend LokyBackend with 40 concurrent workers.\n",
      "[Parallel(n_jobs=-1)]: Done 166 tasks      | elapsed:    0.2s\n",
      "[Parallel(n_jobs=-1)]: Done 2048 tasks      | elapsed:    1.3s\n",
      "[Parallel(n_jobs=-1)]: Done 9126 tasks      | elapsed:    2.6s\n",
      "[Parallel(n_jobs=-1)]: Done 10000 out of 10000 | elapsed:    2.9s finished\n",
      "[Parallel(n_jobs=-1)]: Using backend LokyBackend with 40 concurrent workers.\n",
      "[Parallel(n_jobs=-1)]: Done 168 tasks      | elapsed:    0.2s\n",
      "[Parallel(n_jobs=-1)]: Done 2064 tasks      | elapsed:    0.9s\n",
      "[Parallel(n_jobs=-1)]: Done 7664 tasks      | elapsed:    2.2s\n",
      "[Parallel(n_jobs=-1)]: Done 9854 tasks      | elapsed:    2.8s\n",
      "[Parallel(n_jobs=-1)]: Done 10000 out of 10000 | elapsed:    2.8s finished\n",
      "[Parallel(n_jobs=-1)]: Using backend LokyBackend with 40 concurrent workers.\n",
      "[Parallel(n_jobs=-1)]: Done 126 tasks      | elapsed:    0.2s\n",
      "[Parallel(n_jobs=-1)]: Done 1168 tasks      | elapsed:    0.9s\n",
      "[Parallel(n_jobs=-1)]: Done 3968 tasks      | elapsed:    1.7s\n",
      "[Parallel(n_jobs=-1)]: Done 7568 tasks      | elapsed:    2.9s\n",
      "[Parallel(n_jobs=-1)]: Done 10000 out of 10000 | elapsed:    3.4s finished\n"
     ]
    }
   ],
   "source": [
    "def post_hoc_permuation_cv(y_true, y_pred)\n",
    "    holdout_sets = [test for _, test in cv.split(y_true)]\n",
    "    all_score = []\n",
    "    all_null = []\n",
    "    for holdout_idx in holdout_sets:\n",
    "        score, null, p = post_hoc_permuation(y_true[holdout_idx], y_pred[holdout_idx, 1], n_jobs=-1, verbose=True)\n",
    "        all_score.append(score)\n",
    "        all_null.append(null)\n",
    "    score = np.mean(all_score)\n",
    "    avg_null = np.vstack(all_null).mean(0)\n",
    "    pvalue = (np.sum(np.mean(all_score) <= avg_null)+1.)/(all_null.shape[1]+1.)\n",
    "    return score, avg_null, pvalue"
   ]
  },
  {
   "cell_type": "code",
   "execution_count": 211,
   "id": "f663e750-9735-4397-b3f2-abe9d01368fb",
   "metadata": {},
   "outputs": [],
   "source": [
    "from functools import partial, wraps\n",
    "\n",
    "## decorator factory for simulation\n",
    "def simulate(parameter_range):\n",
    "    \"\"\"\n",
    "    Decorator factory for simulating a function over a range of parameters. \n",
    "    \"\"\"\n",
    "    def decorator(function):\n",
    "        wraps(function)\n",
    "        def wrapper(*args, **kwargs):\n",
    "            result = {}\n",
    "            for p in parameter_range:\n",
    "                result[p] = function(*args, param=p, **kwargs)\n",
    "            return result\n",
    "        return wrapper\n",
    "    return decorator"
   ]
  },
  {
   "cell_type": "code",
   "execution_count": 214,
   "id": "30a6f3f2-6343-42e2-ac5b-a260479ba2bc",
   "metadata": {},
   "outputs": [],
   "source": [
    "@simulate(parameter_range=np.arange(10))\n",
    "def scale(x, param=None, intercept=None):\n",
    "#     if not s:\n",
    "#         raise ValueError\n",
    "#     print(\"inside actual func\")\n",
    "    return param*x + intercept"
   ]
  },
  {
   "cell_type": "code",
   "execution_count": 215,
   "id": "f05c7f66-f6d2-44e8-bdcd-e6590898568b",
   "metadata": {},
   "outputs": [
    {
     "data": {
      "text/plain": [
       "{0: array([2, 2, 2]),\n",
       " 1: array([3, 4, 6]),\n",
       " 2: array([ 4,  6, 10]),\n",
       " 3: array([ 5,  8, 14]),\n",
       " 4: array([ 6, 10, 18]),\n",
       " 5: array([ 7, 12, 22]),\n",
       " 6: array([ 8, 14, 26]),\n",
       " 7: array([ 9, 16, 30]),\n",
       " 8: array([10, 18, 34]),\n",
       " 9: array([11, 20, 38])}"
      ]
     },
     "execution_count": 215,
     "metadata": {},
     "output_type": "execute_result"
    }
   ],
   "source": [
    "scale(np.array([1, 2, 4]), intercept=2)"
   ]
  },
  {
   "cell_type": "code",
   "execution_count": null,
   "id": "4536e4bc-6403-4871-9a71-4fc75da33467",
   "metadata": {},
   "outputs": [],
   "source": []
  }
 ],
 "metadata": {
  "kernelspec": {
   "display_name": "py38",
   "language": "python",
   "name": "py38"
  },
  "language_info": {
   "codemirror_mode": {
    "name": "ipython",
    "version": 3
   },
   "file_extension": ".py",
   "mimetype": "text/x-python",
   "name": "python",
   "nbconvert_exporter": "python",
   "pygments_lexer": "ipython3",
   "version": "3.8.13"
  },
  "vscode": {
   "interpreter": {
    "hash": "1a3043ce43b8894bffef93d1839881ad472cb7607c1a3c9f1cfc63c042591dd0"
   }
  }
 },
 "nbformat": 4,
 "nbformat_minor": 5
}
