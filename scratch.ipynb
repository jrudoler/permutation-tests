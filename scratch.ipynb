{
 "cells": [
  {
   "cell_type": "code",
   "execution_count": 1,
   "id": "74b134d2-d75e-49a1-a608-91339da5dbac",
   "metadata": {},
   "outputs": [],
   "source": [
    "import numpy as np\n",
    "import scipy as scp\n",
    "import matplotlib.pyplot as plt\n",
    "import seaborn as sns\n",
    "from sklearn.linear_model import LogisticRegression, LogisticRegressionCV\n",
    "from sklearn.metrics import roc_auc_score, roc_curve\n",
    "from sklearn.model_selection import (permutation_test_score, learning_curve, LeaveOneGroupOut,\n",
    "                                     KFold, cross_val_score, cross_val_predict, cross_validate)\n",
    "from sklearn.utils import parallel_backend\n",
    "from sklearn.base import clone\n",
    "from sklearn import datasets\n",
    "from joblib.parallel import Parallel, delayed"
   ]
  },
  {
   "cell_type": "code",
   "execution_count": 2,
   "id": "a158e6db-8ff2-473a-b90b-6119019a82e2",
   "metadata": {},
   "outputs": [],
   "source": [
    "X_iris, y_iris = datasets.load_iris(return_X_y=True)\n",
    "mask = y_iris < 2\n",
    "X_iris, y_iris = X_iris[mask], y_iris[mask]"
   ]
  },
  {
   "cell_type": "code",
   "execution_count": 3,
   "id": "e62bd609-74da-4d38-9e21-cba17f8ccf56",
   "metadata": {},
   "outputs": [],
   "source": [
    "estimator = LogisticRegressionCV(class_weight='balanced')\n",
    "cv = KFold(n_splits=3, shuffle=True, random_state=0)"
   ]
  },
  {
   "cell_type": "code",
   "execution_count": 4,
   "id": "15ff16c8-e24d-4d3f-82be-949e3d75ffeb",
   "metadata": {},
   "outputs": [
    {
     "name": "stderr",
     "output_type": "stream",
     "text": [
      "[Parallel(n_jobs=-1)]: Using backend LokyBackend with 40 concurrent workers.\n",
      "[Parallel(n_jobs=-1)]: Done 120 tasks      | elapsed:    6.4s\n",
      "[Parallel(n_jobs=-1)]: Done 370 tasks      | elapsed:   14.4s\n",
      "[Parallel(n_jobs=-1)]: Done 500 out of 500 | elapsed:   18.0s finished\n"
     ]
    }
   ],
   "source": [
    "score, null, p = permutation_test_score(estimator=estimator,\n",
    "                                        X=X_iris, y=y_iris,\n",
    "                                        cv = cv,\n",
    "                                        n_permutations=500,\n",
    "                                        scoring='roc_auc',\n",
    "                                        verbose=True, n_jobs=-1\n",
    "                                       )"
   ]
  },
  {
   "cell_type": "code",
   "execution_count": 5,
   "id": "c093b0e4-134e-475f-a762-9c852f87cf3f",
   "metadata": {},
   "outputs": [],
   "source": [
    "from permutation_helpers import post_hoc_permuation"
   ]
  },
  {
   "cell_type": "code",
   "execution_count": 6,
   "id": "e0b3a996-de77-40a1-9d02-1c8f9beacc82",
   "metadata": {},
   "outputs": [
    {
     "name": "stderr",
     "output_type": "stream",
     "text": [
      "[Parallel(n_jobs=-1)]: Using backend LokyBackend with 40 concurrent workers.\n",
      "[Parallel(n_jobs=-1)]: Done 160 tasks      | elapsed:    0.2s\n",
      "[Parallel(n_jobs=-1)]: Done 2000 tasks      | elapsed:    0.9s\n",
      "[Parallel(n_jobs=-1)]: Done 9120 tasks      | elapsed:    1.7s\n",
      "[Parallel(n_jobs=-1)]: Done 10000 out of 10000 | elapsed:    2.0s finished\n"
     ]
    },
    {
     "data": {
      "text/plain": [
       "(1.0,\n",
       " array([0.4288, 0.52  , 0.5236, ..., 0.5868, 0.4124, 0.5352]),\n",
       " 9.999000099990002e-05)"
      ]
     },
     "execution_count": 6,
     "metadata": {},
     "output_type": "execute_result"
    }
   ],
   "source": [
    "y_pred = cross_val_predict(clone(estimator), X_iris, y_iris, cv=cv, method='predict_proba')\n",
    "post_hoc_permuation(y_iris, y_pred[:, 1], n_jobs=-1, verbose=True)"
   ]
  },
  {
   "cell_type": "code",
   "execution_count": null,
   "id": "6223c54f-0d0c-4ad0-b5b6-712d4978a375",
   "metadata": {},
   "outputs": [],
   "source": []
  }
 ],
 "metadata": {
  "kernelspec": {
   "display_name": "py38",
   "language": "python",
   "name": "py38"
  },
  "language_info": {
   "codemirror_mode": {
    "name": "ipython",
    "version": 3
   },
   "file_extension": ".py",
   "mimetype": "text/x-python",
   "name": "python",
   "nbconvert_exporter": "python",
   "pygments_lexer": "ipython3",
   "version": "3.8.13"
  }
 },
 "nbformat": 4,
 "nbformat_minor": 5
}
