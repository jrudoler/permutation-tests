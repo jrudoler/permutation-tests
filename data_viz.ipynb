{
 "cells": [
  {
   "cell_type": "code",
   "execution_count": 65,
   "metadata": {},
   "outputs": [],
   "source": [
    "import matplotlib.pyplot as plt\n",
    "plt.rcParams[\"pdf.fonttype\"]=42\n",
    "plt.rcParams[\"font.size\"]=14\n",
    "plt.rcParams[\"savefig.dpi\"] = 300\n",
    "plt.rcParams[\"axes.spines.right\"]=False\n",
    "plt.rcParams[\"axes.spines.top\"]=False\n",
    "plt.rcParams[\"axes.grid\"] = True\n",
    "import seaborn as sns\n",
    "import numpy as np\n",
    "import pandas as pd\n",
    "\n",
    "from scipy.stats import norm\n",
    "def auc_from_maha(maha_dist: float):\n",
    "    # source: https://en.wikipedia.org/wiki/Sensitivity_index#RMS_sd_discriminability_index\n",
    "    auc = norm.cdf(maha_dist / np.sqrt(2))\n",
    "    return auc"
   ]
  },
  {
   "cell_type": "code",
   "execution_count": 27,
   "metadata": {},
   "outputs": [
    {
     "data": {
      "text/html": [
       "<div>\n",
       "<style scoped>\n",
       "    .dataframe tbody tr th:only-of-type {\n",
       "        vertical-align: middle;\n",
       "    }\n",
       "\n",
       "    .dataframe tbody tr th {\n",
       "        vertical-align: top;\n",
       "    }\n",
       "\n",
       "    .dataframe thead th {\n",
       "        text-align: right;\n",
       "    }\n",
       "</style>\n",
       "<table border=\"1\" class=\"dataframe\">\n",
       "  <thead>\n",
       "    <tr style=\"text-align: right;\">\n",
       "      <th></th>\n",
       "      <th>param</th>\n",
       "      <th>score</th>\n",
       "      <th>perm_scores</th>\n",
       "      <th>pval</th>\n",
       "    </tr>\n",
       "  </thead>\n",
       "  <tbody>\n",
       "    <tr>\n",
       "      <th>0</th>\n",
       "      <td>0.0</td>\n",
       "      <td>0.525877</td>\n",
       "      <td>[0.5536127022409808, 0.4253843834790473, 0.504...</td>\n",
       "      <td>0.262369</td>\n",
       "    </tr>\n",
       "    <tr>\n",
       "      <th>1</th>\n",
       "      <td>0.0</td>\n",
       "      <td>0.486917</td>\n",
       "      <td>[0.5401503759398496, 0.5001503759398497, 0.552...</td>\n",
       "      <td>0.640180</td>\n",
       "    </tr>\n",
       "    <tr>\n",
       "      <th>2</th>\n",
       "      <td>0.0</td>\n",
       "      <td>0.490149</td>\n",
       "      <td>[0.44724472447244723, 0.5536553655365537, 0.50...</td>\n",
       "      <td>0.590705</td>\n",
       "    </tr>\n",
       "    <tr>\n",
       "      <th>3</th>\n",
       "      <td>0.0</td>\n",
       "      <td>0.594286</td>\n",
       "      <td>[0.4622556390977444, 0.5138847117794486, 0.588...</td>\n",
       "      <td>0.008996</td>\n",
       "    </tr>\n",
       "    <tr>\n",
       "      <th>4</th>\n",
       "      <td>0.0</td>\n",
       "      <td>0.514851</td>\n",
       "      <td>[0.45484548454845486, 0.4964496449644964, 0.45...</td>\n",
       "      <td>0.349325</td>\n",
       "    </tr>\n",
       "    <tr>\n",
       "      <th>...</th>\n",
       "      <td>...</td>\n",
       "      <td>...</td>\n",
       "      <td>...</td>\n",
       "      <td>...</td>\n",
       "    </tr>\n",
       "    <tr>\n",
       "      <th>495</th>\n",
       "      <td>1.5</td>\n",
       "      <td>0.806025</td>\n",
       "      <td>[0.5689120208187368, 0.4692223000700631, 0.439...</td>\n",
       "      <td>0.000500</td>\n",
       "    </tr>\n",
       "    <tr>\n",
       "      <th>496</th>\n",
       "      <td>1.5</td>\n",
       "      <td>0.864278</td>\n",
       "      <td>[0.5523971574416975, 0.5135622059853868, 0.545...</td>\n",
       "      <td>0.000500</td>\n",
       "    </tr>\n",
       "    <tr>\n",
       "      <th>497</th>\n",
       "      <td>1.5</td>\n",
       "      <td>0.878100</td>\n",
       "      <td>[0.4227, 0.4411, 0.4757, 0.43050000000000005, ...</td>\n",
       "      <td>0.000500</td>\n",
       "    </tr>\n",
       "    <tr>\n",
       "      <th>498</th>\n",
       "      <td>1.5</td>\n",
       "      <td>0.851967</td>\n",
       "      <td>[0.49638699317543156, 0.48454435969490167, 0.4...</td>\n",
       "      <td>0.000500</td>\n",
       "    </tr>\n",
       "    <tr>\n",
       "      <th>499</th>\n",
       "      <td>1.5</td>\n",
       "      <td>0.836839</td>\n",
       "      <td>[0.586738782051282, 0.4547275641025641, 0.4601...</td>\n",
       "      <td>0.000500</td>\n",
       "    </tr>\n",
       "  </tbody>\n",
       "</table>\n",
       "<p>500 rows × 4 columns</p>\n",
       "</div>"
      ],
      "text/plain": [
       "     param     score                                        perm_scores  \\\n",
       "0      0.0  0.525877  [0.5536127022409808, 0.4253843834790473, 0.504...   \n",
       "1      0.0  0.486917  [0.5401503759398496, 0.5001503759398497, 0.552...   \n",
       "2      0.0  0.490149  [0.44724472447244723, 0.5536553655365537, 0.50...   \n",
       "3      0.0  0.594286  [0.4622556390977444, 0.5138847117794486, 0.588...   \n",
       "4      0.0  0.514851  [0.45484548454845486, 0.4964496449644964, 0.45...   \n",
       "..     ...       ...                                                ...   \n",
       "495    1.5  0.806025  [0.5689120208187368, 0.4692223000700631, 0.439...   \n",
       "496    1.5  0.864278  [0.5523971574416975, 0.5135622059853868, 0.545...   \n",
       "497    1.5  0.878100  [0.4227, 0.4411, 0.4757, 0.43050000000000005, ...   \n",
       "498    1.5  0.851967  [0.49638699317543156, 0.48454435969490167, 0.4...   \n",
       "499    1.5  0.836839  [0.586738782051282, 0.4547275641025641, 0.4601...   \n",
       "\n",
       "         pval  \n",
       "0    0.262369  \n",
       "1    0.640180  \n",
       "2    0.590705  \n",
       "3    0.008996  \n",
       "4    0.349325  \n",
       "..        ...  \n",
       "495  0.000500  \n",
       "496  0.000500  \n",
       "497  0.000500  \n",
       "498  0.000500  \n",
       "499  0.000500  \n",
       "\n",
       "[500 rows x 4 columns]"
      ]
     },
     "execution_count": 27,
     "metadata": {},
     "output_type": "execute_result"
    }
   ],
   "source": [
    "maha_post = pd.read_pickle(\"simulate_maha_post.pkl\")\n",
    "maha_pre = pd.read_pickle(\"simulate_maha_pre.pkl\")\n",
    "maha_post"
   ]
  },
  {
   "cell_type": "code",
   "execution_count": 28,
   "metadata": {},
   "outputs": [
    {
     "data": {
      "text/html": [
       "<div>\n",
       "<style scoped>\n",
       "    .dataframe tbody tr th:only-of-type {\n",
       "        vertical-align: middle;\n",
       "    }\n",
       "\n",
       "    .dataframe tbody tr th {\n",
       "        vertical-align: top;\n",
       "    }\n",
       "\n",
       "    .dataframe thead th {\n",
       "        text-align: right;\n",
       "    }\n",
       "</style>\n",
       "<table border=\"1\" class=\"dataframe\">\n",
       "  <thead>\n",
       "    <tr style=\"text-align: right;\">\n",
       "      <th></th>\n",
       "      <th>param</th>\n",
       "      <th>score</th>\n",
       "      <th>perm_scores</th>\n",
       "      <th>pval</th>\n",
       "    </tr>\n",
       "  </thead>\n",
       "  <tbody>\n",
       "    <tr>\n",
       "      <th>0</th>\n",
       "      <td>0.0</td>\n",
       "      <td>0.525877</td>\n",
       "      <td>[0.5536127022409808, 0.4253843834790473, 0.504...</td>\n",
       "      <td>0.262369</td>\n",
       "    </tr>\n",
       "    <tr>\n",
       "      <th>1</th>\n",
       "      <td>0.0</td>\n",
       "      <td>0.486917</td>\n",
       "      <td>[0.5401503759398496, 0.5001503759398497, 0.552...</td>\n",
       "      <td>0.640180</td>\n",
       "    </tr>\n",
       "    <tr>\n",
       "      <th>2</th>\n",
       "      <td>0.0</td>\n",
       "      <td>0.490149</td>\n",
       "      <td>[0.44724472447244723, 0.5536553655365537, 0.50...</td>\n",
       "      <td>0.590705</td>\n",
       "    </tr>\n",
       "    <tr>\n",
       "      <th>3</th>\n",
       "      <td>0.0</td>\n",
       "      <td>0.594286</td>\n",
       "      <td>[0.4622556390977444, 0.5138847117794486, 0.588...</td>\n",
       "      <td>0.008996</td>\n",
       "    </tr>\n",
       "    <tr>\n",
       "      <th>4</th>\n",
       "      <td>0.0</td>\n",
       "      <td>0.514851</td>\n",
       "      <td>[0.45484548454845486, 0.4964496449644964, 0.45...</td>\n",
       "      <td>0.349325</td>\n",
       "    </tr>\n",
       "    <tr>\n",
       "      <th>...</th>\n",
       "      <td>...</td>\n",
       "      <td>...</td>\n",
       "      <td>...</td>\n",
       "      <td>...</td>\n",
       "    </tr>\n",
       "    <tr>\n",
       "      <th>495</th>\n",
       "      <td>1.5</td>\n",
       "      <td>0.806025</td>\n",
       "      <td>[0.5689120208187368, 0.4692223000700631, 0.439...</td>\n",
       "      <td>0.000500</td>\n",
       "    </tr>\n",
       "    <tr>\n",
       "      <th>496</th>\n",
       "      <td>1.5</td>\n",
       "      <td>0.864278</td>\n",
       "      <td>[0.5523971574416975, 0.5135622059853868, 0.545...</td>\n",
       "      <td>0.000500</td>\n",
       "    </tr>\n",
       "    <tr>\n",
       "      <th>497</th>\n",
       "      <td>1.5</td>\n",
       "      <td>0.878100</td>\n",
       "      <td>[0.4227, 0.4411, 0.4757, 0.43050000000000005, ...</td>\n",
       "      <td>0.000500</td>\n",
       "    </tr>\n",
       "    <tr>\n",
       "      <th>498</th>\n",
       "      <td>1.5</td>\n",
       "      <td>0.851967</td>\n",
       "      <td>[0.49638699317543156, 0.48454435969490167, 0.4...</td>\n",
       "      <td>0.000500</td>\n",
       "    </tr>\n",
       "    <tr>\n",
       "      <th>499</th>\n",
       "      <td>1.5</td>\n",
       "      <td>0.836839</td>\n",
       "      <td>[0.586738782051282, 0.4547275641025641, 0.4601...</td>\n",
       "      <td>0.000500</td>\n",
       "    </tr>\n",
       "  </tbody>\n",
       "</table>\n",
       "<p>500 rows × 4 columns</p>\n",
       "</div>"
      ],
      "text/plain": [
       "     param     score                                        perm_scores  \\\n",
       "0      0.0  0.525877  [0.5536127022409808, 0.4253843834790473, 0.504...   \n",
       "1      0.0  0.486917  [0.5401503759398496, 0.5001503759398497, 0.552...   \n",
       "2      0.0  0.490149  [0.44724472447244723, 0.5536553655365537, 0.50...   \n",
       "3      0.0  0.594286  [0.4622556390977444, 0.5138847117794486, 0.588...   \n",
       "4      0.0  0.514851  [0.45484548454845486, 0.4964496449644964, 0.45...   \n",
       "..     ...       ...                                                ...   \n",
       "495    1.5  0.806025  [0.5689120208187368, 0.4692223000700631, 0.439...   \n",
       "496    1.5  0.864278  [0.5523971574416975, 0.5135622059853868, 0.545...   \n",
       "497    1.5  0.878100  [0.4227, 0.4411, 0.4757, 0.43050000000000005, ...   \n",
       "498    1.5  0.851967  [0.49638699317543156, 0.48454435969490167, 0.4...   \n",
       "499    1.5  0.836839  [0.586738782051282, 0.4547275641025641, 0.4601...   \n",
       "\n",
       "         pval  \n",
       "0    0.262369  \n",
       "1    0.640180  \n",
       "2    0.590705  \n",
       "3    0.008996  \n",
       "4    0.349325  \n",
       "..        ...  \n",
       "495  0.000500  \n",
       "496  0.000500  \n",
       "497  0.000500  \n",
       "498  0.000500  \n",
       "499  0.000500  \n",
       "\n",
       "[500 rows x 4 columns]"
      ]
     },
     "execution_count": 28,
     "metadata": {},
     "output_type": "execute_result"
    }
   ],
   "source": [
    "maha_post"
   ]
  },
  {
   "cell_type": "code",
   "execution_count": 29,
   "metadata": {},
   "outputs": [
    {
     "data": {
      "text/html": [
       "<div>\n",
       "<style scoped>\n",
       "    .dataframe tbody tr th:only-of-type {\n",
       "        vertical-align: middle;\n",
       "    }\n",
       "\n",
       "    .dataframe tbody tr th {\n",
       "        vertical-align: top;\n",
       "    }\n",
       "\n",
       "    .dataframe thead tr th {\n",
       "        text-align: left;\n",
       "    }\n",
       "\n",
       "    .dataframe thead tr:last-of-type th {\n",
       "        text-align: right;\n",
       "    }\n",
       "</style>\n",
       "<table border=\"1\" class=\"dataframe\">\n",
       "  <thead>\n",
       "    <tr>\n",
       "      <th></th>\n",
       "      <th colspan=\"2\" halign=\"left\">pval</th>\n",
       "      <th colspan=\"2\" halign=\"left\">score</th>\n",
       "    </tr>\n",
       "    <tr>\n",
       "      <th></th>\n",
       "      <th>mean</th>\n",
       "      <th>std</th>\n",
       "      <th>mean</th>\n",
       "      <th>std</th>\n",
       "    </tr>\n",
       "    <tr>\n",
       "      <th>param</th>\n",
       "      <th></th>\n",
       "      <th></th>\n",
       "      <th></th>\n",
       "      <th></th>\n",
       "    </tr>\n",
       "  </thead>\n",
       "  <tbody>\n",
       "    <tr>\n",
       "      <th>0.000</th>\n",
       "      <td>0.465097</td>\n",
       "      <td>0.313642</td>\n",
       "      <td>0.505552</td>\n",
       "      <td>0.046856</td>\n",
       "    </tr>\n",
       "    <tr>\n",
       "      <th>0.375</th>\n",
       "      <td>0.085717</td>\n",
       "      <td>0.168095</td>\n",
       "      <td>0.589216</td>\n",
       "      <td>0.048689</td>\n",
       "    </tr>\n",
       "    <tr>\n",
       "      <th>0.750</th>\n",
       "      <td>0.001089</td>\n",
       "      <td>0.003475</td>\n",
       "      <td>0.686926</td>\n",
       "      <td>0.040617</td>\n",
       "    </tr>\n",
       "    <tr>\n",
       "      <th>1.125</th>\n",
       "      <td>0.000500</td>\n",
       "      <td>0.000000</td>\n",
       "      <td>0.782997</td>\n",
       "      <td>0.030110</td>\n",
       "    </tr>\n",
       "    <tr>\n",
       "      <th>1.500</th>\n",
       "      <td>0.000500</td>\n",
       "      <td>0.000000</td>\n",
       "      <td>0.840548</td>\n",
       "      <td>0.026692</td>\n",
       "    </tr>\n",
       "  </tbody>\n",
       "</table>\n",
       "</div>"
      ],
      "text/plain": [
       "           pval               score          \n",
       "           mean       std      mean       std\n",
       "param                                        \n",
       "0.000  0.465097  0.313642  0.505552  0.046856\n",
       "0.375  0.085717  0.168095  0.589216  0.048689\n",
       "0.750  0.001089  0.003475  0.686926  0.040617\n",
       "1.125  0.000500  0.000000  0.782997  0.030110\n",
       "1.500  0.000500  0.000000  0.840548  0.026692"
      ]
     },
     "execution_count": 29,
     "metadata": {},
     "output_type": "execute_result"
    }
   ],
   "source": [
    "maha_post.groupby(\"param\").agg({\"pval\":(\"mean\", \"std\"), \"score\":(\"mean\", \"std\")})"
   ]
  },
  {
   "cell_type": "code",
   "execution_count": 30,
   "metadata": {},
   "outputs": [
    {
     "data": {
      "text/html": [
       "<div>\n",
       "<style scoped>\n",
       "    .dataframe tbody tr th:only-of-type {\n",
       "        vertical-align: middle;\n",
       "    }\n",
       "\n",
       "    .dataframe tbody tr th {\n",
       "        vertical-align: top;\n",
       "    }\n",
       "\n",
       "    .dataframe thead tr th {\n",
       "        text-align: left;\n",
       "    }\n",
       "\n",
       "    .dataframe thead tr:last-of-type th {\n",
       "        text-align: right;\n",
       "    }\n",
       "</style>\n",
       "<table border=\"1\" class=\"dataframe\">\n",
       "  <thead>\n",
       "    <tr>\n",
       "      <th></th>\n",
       "      <th colspan=\"2\" halign=\"left\">pval</th>\n",
       "      <th colspan=\"2\" halign=\"left\">score</th>\n",
       "    </tr>\n",
       "    <tr>\n",
       "      <th></th>\n",
       "      <th>mean</th>\n",
       "      <th>std</th>\n",
       "      <th>mean</th>\n",
       "      <th>std</th>\n",
       "    </tr>\n",
       "    <tr>\n",
       "      <th>param</th>\n",
       "      <th></th>\n",
       "      <th></th>\n",
       "      <th></th>\n",
       "      <th></th>\n",
       "    </tr>\n",
       "  </thead>\n",
       "  <tbody>\n",
       "    <tr>\n",
       "      <th>0.000</th>\n",
       "      <td>0.466633</td>\n",
       "      <td>0.277919</td>\n",
       "      <td>0.504976</td>\n",
       "      <td>0.038759</td>\n",
       "    </tr>\n",
       "    <tr>\n",
       "      <th>0.375</th>\n",
       "      <td>0.488358</td>\n",
       "      <td>0.007462</td>\n",
       "      <td>1.000000</td>\n",
       "      <td>0.000000</td>\n",
       "    </tr>\n",
       "    <tr>\n",
       "      <th>0.750</th>\n",
       "      <td>0.484547</td>\n",
       "      <td>0.007712</td>\n",
       "      <td>1.000000</td>\n",
       "      <td>0.000000</td>\n",
       "    </tr>\n",
       "    <tr>\n",
       "      <th>1.125</th>\n",
       "      <td>0.481574</td>\n",
       "      <td>0.007913</td>\n",
       "      <td>1.000000</td>\n",
       "      <td>0.000000</td>\n",
       "    </tr>\n",
       "    <tr>\n",
       "      <th>1.500</th>\n",
       "      <td>0.475625</td>\n",
       "      <td>0.007601</td>\n",
       "      <td>1.000000</td>\n",
       "      <td>0.000000</td>\n",
       "    </tr>\n",
       "  </tbody>\n",
       "</table>\n",
       "</div>"
      ],
      "text/plain": [
       "           pval               score          \n",
       "           mean       std      mean       std\n",
       "param                                        \n",
       "0.000  0.466633  0.277919  0.504976  0.038759\n",
       "0.375  0.488358  0.007462  1.000000  0.000000\n",
       "0.750  0.484547  0.007712  1.000000  0.000000\n",
       "1.125  0.481574  0.007913  1.000000  0.000000\n",
       "1.500  0.475625  0.007601  1.000000  0.000000"
      ]
     },
     "execution_count": 30,
     "metadata": {},
     "output_type": "execute_result"
    }
   ],
   "source": [
    "maha_pre.groupby(\"param\").agg({\"pval\":(\"mean\", \"std\"), \"score\":(\"mean\", \"std\")})"
   ]
  },
  {
   "cell_type": "code",
   "execution_count": 31,
   "metadata": {},
   "outputs": [],
   "source": [
    "null_scores = maha_post.explode(\"perm_scores\").groupby(\"param\").agg({\"perm_scores\":(\"mean\", \"std\")})"
   ]
  },
  {
   "cell_type": "code",
   "execution_count": 62,
   "metadata": {},
   "outputs": [
    {
     "data": {
      "text/plain": [
       "(array([16., 18., 14., 20., 12., 18., 13., 14., 11., 14.]),\n",
       " array([0.00359928, 0.10085983, 0.19812038, 0.29538092, 0.39264147,\n",
       "        0.48990202, 0.58716257, 0.68442312, 0.78168366, 0.87894421,\n",
       "        0.97620476]),\n",
       " <BarContainer object of 10 artists>)"
      ]
     },
     "execution_count": 62,
     "metadata": {},
     "output_type": "execute_result"
    },
    {
     "data": {
      "image/png": "[encoded data removed]",
      "text/plain": [
       "<Figure size 432x288 with 1 Axes>"
      ]
     },
     "metadata": {
      "needs_background": "light"
     },
     "output_type": "display_data"
    }
   ],
   "source": [
    "plt.hist(maha_pre[maha_pre.param==0.]['pval'])"
   ]
  },
  {
   "cell_type": "code",
   "execution_count": 33,
   "metadata": {},
   "outputs": [
    {
     "data": {
      "text/plain": [
       "0.04"
      ]
     },
     "execution_count": 33,
     "metadata": {},
     "output_type": "execute_result"
    }
   ],
   "source": [
    "(maha_pre[maha_pre.param==0.]['pval'] < .05).mean()"
   ]
  },
  {
   "cell_type": "markdown",
   "metadata": {},
   "source": [
    "## Are we over-fitting or under-fitting?"
   ]
  },
  {
   "cell_type": "code",
   "execution_count": 47,
   "metadata": {},
   "outputs": [],
   "source": [
    "maha_pre['expected_auc']= maha_pre['param'].apply(auc_from_maha)\n",
    "maha_pre['type'] = \"pre\"\n",
    "maha_post['expected_auc']= maha_post['param'].apply(auc_from_maha)\n",
    "maha_post['type'] = \"post\""
   ]
  },
  {
   "cell_type": "code",
   "execution_count": 66,
   "metadata": {},
   "outputs": [
    {
     "data": {
      "image/png": "[encoded data removed]",
      "text/plain": [
       "<Figure size 432x288 with 1 Axes>"
      ]
     },
     "metadata": {
      "needs_background": "light"
     },
     "output_type": "display_data"
    }
   ],
   "source": [
    "ax = sns.pointplot(data=maha_post, x=\"param\", y=\"score\", label=\"Actual AUC\")\n",
    "sns.pointplot(data=maha_post, x=\"param\", y=\"expected_auc\", ax =ax, color='red', linestyles='--', label = \"Expected AUC\")\n",
    "ax.set_xlabel(\"Mahalanobis distance\")\n",
    "ax.set_ylabel(\"AUC\")\n",
    "plt.grid(True, alpha=0.1)\n",
    "# plt.legend()\n",
    "# sns.pointplot(data=null_scores, x=\"param\", y=\"mean\")"
   ]
  },
  {
   "cell_type": "code",
   "execution_count": 67,
   "metadata": {},
   "outputs": [],
   "source": [
    "maha = pd.concat([maha_post, maha_pre])"
   ]
  },
  {
   "cell_type": "code",
   "execution_count": 68,
   "metadata": {},
   "outputs": [
    {
     "data": {
      "text/plain": [
       "(0.368359375, 1.0)"
      ]
     },
     "execution_count": 68,
     "metadata": {},
     "output_type": "execute_result"
    },
    {
     "data": {
      "text/plain": [
       "<Figure size 432x720 with 0 Axes>"
      ]
     },
     "metadata": {},
     "output_type": "display_data"
    },
    {
     "data": {
      "image/png": "[encoded data removed]",
      "text/plain": [
       "<Figure size 440.65x360 with 1 Axes>"
      ]
     },
     "metadata": {
      "needs_background": "light"
     },
     "output_type": "display_data"
    }
   ],
   "source": [
    "plt.figure(figsize=(6, 10))\n",
    "sns.catplot(data=maha, x='param', y='score', hue=\"type\", kind='strip')\n",
    "plt.ylim(None, 1)"
   ]
  },
  {
   "cell_type": "code",
   "execution_count": 35,
   "metadata": {},
   "outputs": [
    {
     "data": {
      "text/plain": [
       "(0.0, 1.0)"
      ]
     },
     "execution_count": 35,
     "metadata": {},
     "output_type": "execute_result"
    },
    {
     "data": {
      "image/png": "[encoded data removed]",
      "text/plain": [
       "<Figure size 360x360 with 1 Axes>"
      ]
     },
     "metadata": {
      "needs_background": "light"
     },
     "output_type": "display_data"
    }
   ],
   "source": [
    "sns.catplot(data=maha_post, x='param', y='pval', kind='strip')\n",
    "plt.ylim(0, 1)"
   ]
  },
  {
   "cell_type": "code",
   "execution_count": 36,
   "metadata": {},
   "outputs": [
    {
     "data": {
      "text/plain": [
       "<AxesSubplot:xlabel='param', ylabel='expected_auc'>"
      ]
     },
     "execution_count": 36,
     "metadata": {},
     "output_type": "execute_result"
    },
    {
     "data": {
      "image/png": "[encoded data removed]",
      "text/plain": [
       "<Figure size 432x288 with 1 Axes>"
      ]
     },
     "metadata": {
      "needs_background": "light"
     },
     "output_type": "display_data"
    }
   ],
   "source": [
    "ax = sns.pointplot(data=maha_pre, x=\"param\", y=\"score\",)\n",
    "sns.pointplot(data=maha_pre, x=\"param\", y=\"expected_auc\", ax=ax, color='red')"
   ]
  },
  {
   "cell_type": "code",
   "execution_count": 12,
   "metadata": {},
   "outputs": [],
   "source": [
    "samplesize = pd.read_pickle(\"simulate_samplesize_pre.pkl\")"
   ]
  },
  {
   "cell_type": "code",
   "execution_count": 13,
   "metadata": {},
   "outputs": [
    {
     "data": {
      "text/plain": [
       "Text(0.5, 0, 'N samples')"
      ]
     },
     "execution_count": 13,
     "metadata": {},
     "output_type": "execute_result"
    },
    {
     "data": {
      "image/png": "[encoded data removed]",
      "text/plain": [
       "<Figure size 432x288 with 1 Axes>"
      ]
     },
     "metadata": {
      "needs_background": "light"
     },
     "output_type": "display_data"
    }
   ],
   "source": [
    "ax = sns.lineplot(data=samplesize, x=\"param\", y=\"pval\")\n",
    "plt.xscale(\"log\")\n",
    "plt.ylabel(r\"$p$ value\")\n",
    "plt.xlabel(r\"N samples\")"
   ]
  },
  {
   "cell_type": "code",
   "execution_count": 24,
   "metadata": {},
   "outputs": [],
   "source": [
    "import time"
   ]
  },
  {
   "cell_type": "code",
   "execution_count": 25,
   "metadata": {},
   "outputs": [
    {
     "data": {
      "text/plain": [
       "'032023_14:25'"
      ]
     },
     "execution_count": 25,
     "metadata": {},
     "output_type": "execute_result"
    }
   ],
   "source": [
    "time.strftime(\"%m%d%y_%H:%M\")"
   ]
  },
  {
   "cell_type": "code",
   "execution_count": null,
   "metadata": {},
   "outputs": [],
   "source": []
  }
 ],
 "metadata": {
  "kernelspec": {
   "display_name": "py38",
   "language": "python",
   "name": "py38"
  },
  "language_info": {
   "codemirror_mode": {
    "name": "ipython",
    "version": 3
   },
   "file_extension": ".py",
   "mimetype": "text/x-python",
   "name": "python",
   "nbconvert_exporter": "python",
   "pygments_lexer": "ipython3",
   "version": "3.8.13"
  },
  "vscode": {
   "interpreter": {
    "hash": "1a3043ce43b8894bffef93d1839881ad472cb7607c1a3c9f1cfc63c042591dd0"
   }
  }
 },
 "nbformat": 4,
 "nbformat_minor": 4
}
