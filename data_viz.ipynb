{
 "cells": [
  {
   "cell_type": "code",
   "execution_count": 96,
   "metadata": {},
   "outputs": [],
   "source": [
    "import matplotlib.pyplot as plt\n",
    "plt.rcParams[\"pdf.fonttype\"]=42\n",
    "plt.rcParams[\"font.size\"]=14\n",
    "plt.rcParams[\"savefig.dpi\"] = 300\n",
    "plt.rcParams[\"axes.spines.right\"]=False\n",
    "plt.rcParams[\"axes.spines.top\"]=False\n",
    "plt.rcParams[\"axes.grid\"] = True\n",
    "plt.rcParams[\"grid.alpha\"] = 0.1\n",
    "import seaborn as sns\n",
    "import numpy as np\n",
    "import pandas as pd\n",
    "\n",
    "from scipy.stats import norm\n",
    "def auc_from_maha(maha_dist: float):\n",
    "    # source: https://en.wikipedia.org/wiki/Sensitivity_index#RMS_sd_discriminability_index\n",
    "    auc = norm.cdf(maha_dist / np.sqrt(2))\n",
    "    return auc"
   ]
  },
  {
   "cell_type": "code",
   "execution_count": 70,
   "metadata": {},
   "outputs": [
    {
     "data": {
      "text/html": [
       "<div>\n",
       "<style scoped>\n",
       "    .dataframe tbody tr th:only-of-type {\n",
       "        vertical-align: middle;\n",
       "    }\n",
       "\n",
       "    .dataframe tbody tr th {\n",
       "        vertical-align: top;\n",
       "    }\n",
       "\n",
       "    .dataframe thead th {\n",
       "        text-align: right;\n",
       "    }\n",
       "</style>\n",
       "<table border=\"1\" class=\"dataframe\">\n",
       "  <thead>\n",
       "    <tr style=\"text-align: right;\">\n",
       "      <th></th>\n",
       "      <th>param</th>\n",
       "      <th>score</th>\n",
       "      <th>perm_scores</th>\n",
       "      <th>pval</th>\n",
       "    </tr>\n",
       "  </thead>\n",
       "  <tbody>\n",
       "    <tr>\n",
       "      <th>0</th>\n",
       "      <td>0.0</td>\n",
       "      <td>0.387792</td>\n",
       "      <td>[0.5084522724972164, 0.49934203866788135, 0.42...</td>\n",
       "      <td>0.996201</td>\n",
       "    </tr>\n",
       "    <tr>\n",
       "      <th>1</th>\n",
       "      <td>0.0</td>\n",
       "      <td>0.541617</td>\n",
       "      <td>[0.43907563025210083, 0.5660264105642258, 0.51...</td>\n",
       "      <td>0.154569</td>\n",
       "    </tr>\n",
       "    <tr>\n",
       "      <th>2</th>\n",
       "      <td>0.0</td>\n",
       "      <td>0.522200</td>\n",
       "      <td>[0.5129999999999999, 0.5215, 0.446899999999999...</td>\n",
       "      <td>0.291342</td>\n",
       "    </tr>\n",
       "    <tr>\n",
       "      <th>3</th>\n",
       "      <td>0.0</td>\n",
       "      <td>0.498248</td>\n",
       "      <td>[0.5146631968771894, 0.5340806726053449, 0.488...</td>\n",
       "      <td>0.520296</td>\n",
       "    </tr>\n",
       "    <tr>\n",
       "      <th>4</th>\n",
       "      <td>0.0</td>\n",
       "      <td>0.489296</td>\n",
       "      <td>[0.48539415766306526, 0.5236094437775111, 0.50...</td>\n",
       "      <td>0.595881</td>\n",
       "    </tr>\n",
       "    <tr>\n",
       "      <th>...</th>\n",
       "      <td>...</td>\n",
       "      <td>...</td>\n",
       "      <td>...</td>\n",
       "      <td>...</td>\n",
       "    </tr>\n",
       "    <tr>\n",
       "      <th>2495</th>\n",
       "      <td>1.5</td>\n",
       "      <td>0.800381</td>\n",
       "      <td>[0.4908671216378964, 0.5162585307105579, 0.557...</td>\n",
       "      <td>0.000200</td>\n",
       "    </tr>\n",
       "    <tr>\n",
       "      <th>2496</th>\n",
       "      <td>1.5</td>\n",
       "      <td>0.827731</td>\n",
       "      <td>[0.525110044017607, 0.4663865546218487, 0.4997...</td>\n",
       "      <td>0.000200</td>\n",
       "    </tr>\n",
       "    <tr>\n",
       "      <th>2497</th>\n",
       "      <td>1.5</td>\n",
       "      <td>0.857386</td>\n",
       "      <td>[0.5492549254925493, 0.4837483748374838, 0.514...</td>\n",
       "      <td>0.000200</td>\n",
       "    </tr>\n",
       "    <tr>\n",
       "      <th>2498</th>\n",
       "      <td>1.5</td>\n",
       "      <td>0.862828</td>\n",
       "      <td>[0.5406491809868355, 0.5227615315043714, 0.519...</td>\n",
       "      <td>0.000200</td>\n",
       "    </tr>\n",
       "    <tr>\n",
       "      <th>2499</th>\n",
       "      <td>1.5</td>\n",
       "      <td>0.858384</td>\n",
       "      <td>[0.4903030303030303, 0.49767676767676766, 0.47...</td>\n",
       "      <td>0.000200</td>\n",
       "    </tr>\n",
       "  </tbody>\n",
       "</table>\n",
       "<p>2500 rows × 4 columns</p>\n",
       "</div>"
      ],
      "text/plain": [
       "      param     score                                        perm_scores  \\\n",
       "0       0.0  0.387792  [0.5084522724972164, 0.49934203866788135, 0.42...   \n",
       "1       0.0  0.541617  [0.43907563025210083, 0.5660264105642258, 0.51...   \n",
       "2       0.0  0.522200  [0.5129999999999999, 0.5215, 0.446899999999999...   \n",
       "3       0.0  0.498248  [0.5146631968771894, 0.5340806726053449, 0.488...   \n",
       "4       0.0  0.489296  [0.48539415766306526, 0.5236094437775111, 0.50...   \n",
       "...     ...       ...                                                ...   \n",
       "2495    1.5  0.800381  [0.4908671216378964, 0.5162585307105579, 0.557...   \n",
       "2496    1.5  0.827731  [0.525110044017607, 0.4663865546218487, 0.4997...   \n",
       "2497    1.5  0.857386  [0.5492549254925493, 0.4837483748374838, 0.514...   \n",
       "2498    1.5  0.862828  [0.5406491809868355, 0.5227615315043714, 0.519...   \n",
       "2499    1.5  0.858384  [0.4903030303030303, 0.49767676767676766, 0.47...   \n",
       "\n",
       "          pval  \n",
       "0     0.996201  \n",
       "1     0.154569  \n",
       "2     0.291342  \n",
       "3     0.520296  \n",
       "4     0.595881  \n",
       "...        ...  \n",
       "2495  0.000200  \n",
       "2496  0.000200  \n",
       "2497  0.000200  \n",
       "2498  0.000200  \n",
       "2499  0.000200  \n",
       "\n",
       "[2500 rows x 4 columns]"
      ]
     },
     "execution_count": 70,
     "metadata": {},
     "output_type": "execute_result"
    }
   ],
   "source": [
    "maha_post = pd.read_pickle(\"simulate_maha_post.pkl\")\n",
    "maha_pre = pd.read_pickle(\"simulate_maha_pre.pkl\")\n",
    "maha_post"
   ]
  },
  {
   "cell_type": "code",
   "execution_count": 71,
   "metadata": {},
   "outputs": [
    {
     "data": {
      "text/html": [
       "<div>\n",
       "<style scoped>\n",
       "    .dataframe tbody tr th:only-of-type {\n",
       "        vertical-align: middle;\n",
       "    }\n",
       "\n",
       "    .dataframe tbody tr th {\n",
       "        vertical-align: top;\n",
       "    }\n",
       "\n",
       "    .dataframe thead th {\n",
       "        text-align: right;\n",
       "    }\n",
       "</style>\n",
       "<table border=\"1\" class=\"dataframe\">\n",
       "  <thead>\n",
       "    <tr style=\"text-align: right;\">\n",
       "      <th></th>\n",
       "      <th>param</th>\n",
       "      <th>score</th>\n",
       "      <th>perm_scores</th>\n",
       "      <th>pval</th>\n",
       "    </tr>\n",
       "  </thead>\n",
       "  <tbody>\n",
       "    <tr>\n",
       "      <th>0</th>\n",
       "      <td>0.0</td>\n",
       "      <td>0.387792</td>\n",
       "      <td>[0.5084522724972164, 0.49934203866788135, 0.42...</td>\n",
       "      <td>0.996201</td>\n",
       "    </tr>\n",
       "    <tr>\n",
       "      <th>1</th>\n",
       "      <td>0.0</td>\n",
       "      <td>0.541617</td>\n",
       "      <td>[0.43907563025210083, 0.5660264105642258, 0.51...</td>\n",
       "      <td>0.154569</td>\n",
       "    </tr>\n",
       "    <tr>\n",
       "      <th>2</th>\n",
       "      <td>0.0</td>\n",
       "      <td>0.522200</td>\n",
       "      <td>[0.5129999999999999, 0.5215, 0.446899999999999...</td>\n",
       "      <td>0.291342</td>\n",
       "    </tr>\n",
       "    <tr>\n",
       "      <th>3</th>\n",
       "      <td>0.0</td>\n",
       "      <td>0.498248</td>\n",
       "      <td>[0.5146631968771894, 0.5340806726053449, 0.488...</td>\n",
       "      <td>0.520296</td>\n",
       "    </tr>\n",
       "    <tr>\n",
       "      <th>4</th>\n",
       "      <td>0.0</td>\n",
       "      <td>0.489296</td>\n",
       "      <td>[0.48539415766306526, 0.5236094437775111, 0.50...</td>\n",
       "      <td>0.595881</td>\n",
       "    </tr>\n",
       "    <tr>\n",
       "      <th>...</th>\n",
       "      <td>...</td>\n",
       "      <td>...</td>\n",
       "      <td>...</td>\n",
       "      <td>...</td>\n",
       "    </tr>\n",
       "    <tr>\n",
       "      <th>2495</th>\n",
       "      <td>1.5</td>\n",
       "      <td>0.800381</td>\n",
       "      <td>[0.4908671216378964, 0.5162585307105579, 0.557...</td>\n",
       "      <td>0.000200</td>\n",
       "    </tr>\n",
       "    <tr>\n",
       "      <th>2496</th>\n",
       "      <td>1.5</td>\n",
       "      <td>0.827731</td>\n",
       "      <td>[0.525110044017607, 0.4663865546218487, 0.4997...</td>\n",
       "      <td>0.000200</td>\n",
       "    </tr>\n",
       "    <tr>\n",
       "      <th>2497</th>\n",
       "      <td>1.5</td>\n",
       "      <td>0.857386</td>\n",
       "      <td>[0.5492549254925493, 0.4837483748374838, 0.514...</td>\n",
       "      <td>0.000200</td>\n",
       "    </tr>\n",
       "    <tr>\n",
       "      <th>2498</th>\n",
       "      <td>1.5</td>\n",
       "      <td>0.862828</td>\n",
       "      <td>[0.5406491809868355, 0.5227615315043714, 0.519...</td>\n",
       "      <td>0.000200</td>\n",
       "    </tr>\n",
       "    <tr>\n",
       "      <th>2499</th>\n",
       "      <td>1.5</td>\n",
       "      <td>0.858384</td>\n",
       "      <td>[0.4903030303030303, 0.49767676767676766, 0.47...</td>\n",
       "      <td>0.000200</td>\n",
       "    </tr>\n",
       "  </tbody>\n",
       "</table>\n",
       "<p>2500 rows × 4 columns</p>\n",
       "</div>"
      ],
      "text/plain": [
       "      param     score                                        perm_scores  \\\n",
       "0       0.0  0.387792  [0.5084522724972164, 0.49934203866788135, 0.42...   \n",
       "1       0.0  0.541617  [0.43907563025210083, 0.5660264105642258, 0.51...   \n",
       "2       0.0  0.522200  [0.5129999999999999, 0.5215, 0.446899999999999...   \n",
       "3       0.0  0.498248  [0.5146631968771894, 0.5340806726053449, 0.488...   \n",
       "4       0.0  0.489296  [0.48539415766306526, 0.5236094437775111, 0.50...   \n",
       "...     ...       ...                                                ...   \n",
       "2495    1.5  0.800381  [0.4908671216378964, 0.5162585307105579, 0.557...   \n",
       "2496    1.5  0.827731  [0.525110044017607, 0.4663865546218487, 0.4997...   \n",
       "2497    1.5  0.857386  [0.5492549254925493, 0.4837483748374838, 0.514...   \n",
       "2498    1.5  0.862828  [0.5406491809868355, 0.5227615315043714, 0.519...   \n",
       "2499    1.5  0.858384  [0.4903030303030303, 0.49767676767676766, 0.47...   \n",
       "\n",
       "          pval  \n",
       "0     0.996201  \n",
       "1     0.154569  \n",
       "2     0.291342  \n",
       "3     0.520296  \n",
       "4     0.595881  \n",
       "...        ...  \n",
       "2495  0.000200  \n",
       "2496  0.000200  \n",
       "2497  0.000200  \n",
       "2498  0.000200  \n",
       "2499  0.000200  \n",
       "\n",
       "[2500 rows x 4 columns]"
      ]
     },
     "execution_count": 71,
     "metadata": {},
     "output_type": "execute_result"
    }
   ],
   "source": [
    "maha_post"
   ]
  },
  {
   "cell_type": "code",
   "execution_count": 72,
   "metadata": {},
   "outputs": [
    {
     "data": {
      "text/html": [
       "<div>\n",
       "<style scoped>\n",
       "    .dataframe tbody tr th:only-of-type {\n",
       "        vertical-align: middle;\n",
       "    }\n",
       "\n",
       "    .dataframe tbody tr th {\n",
       "        vertical-align: top;\n",
       "    }\n",
       "\n",
       "    .dataframe thead tr th {\n",
       "        text-align: left;\n",
       "    }\n",
       "\n",
       "    .dataframe thead tr:last-of-type th {\n",
       "        text-align: right;\n",
       "    }\n",
       "</style>\n",
       "<table border=\"1\" class=\"dataframe\">\n",
       "  <thead>\n",
       "    <tr>\n",
       "      <th></th>\n",
       "      <th colspan=\"2\" halign=\"left\">pval</th>\n",
       "      <th colspan=\"2\" halign=\"left\">score</th>\n",
       "    </tr>\n",
       "    <tr>\n",
       "      <th></th>\n",
       "      <th>mean</th>\n",
       "      <th>std</th>\n",
       "      <th>mean</th>\n",
       "      <th>std</th>\n",
       "    </tr>\n",
       "    <tr>\n",
       "      <th>param</th>\n",
       "      <th></th>\n",
       "      <th></th>\n",
       "      <th></th>\n",
       "      <th></th>\n",
       "    </tr>\n",
       "  </thead>\n",
       "  <tbody>\n",
       "    <tr>\n",
       "      <th>0.000</th>\n",
       "      <td>0.503441</td>\n",
       "      <td>0.279188</td>\n",
       "      <td>0.499908</td>\n",
       "      <td>0.039318</td>\n",
       "    </tr>\n",
       "    <tr>\n",
       "      <th>0.375</th>\n",
       "      <td>0.068012</td>\n",
       "      <td>0.119325</td>\n",
       "      <td>0.586924</td>\n",
       "      <td>0.041559</td>\n",
       "    </tr>\n",
       "    <tr>\n",
       "      <th>0.750</th>\n",
       "      <td>0.000541</td>\n",
       "      <td>0.001864</td>\n",
       "      <td>0.688973</td>\n",
       "      <td>0.037712</td>\n",
       "    </tr>\n",
       "    <tr>\n",
       "      <th>1.125</th>\n",
       "      <td>0.000200</td>\n",
       "      <td>0.000000</td>\n",
       "      <td>0.776229</td>\n",
       "      <td>0.032772</td>\n",
       "    </tr>\n",
       "    <tr>\n",
       "      <th>1.500</th>\n",
       "      <td>0.000200</td>\n",
       "      <td>0.000000</td>\n",
       "      <td>0.844670</td>\n",
       "      <td>0.024719</td>\n",
       "    </tr>\n",
       "  </tbody>\n",
       "</table>\n",
       "</div>"
      ],
      "text/plain": [
       "           pval               score          \n",
       "           mean       std      mean       std\n",
       "param                                        \n",
       "0.000  0.503441  0.279188  0.499908  0.039318\n",
       "0.375  0.068012  0.119325  0.586924  0.041559\n",
       "0.750  0.000541  0.001864  0.688973  0.037712\n",
       "1.125  0.000200  0.000000  0.776229  0.032772\n",
       "1.500  0.000200  0.000000  0.844670  0.024719"
      ]
     },
     "execution_count": 72,
     "metadata": {},
     "output_type": "execute_result"
    }
   ],
   "source": [
    "maha_post.groupby(\"param\").agg({\"pval\":(\"mean\", \"std\"), \"score\":(\"mean\", \"std\")})"
   ]
  },
  {
   "cell_type": "code",
   "execution_count": 73,
   "metadata": {},
   "outputs": [
    {
     "data": {
      "text/html": [
       "<div>\n",
       "<style scoped>\n",
       "    .dataframe tbody tr th:only-of-type {\n",
       "        vertical-align: middle;\n",
       "    }\n",
       "\n",
       "    .dataframe tbody tr th {\n",
       "        vertical-align: top;\n",
       "    }\n",
       "\n",
       "    .dataframe thead tr th {\n",
       "        text-align: left;\n",
       "    }\n",
       "\n",
       "    .dataframe thead tr:last-of-type th {\n",
       "        text-align: right;\n",
       "    }\n",
       "</style>\n",
       "<table border=\"1\" class=\"dataframe\">\n",
       "  <thead>\n",
       "    <tr>\n",
       "      <th></th>\n",
       "      <th colspan=\"2\" halign=\"left\">pval</th>\n",
       "      <th colspan=\"2\" halign=\"left\">score</th>\n",
       "    </tr>\n",
       "    <tr>\n",
       "      <th></th>\n",
       "      <th>mean</th>\n",
       "      <th>std</th>\n",
       "      <th>mean</th>\n",
       "      <th>std</th>\n",
       "    </tr>\n",
       "    <tr>\n",
       "      <th>param</th>\n",
       "      <th></th>\n",
       "      <th></th>\n",
       "      <th></th>\n",
       "      <th></th>\n",
       "    </tr>\n",
       "  </thead>\n",
       "  <tbody>\n",
       "    <tr>\n",
       "      <th>0.000</th>\n",
       "      <td>0.483709</td>\n",
       "      <td>0.287623</td>\n",
       "      <td>0.502463</td>\n",
       "      <td>0.041182</td>\n",
       "    </tr>\n",
       "    <tr>\n",
       "      <th>0.375</th>\n",
       "      <td>0.090907</td>\n",
       "      <td>0.128532</td>\n",
       "      <td>0.584389</td>\n",
       "      <td>0.041220</td>\n",
       "    </tr>\n",
       "    <tr>\n",
       "      <th>0.750</th>\n",
       "      <td>0.004687</td>\n",
       "      <td>0.012503</td>\n",
       "      <td>0.686396</td>\n",
       "      <td>0.035799</td>\n",
       "    </tr>\n",
       "    <tr>\n",
       "      <th>1.125</th>\n",
       "      <td>0.000857</td>\n",
       "      <td>0.001231</td>\n",
       "      <td>0.776063</td>\n",
       "      <td>0.031669</td>\n",
       "    </tr>\n",
       "    <tr>\n",
       "      <th>1.500</th>\n",
       "      <td>0.000465</td>\n",
       "      <td>0.000402</td>\n",
       "      <td>0.844230</td>\n",
       "      <td>0.025807</td>\n",
       "    </tr>\n",
       "  </tbody>\n",
       "</table>\n",
       "</div>"
      ],
      "text/plain": [
       "           pval               score          \n",
       "           mean       std      mean       std\n",
       "param                                        \n",
       "0.000  0.483709  0.287623  0.502463  0.041182\n",
       "0.375  0.090907  0.128532  0.584389  0.041220\n",
       "0.750  0.004687  0.012503  0.686396  0.035799\n",
       "1.125  0.000857  0.001231  0.776063  0.031669\n",
       "1.500  0.000465  0.000402  0.844230  0.025807"
      ]
     },
     "execution_count": 73,
     "metadata": {},
     "output_type": "execute_result"
    }
   ],
   "source": [
    "maha_pre.groupby(\"param\").agg({\"pval\":(\"mean\", \"std\"), \"score\":(\"mean\", \"std\")})"
   ]
  },
  {
   "cell_type": "code",
   "execution_count": 74,
   "metadata": {},
   "outputs": [],
   "source": [
    "null_scores = maha_post.explode(\"perm_scores\").groupby(\"param\").agg({\"perm_scores\":(\"mean\", \"std\")})"
   ]
  },
  {
   "cell_type": "code",
   "execution_count": 62,
   "metadata": {},
   "outputs": [
    {
     "data": {
      "text/plain": [
       "(array([16., 18., 14., 20., 12., 18., 13., 14., 11., 14.]),\n",
       " array([0.00359928, 0.10085983, 0.19812038, 0.29538092, 0.39264147,\n",
       "        0.48990202, 0.58716257, 0.68442312, 0.78168366, 0.87894421,\n",
       "        0.97620476]),\n",
       " <BarContainer object of 10 artists>)"
      ]
     },
     "execution_count": 62,
     "metadata": {},
     "output_type": "execute_result"
    },
    {
     "data": {
      "image/png": "[encoded data removed]",
      "text/plain": [
       "<Figure size 432x288 with 1 Axes>"
      ]
     },
     "metadata": {
      "needs_background": "light"
     },
     "output_type": "display_data"
    }
   ],
   "source": [
    "plt.hist(maha_pre[maha_pre.param==0.]['pval'])"
   ]
  },
  {
   "cell_type": "code",
   "execution_count": 33,
   "metadata": {},
   "outputs": [
    {
     "data": {
      "text/plain": [
       "0.04"
      ]
     },
     "execution_count": 33,
     "metadata": {},
     "output_type": "execute_result"
    }
   ],
   "source": [
    "(maha_pre[maha_pre.param==0.]['pval'] < .05).mean()"
   ]
  },
  {
   "cell_type": "markdown",
   "metadata": {},
   "source": [
    "## Are we over-fitting or under-fitting?"
   ]
  },
  {
   "cell_type": "code",
   "execution_count": 103,
   "metadata": {},
   "outputs": [],
   "source": [
    "maha_pre['type'] = \"pre\"\n",
    "maha_post['type'] = \"post\"\n",
    "maha = pd.concat([maha_post, maha_pre])\n",
    "expected_auc = auc_from_maha(np.unique(maha[\"param\"]))"
   ]
  },
  {
   "cell_type": "code",
   "execution_count": 110,
   "metadata": {},
   "outputs": [
    {
     "data": {
      "image/png": "[encoded data removed]",
      "text/plain": [
       "<Figure size 432x288 with 1 Axes>"
      ]
     },
     "metadata": {
      "needs_background": "light"
     },
     "output_type": "display_data"
    }
   ],
   "source": [
    "ax = sns.pointplot(data=maha, x=\"param\", y=\"score\", hue='type', label=\"Actual AUC\")\n",
    "ax.plot(expected_auc, color='red', ls='--', marker='o', label = \"Expected AUC\")\n",
    "ax.set_xlabel(\"Mahalanobis distance\")\n",
    "ax.set_ylabel(\"AUC\")\n",
    "plt.grid(True, alpha=0.1)\n",
    "# plt.legend()\n",
    "# sns.pointplot(data=null_scores, x=\"param\", y=\"mean\")"
   ]
  },
  {
   "cell_type": "code",
   "execution_count": 68,
   "metadata": {},
   "outputs": [
    {
     "data": {
      "text/plain": [
       "(0.368359375, 1.0)"
      ]
     },
     "execution_count": 68,
     "metadata": {},
     "output_type": "execute_result"
    },
    {
     "data": {
      "text/plain": [
       "<Figure size 432x720 with 0 Axes>"
      ]
     },
     "metadata": {},
     "output_type": "display_data"
    },
    {
     "data": {
      "image/png": "[encoded data removed]",
      "text/plain": [
       "<Figure size 440.65x360 with 1 Axes>"
      ]
     },
     "metadata": {
      "needs_background": "light"
     },
     "output_type": "display_data"
    }
   ],
   "source": [
    "plt.figure(figsize=(6, 10))\n",
    "sns.catplot(data=maha, x='param', y='score', hue=\"type\", kind='strip')\n",
    "plt.ylim(None, 1)"
   ]
  },
  {
   "cell_type": "code",
   "execution_count": 35,
   "metadata": {},
   "outputs": [
    {
     "data": {
      "text/plain": [
       "(0.0, 1.0)"
      ]
     },
     "execution_count": 35,
     "metadata": {},
     "output_type": "execute_result"
    },
    {
     "data": {
      "image/png": "[encoded data removed]",
      "text/plain": [
       "<Figure size 360x360 with 1 Axes>"
      ]
     },
     "metadata": {
      "needs_background": "light"
     },
     "output_type": "display_data"
    }
   ],
   "source": [
    "sns.catplot(data=maha_post, x='param', y='pval', kind='strip')\n",
    "plt.ylim(0, 1)"
   ]
  },
  {
   "cell_type": "code",
   "execution_count": 97,
   "metadata": {},
   "outputs": [
    {
     "data": {
      "text/plain": [
       "<AxesSubplot:xlabel='param', ylabel='expected_auc'>"
      ]
     },
     "execution_count": 97,
     "metadata": {},
     "output_type": "execute_result"
    },
    {
     "data": {
      "image/png": "[encoded data removed]",
      "text/plain": [
       "<Figure size 432x288 with 1 Axes>"
      ]
     },
     "metadata": {
      "needs_background": "light"
     },
     "output_type": "display_data"
    }
   ],
   "source": [
    "ax = sns.pointplot(data=maha_pre, x=\"param\", y=\"score\",)\n",
    "sns.pointplot(data=maha_pre, x=\"param\", y=\"expected_auc\", ax=ax, color='red')"
   ]
  },
  {
   "cell_type": "code",
   "execution_count": 92,
   "metadata": {},
   "outputs": [],
   "source": [
    "samplesize_post = pd.read_pickle(\"simulate_samplesize_post.pkl\")\n",
    "samplesize_post['type'] = 'post'\n",
    "samplesize_pre = pd.read_pickle(\"simulate_samplesize_pre.pkl\")\n",
    "samplesize_pre['type'] = 'pre'\n",
    "samplesize = pd.concat([samplesize_post, samplesize_pre]).reset_index(drop=True)\n",
    "\n",
    "samplesize['pos'] = samplesize['pval']<=.05 "
   ]
  },
  {
   "cell_type": "code",
   "execution_count": 98,
   "metadata": {},
   "outputs": [
    {
     "data": {
      "text/plain": [
       "Text(0.5, 0, 'N samples')"
      ]
     },
     "execution_count": 98,
     "metadata": {},
     "output_type": "execute_result"
    },
    {
     "data": {
      "image/png": "[encoded data removed]",
      "text/plain": [
       "<Figure size 432x288 with 1 Axes>"
      ]
     },
     "metadata": {
      "needs_background": "light"
     },
     "output_type": "display_data"
    }
   ],
   "source": [
    "ax = sns.lineplot(data=samplesize, x=\"param\", y=\"pos\", hue='type')\n",
    "plt.xscale(\"log\")\n",
    "plt.ylabel(r\"$\\alpha$ value\")\n",
    "plt.xlabel(r\"N samples\")"
   ]
  },
  {
   "cell_type": "code",
   "execution_count": 24,
   "metadata": {},
   "outputs": [],
   "source": [
    "import time"
   ]
  },
  {
   "cell_type": "code",
   "execution_count": 25,
   "metadata": {},
   "outputs": [
    {
     "data": {
      "text/plain": [
       "'032023_14:25'"
      ]
     },
     "execution_count": 25,
     "metadata": {},
     "output_type": "execute_result"
    }
   ],
   "source": [
    "time.strftime(\"%m%d%y_%H:%M\")"
   ]
  },
  {
   "cell_type": "code",
   "execution_count": 83,
   "metadata": {},
   "outputs": [],
   "source": []
  },
  {
   "cell_type": "code",
   "execution_count": null,
   "metadata": {},
   "outputs": [],
   "source": [
    "samplesize"
   ]
  }
 ],
 "metadata": {
  "kernelspec": {
   "display_name": "py38",
   "language": "python",
   "name": "py38"
  },
  "language_info": {
   "codemirror_mode": {
    "name": "ipython",
    "version": 3
   },
   "file_extension": ".py",
   "mimetype": "text/x-python",
   "name": "python",
   "nbconvert_exporter": "python",
   "pygments_lexer": "ipython3",
   "version": "3.8.13"
  },
  "vscode": {
   "interpreter": {
    "hash": "1a3043ce43b8894bffef93d1839881ad472cb7607c1a3c9f1cfc63c042591dd0"
   }
  }
 },
 "nbformat": 4,
 "nbformat_minor": 4
}
