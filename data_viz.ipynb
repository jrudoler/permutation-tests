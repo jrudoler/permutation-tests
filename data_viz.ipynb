{
 "cells": [
  {
   "cell_type": "code",
   "execution_count": 1,
   "metadata": {},
   "outputs": [
    {
     "name": "stderr",
     "output_type": "stream",
     "text": [
      "/home1/jrudoler/anaconda3/envs/py38/lib/python3.8/site-packages/scipy/__init__.py:146: UserWarning: A NumPy version >=1.16.5 and <1.23.0 is required for this version of SciPy (detected version 1.23.1\n",
      "  warnings.warn(f\"A NumPy version >={np_minversion} and <{np_maxversion}\"\n"
     ]
    }
   ],
   "source": [
    "import matplotlib.pyplot as plt\n",
    "import seaborn as sns\n",
    "import numpy as np\n",
    "import pandas as pd\n",
    "\n",
    "from scipy.stats import norm\n",
    "def auc_from_maha(maha_dist: float):\n",
    "    auc = norm.cdf(np.sqrt(2)*maha_dist)\n",
    "    return auc"
   ]
  },
  {
   "cell_type": "code",
   "execution_count": 14,
   "metadata": {},
   "outputs": [
    {
     "data": {
      "text/html": [
       "<div>\n",
       "<style scoped>\n",
       "    .dataframe tbody tr th:only-of-type {\n",
       "        vertical-align: middle;\n",
       "    }\n",
       "\n",
       "    .dataframe tbody tr th {\n",
       "        vertical-align: top;\n",
       "    }\n",
       "\n",
       "    .dataframe thead th {\n",
       "        text-align: right;\n",
       "    }\n",
       "</style>\n",
       "<table border=\"1\" class=\"dataframe\">\n",
       "  <thead>\n",
       "    <tr style=\"text-align: right;\">\n",
       "      <th></th>\n",
       "      <th>param</th>\n",
       "      <th>score</th>\n",
       "      <th>perm_scores</th>\n",
       "      <th>pval</th>\n",
       "    </tr>\n",
       "  </thead>\n",
       "  <tbody>\n",
       "    <tr>\n",
       "      <th>0</th>\n",
       "      <td>0.0</td>\n",
       "      <td>0.505002</td>\n",
       "      <td>[0.4349739895958384, 0.5710284113645457, 0.539...</td>\n",
       "      <td>0.451710</td>\n",
       "    </tr>\n",
       "    <tr>\n",
       "      <th>1</th>\n",
       "      <td>0.0</td>\n",
       "      <td>0.485494</td>\n",
       "      <td>[0.5450180072028812, 0.49469787915166064, 0.41...</td>\n",
       "      <td>0.645271</td>\n",
       "    </tr>\n",
       "    <tr>\n",
       "      <th>2</th>\n",
       "      <td>0.0</td>\n",
       "      <td>0.576119</td>\n",
       "      <td>[0.47562806525873286, 0.45701131017916125, 0.5...</td>\n",
       "      <td>0.032993</td>\n",
       "    </tr>\n",
       "    <tr>\n",
       "      <th>3</th>\n",
       "      <td>0.0</td>\n",
       "      <td>0.477577</td>\n",
       "      <td>[0.48944805194805197, 0.4297889610389611, 0.53...</td>\n",
       "      <td>0.718656</td>\n",
       "    </tr>\n",
       "    <tr>\n",
       "      <th>4</th>\n",
       "      <td>0.0</td>\n",
       "      <td>0.527311</td>\n",
       "      <td>[0.5089035614245698, 0.4744897959183674, 0.498...</td>\n",
       "      <td>0.242951</td>\n",
       "    </tr>\n",
       "    <tr>\n",
       "      <th>...</th>\n",
       "      <td>...</td>\n",
       "      <td>...</td>\n",
       "      <td>...</td>\n",
       "      <td>...</td>\n",
       "    </tr>\n",
       "    <tr>\n",
       "      <th>2495</th>\n",
       "      <td>1.5</td>\n",
       "      <td>1.000000</td>\n",
       "      <td>[0.5687870565772285, 0.4587478645362275, 0.545...</td>\n",
       "      <td>0.000200</td>\n",
       "    </tr>\n",
       "    <tr>\n",
       "      <th>2496</th>\n",
       "      <td>1.5</td>\n",
       "      <td>1.000000</td>\n",
       "      <td>[0.40384615384615385, 0.5069110576923077, 0.51...</td>\n",
       "      <td>0.000200</td>\n",
       "    </tr>\n",
       "    <tr>\n",
       "      <th>2497</th>\n",
       "      <td>1.5</td>\n",
       "      <td>1.000000</td>\n",
       "      <td>[0.5094859241126071, 0.5617095063239494, 0.511...</td>\n",
       "      <td>0.000200</td>\n",
       "    </tr>\n",
       "    <tr>\n",
       "      <th>2498</th>\n",
       "      <td>1.5</td>\n",
       "      <td>1.000000</td>\n",
       "      <td>[0.4957495749574957, 0.45424542454245426, 0.49...</td>\n",
       "      <td>0.000200</td>\n",
       "    </tr>\n",
       "    <tr>\n",
       "      <th>2499</th>\n",
       "      <td>1.5</td>\n",
       "      <td>1.000000</td>\n",
       "      <td>[0.44843230164331077, 0.5373525557011795, 0.51...</td>\n",
       "      <td>0.000200</td>\n",
       "    </tr>\n",
       "  </tbody>\n",
       "</table>\n",
       "<p>2500 rows × 4 columns</p>\n",
       "</div>"
      ],
      "text/plain": [
       "      param     score                                        perm_scores  \\\n",
       "0       0.0  0.505002  [0.4349739895958384, 0.5710284113645457, 0.539...   \n",
       "1       0.0  0.485494  [0.5450180072028812, 0.49469787915166064, 0.41...   \n",
       "2       0.0  0.576119  [0.47562806525873286, 0.45701131017916125, 0.5...   \n",
       "3       0.0  0.477577  [0.48944805194805197, 0.4297889610389611, 0.53...   \n",
       "4       0.0  0.527311  [0.5089035614245698, 0.4744897959183674, 0.498...   \n",
       "...     ...       ...                                                ...   \n",
       "2495    1.5  1.000000  [0.5687870565772285, 0.4587478645362275, 0.545...   \n",
       "2496    1.5  1.000000  [0.40384615384615385, 0.5069110576923077, 0.51...   \n",
       "2497    1.5  1.000000  [0.5094859241126071, 0.5617095063239494, 0.511...   \n",
       "2498    1.5  1.000000  [0.4957495749574957, 0.45424542454245426, 0.49...   \n",
       "2499    1.5  1.000000  [0.44843230164331077, 0.5373525557011795, 0.51...   \n",
       "\n",
       "          pval  \n",
       "0     0.451710  \n",
       "1     0.645271  \n",
       "2     0.032993  \n",
       "3     0.718656  \n",
       "4     0.242951  \n",
       "...        ...  \n",
       "2495  0.000200  \n",
       "2496  0.000200  \n",
       "2497  0.000200  \n",
       "2498  0.000200  \n",
       "2499  0.000200  \n",
       "\n",
       "[2500 rows x 4 columns]"
      ]
     },
     "execution_count": 14,
     "metadata": {},
     "output_type": "execute_result"
    }
   ],
   "source": [
    "maha_post = pd.read_pickle(\"simulate_maha_post.pkl\")\n",
    "maha_pre = pd.read_pickle(\"simulate_maha_pre.pkl\")\n",
    "maha_post"
   ]
  },
  {
   "cell_type": "code",
   "execution_count": 5,
   "metadata": {},
   "outputs": [
    {
     "data": {
      "text/html": [
       "<div>\n",
       "<style scoped>\n",
       "    .dataframe tbody tr th:only-of-type {\n",
       "        vertical-align: middle;\n",
       "    }\n",
       "\n",
       "    .dataframe tbody tr th {\n",
       "        vertical-align: top;\n",
       "    }\n",
       "\n",
       "    .dataframe thead th {\n",
       "        text-align: right;\n",
       "    }\n",
       "</style>\n",
       "<table border=\"1\" class=\"dataframe\">\n",
       "  <thead>\n",
       "    <tr style=\"text-align: right;\">\n",
       "      <th></th>\n",
       "      <th>param</th>\n",
       "      <th>score</th>\n",
       "      <th>perm_scores</th>\n",
       "      <th>pval</th>\n",
       "    </tr>\n",
       "  </thead>\n",
       "  <tbody>\n",
       "    <tr>\n",
       "      <th>0</th>\n",
       "      <td>0.0</td>\n",
       "      <td>0.505002</td>\n",
       "      <td>[0.4349739895958384, 0.5710284113645457, 0.539...</td>\n",
       "      <td>0.451710</td>\n",
       "    </tr>\n",
       "    <tr>\n",
       "      <th>1</th>\n",
       "      <td>0.0</td>\n",
       "      <td>0.485494</td>\n",
       "      <td>[0.5450180072028812, 0.49469787915166064, 0.41...</td>\n",
       "      <td>0.645271</td>\n",
       "    </tr>\n",
       "    <tr>\n",
       "      <th>2</th>\n",
       "      <td>0.0</td>\n",
       "      <td>0.576119</td>\n",
       "      <td>[0.47562806525873286, 0.45701131017916125, 0.5...</td>\n",
       "      <td>0.032993</td>\n",
       "    </tr>\n",
       "    <tr>\n",
       "      <th>3</th>\n",
       "      <td>0.0</td>\n",
       "      <td>0.477577</td>\n",
       "      <td>[0.48944805194805197, 0.4297889610389611, 0.53...</td>\n",
       "      <td>0.718656</td>\n",
       "    </tr>\n",
       "    <tr>\n",
       "      <th>4</th>\n",
       "      <td>0.0</td>\n",
       "      <td>0.527311</td>\n",
       "      <td>[0.5089035614245698, 0.4744897959183674, 0.498...</td>\n",
       "      <td>0.242951</td>\n",
       "    </tr>\n",
       "    <tr>\n",
       "      <th>...</th>\n",
       "      <td>...</td>\n",
       "      <td>...</td>\n",
       "      <td>...</td>\n",
       "      <td>...</td>\n",
       "    </tr>\n",
       "    <tr>\n",
       "      <th>2495</th>\n",
       "      <td>1.5</td>\n",
       "      <td>1.000000</td>\n",
       "      <td>[0.5687870565772285, 0.4587478645362275, 0.545...</td>\n",
       "      <td>0.000200</td>\n",
       "    </tr>\n",
       "    <tr>\n",
       "      <th>2496</th>\n",
       "      <td>1.5</td>\n",
       "      <td>1.000000</td>\n",
       "      <td>[0.40384615384615385, 0.5069110576923077, 0.51...</td>\n",
       "      <td>0.000200</td>\n",
       "    </tr>\n",
       "    <tr>\n",
       "      <th>2497</th>\n",
       "      <td>1.5</td>\n",
       "      <td>1.000000</td>\n",
       "      <td>[0.5094859241126071, 0.5617095063239494, 0.511...</td>\n",
       "      <td>0.000200</td>\n",
       "    </tr>\n",
       "    <tr>\n",
       "      <th>2498</th>\n",
       "      <td>1.5</td>\n",
       "      <td>1.000000</td>\n",
       "      <td>[0.4957495749574957, 0.45424542454245426, 0.49...</td>\n",
       "      <td>0.000200</td>\n",
       "    </tr>\n",
       "    <tr>\n",
       "      <th>2499</th>\n",
       "      <td>1.5</td>\n",
       "      <td>1.000000</td>\n",
       "      <td>[0.44843230164331077, 0.5373525557011795, 0.51...</td>\n",
       "      <td>0.000200</td>\n",
       "    </tr>\n",
       "  </tbody>\n",
       "</table>\n",
       "<p>2500 rows × 4 columns</p>\n",
       "</div>"
      ],
      "text/plain": [
       "      param     score                                        perm_scores  \\\n",
       "0       0.0  0.505002  [0.4349739895958384, 0.5710284113645457, 0.539...   \n",
       "1       0.0  0.485494  [0.5450180072028812, 0.49469787915166064, 0.41...   \n",
       "2       0.0  0.576119  [0.47562806525873286, 0.45701131017916125, 0.5...   \n",
       "3       0.0  0.477577  [0.48944805194805197, 0.4297889610389611, 0.53...   \n",
       "4       0.0  0.527311  [0.5089035614245698, 0.4744897959183674, 0.498...   \n",
       "...     ...       ...                                                ...   \n",
       "2495    1.5  1.000000  [0.5687870565772285, 0.4587478645362275, 0.545...   \n",
       "2496    1.5  1.000000  [0.40384615384615385, 0.5069110576923077, 0.51...   \n",
       "2497    1.5  1.000000  [0.5094859241126071, 0.5617095063239494, 0.511...   \n",
       "2498    1.5  1.000000  [0.4957495749574957, 0.45424542454245426, 0.49...   \n",
       "2499    1.5  1.000000  [0.44843230164331077, 0.5373525557011795, 0.51...   \n",
       "\n",
       "          pval  \n",
       "0     0.451710  \n",
       "1     0.645271  \n",
       "2     0.032993  \n",
       "3     0.718656  \n",
       "4     0.242951  \n",
       "...        ...  \n",
       "2495  0.000200  \n",
       "2496  0.000200  \n",
       "2497  0.000200  \n",
       "2498  0.000200  \n",
       "2499  0.000200  \n",
       "\n",
       "[2500 rows x 4 columns]"
      ]
     },
     "execution_count": 5,
     "metadata": {},
     "output_type": "execute_result"
    }
   ],
   "source": [
    "maha_post"
   ]
  },
  {
   "cell_type": "code",
   "execution_count": 3,
   "metadata": {},
   "outputs": [
    {
     "data": {
      "text/html": [
       "<div>\n",
       "<style scoped>\n",
       "    .dataframe tbody tr th:only-of-type {\n",
       "        vertical-align: middle;\n",
       "    }\n",
       "\n",
       "    .dataframe tbody tr th {\n",
       "        vertical-align: top;\n",
       "    }\n",
       "\n",
       "    .dataframe thead tr th {\n",
       "        text-align: left;\n",
       "    }\n",
       "\n",
       "    .dataframe thead tr:last-of-type th {\n",
       "        text-align: right;\n",
       "    }\n",
       "</style>\n",
       "<table border=\"1\" class=\"dataframe\">\n",
       "  <thead>\n",
       "    <tr>\n",
       "      <th></th>\n",
       "      <th colspan=\"2\" halign=\"left\">pval</th>\n",
       "      <th colspan=\"2\" halign=\"left\">score</th>\n",
       "    </tr>\n",
       "    <tr>\n",
       "      <th></th>\n",
       "      <th>mean</th>\n",
       "      <th>std</th>\n",
       "      <th>mean</th>\n",
       "      <th>std</th>\n",
       "    </tr>\n",
       "    <tr>\n",
       "      <th>param</th>\n",
       "      <th></th>\n",
       "      <th></th>\n",
       "      <th></th>\n",
       "      <th></th>\n",
       "    </tr>\n",
       "  </thead>\n",
       "  <tbody>\n",
       "    <tr>\n",
       "      <th>0.000</th>\n",
       "      <td>0.509041</td>\n",
       "      <td>0.288826</td>\n",
       "      <td>0.499095</td>\n",
       "      <td>0.041168</td>\n",
       "    </tr>\n",
       "    <tr>\n",
       "      <th>0.375</th>\n",
       "      <td>0.000200</td>\n",
       "      <td>0.000000</td>\n",
       "      <td>1.000000</td>\n",
       "      <td>0.000000</td>\n",
       "    </tr>\n",
       "    <tr>\n",
       "      <th>0.750</th>\n",
       "      <td>0.000200</td>\n",
       "      <td>0.000000</td>\n",
       "      <td>1.000000</td>\n",
       "      <td>0.000000</td>\n",
       "    </tr>\n",
       "    <tr>\n",
       "      <th>1.125</th>\n",
       "      <td>0.000200</td>\n",
       "      <td>0.000000</td>\n",
       "      <td>1.000000</td>\n",
       "      <td>0.000000</td>\n",
       "    </tr>\n",
       "    <tr>\n",
       "      <th>1.500</th>\n",
       "      <td>0.000200</td>\n",
       "      <td>0.000000</td>\n",
       "      <td>1.000000</td>\n",
       "      <td>0.000000</td>\n",
       "    </tr>\n",
       "  </tbody>\n",
       "</table>\n",
       "</div>"
      ],
      "text/plain": [
       "           pval               score          \n",
       "           mean       std      mean       std\n",
       "param                                        \n",
       "0.000  0.509041  0.288826  0.499095  0.041168\n",
       "0.375  0.000200  0.000000  1.000000  0.000000\n",
       "0.750  0.000200  0.000000  1.000000  0.000000\n",
       "1.125  0.000200  0.000000  1.000000  0.000000\n",
       "1.500  0.000200  0.000000  1.000000  0.000000"
      ]
     },
     "execution_count": 3,
     "metadata": {},
     "output_type": "execute_result"
    }
   ],
   "source": [
    "maha_post.groupby(\"param\").agg({\"pval\":(\"mean\", \"std\"), \"score\":(\"mean\", \"std\")})"
   ]
  },
  {
   "cell_type": "code",
   "execution_count": 10,
   "metadata": {},
   "outputs": [
    {
     "data": {
      "text/html": [
       "<div>\n",
       "<style scoped>\n",
       "    .dataframe tbody tr th:only-of-type {\n",
       "        vertical-align: middle;\n",
       "    }\n",
       "\n",
       "    .dataframe tbody tr th {\n",
       "        vertical-align: top;\n",
       "    }\n",
       "\n",
       "    .dataframe thead tr th {\n",
       "        text-align: left;\n",
       "    }\n",
       "\n",
       "    .dataframe thead tr:last-of-type th {\n",
       "        text-align: right;\n",
       "    }\n",
       "</style>\n",
       "<table border=\"1\" class=\"dataframe\">\n",
       "  <thead>\n",
       "    <tr>\n",
       "      <th></th>\n",
       "      <th colspan=\"2\" halign=\"left\">pval</th>\n",
       "      <th colspan=\"2\" halign=\"left\">score</th>\n",
       "    </tr>\n",
       "    <tr>\n",
       "      <th></th>\n",
       "      <th>mean</th>\n",
       "      <th>std</th>\n",
       "      <th>mean</th>\n",
       "      <th>std</th>\n",
       "    </tr>\n",
       "    <tr>\n",
       "      <th>param</th>\n",
       "      <th></th>\n",
       "      <th></th>\n",
       "      <th></th>\n",
       "      <th></th>\n",
       "    </tr>\n",
       "  </thead>\n",
       "  <tbody>\n",
       "    <tr>\n",
       "      <th>0.000</th>\n",
       "      <td>0.466633</td>\n",
       "      <td>0.277919</td>\n",
       "      <td>0.504976</td>\n",
       "      <td>0.038759</td>\n",
       "    </tr>\n",
       "    <tr>\n",
       "      <th>0.375</th>\n",
       "      <td>0.488358</td>\n",
       "      <td>0.007462</td>\n",
       "      <td>1.000000</td>\n",
       "      <td>0.000000</td>\n",
       "    </tr>\n",
       "    <tr>\n",
       "      <th>0.750</th>\n",
       "      <td>0.484547</td>\n",
       "      <td>0.007712</td>\n",
       "      <td>1.000000</td>\n",
       "      <td>0.000000</td>\n",
       "    </tr>\n",
       "    <tr>\n",
       "      <th>1.125</th>\n",
       "      <td>0.481574</td>\n",
       "      <td>0.007913</td>\n",
       "      <td>1.000000</td>\n",
       "      <td>0.000000</td>\n",
       "    </tr>\n",
       "    <tr>\n",
       "      <th>1.500</th>\n",
       "      <td>0.475625</td>\n",
       "      <td>0.007601</td>\n",
       "      <td>1.000000</td>\n",
       "      <td>0.000000</td>\n",
       "    </tr>\n",
       "  </tbody>\n",
       "</table>\n",
       "</div>"
      ],
      "text/plain": [
       "           pval               score          \n",
       "           mean       std      mean       std\n",
       "param                                        \n",
       "0.000  0.466633  0.277919  0.504976  0.038759\n",
       "0.375  0.488358  0.007462  1.000000  0.000000\n",
       "0.750  0.484547  0.007712  1.000000  0.000000\n",
       "1.125  0.481574  0.007913  1.000000  0.000000\n",
       "1.500  0.475625  0.007601  1.000000  0.000000"
      ]
     },
     "execution_count": 10,
     "metadata": {},
     "output_type": "execute_result"
    }
   ],
   "source": [
    "maha_pre.groupby(\"param\").agg({\"pval\":(\"mean\", \"std\"), \"score\":(\"mean\", \"std\")})"
   ]
  },
  {
   "cell_type": "code",
   "execution_count": 5,
   "metadata": {},
   "outputs": [],
   "source": [
    "null_scores = maha_post.explode(\"perm_scores\").groupby(\"param\").agg({\"perm_scores\":(\"mean\", \"std\")})"
   ]
  },
  {
   "cell_type": "code",
   "execution_count": 6,
   "metadata": {},
   "outputs": [
    {
     "data": {
      "text/plain": [
       "(array([14., 13.,  4.,  9.,  8., 11., 13., 10.,  7., 11.]),\n",
       " array([0.01159768, 0.1094781 , 0.20735853, 0.30523895, 0.40311938,\n",
       "        0.5009998 , 0.59888022, 0.69676065, 0.79464107, 0.8925215 ,\n",
       "        0.99040192]),\n",
       " <BarContainer object of 10 artists>)"
      ]
     },
     "execution_count": 6,
     "metadata": {},
     "output_type": "execute_result"
    },
    {
     "data": {
      "image/png": "[encoded data removed]",
      "text/plain": [
       "<Figure size 432x288 with 1 Axes>"
      ]
     },
     "metadata": {
      "needs_background": "light"
     },
     "output_type": "display_data"
    }
   ],
   "source": [
    "plt.hist(maha_pre[maha_pre.param==0.]['pval'])"
   ]
  },
  {
   "cell_type": "code",
   "execution_count": 7,
   "metadata": {},
   "outputs": [
    {
     "data": {
      "text/plain": [
       "0.08"
      ]
     },
     "execution_count": 7,
     "metadata": {},
     "output_type": "execute_result"
    }
   ],
   "source": [
    "(maha_pre[maha_pre.param==0.]['pval'] < .05).mean()"
   ]
  },
  {
   "cell_type": "markdown",
   "metadata": {},
   "source": [
    "## Are we over-fitting or under-fitting?"
   ]
  },
  {
   "cell_type": "code",
   "execution_count": 15,
   "metadata": {},
   "outputs": [],
   "source": [
    "maha_pre['expected_auc']= maha_pre['param'].apply(auc_from_maha)\n",
    "maha_pre['type'] = \"pre\"\n",
    "maha_post['expected_auc']= maha_post['param'].apply(auc_from_maha)\n",
    "maha_post['type'] = \"post\""
   ]
  },
  {
   "cell_type": "code",
   "execution_count": 16,
   "metadata": {},
   "outputs": [
    {
     "data": {
      "text/plain": [
       "<AxesSubplot:xlabel='param', ylabel='expected_auc'>"
      ]
     },
     "execution_count": 16,
     "metadata": {},
     "output_type": "execute_result"
    },
    {
     "data": {
      "image/png": "[encoded data removed]",
      "text/plain": [
       "<Figure size 432x288 with 1 Axes>"
      ]
     },
     "metadata": {
      "needs_background": "light"
     },
     "output_type": "display_data"
    }
   ],
   "source": [
    "ax = sns.pointplot(data=maha_post, x=\"param\", y=\"score\", label=\"Actual AUC\")\n",
    "sns.pointplot(data=maha_post, x=\"param\", y=\"expected_auc\", ax =ax, color='red', label = \"Expected AUC\")\n",
    "# sns.pointplot(data=null_scores, x=\"param\", y=\"mean\")"
   ]
  },
  {
   "cell_type": "code",
   "execution_count": 10,
   "metadata": {},
   "outputs": [],
   "source": [
    "maha = pd.concat([maha_post, maha_pre])"
   ]
  },
  {
   "cell_type": "code",
   "execution_count": 37,
   "metadata": {
    "collapsed": true,
    "jupyter": {
     "outputs_hidden": true
    },
    "tags": []
   },
   "outputs": [
    {
     "data": {
      "text/plain": [
       "\u001b[0;31mSignature:\u001b[0m\n",
       "\u001b[0msns\u001b[0m\u001b[0;34m.\u001b[0m\u001b[0mcatplot\u001b[0m\u001b[0;34m(\u001b[0m\u001b[0;34m\u001b[0m\n",
       "\u001b[0;34m\u001b[0m    \u001b[0;34m*\u001b[0m\u001b[0;34m,\u001b[0m\u001b[0;34m\u001b[0m\n",
       "\u001b[0;34m\u001b[0m    \u001b[0mx\u001b[0m\u001b[0;34m=\u001b[0m\u001b[0;32mNone\u001b[0m\u001b[0;34m,\u001b[0m\u001b[0;34m\u001b[0m\n",
       "\u001b[0;34m\u001b[0m    \u001b[0my\u001b[0m\u001b[0;34m=\u001b[0m\u001b[0;32mNone\u001b[0m\u001b[0;34m,\u001b[0m\u001b[0;34m\u001b[0m\n",
       "\u001b[0;34m\u001b[0m    \u001b[0mhue\u001b[0m\u001b[0;34m=\u001b[0m\u001b[0;32mNone\u001b[0m\u001b[0;34m,\u001b[0m\u001b[0;34m\u001b[0m\n",
       "\u001b[0;34m\u001b[0m    \u001b[0mdata\u001b[0m\u001b[0;34m=\u001b[0m\u001b[0;32mNone\u001b[0m\u001b[0;34m,\u001b[0m\u001b[0;34m\u001b[0m\n",
       "\u001b[0;34m\u001b[0m    \u001b[0mrow\u001b[0m\u001b[0;34m=\u001b[0m\u001b[0;32mNone\u001b[0m\u001b[0;34m,\u001b[0m\u001b[0;34m\u001b[0m\n",
       "\u001b[0;34m\u001b[0m    \u001b[0mcol\u001b[0m\u001b[0;34m=\u001b[0m\u001b[0;32mNone\u001b[0m\u001b[0;34m,\u001b[0m\u001b[0;34m\u001b[0m\n",
       "\u001b[0;34m\u001b[0m    \u001b[0mcol_wrap\u001b[0m\u001b[0;34m=\u001b[0m\u001b[0;32mNone\u001b[0m\u001b[0;34m,\u001b[0m\u001b[0;34m\u001b[0m\n",
       "\u001b[0;34m\u001b[0m    \u001b[0mestimator\u001b[0m\u001b[0;34m=\u001b[0m\u001b[0;34m<\u001b[0m\u001b[0mfunction\u001b[0m \u001b[0mmean\u001b[0m \u001b[0mat\u001b[0m \u001b[0;36m0x2ac4ba52f550\u001b[0m\u001b[0;34m>\u001b[0m\u001b[0;34m,\u001b[0m\u001b[0;34m\u001b[0m\n",
       "\u001b[0;34m\u001b[0m    \u001b[0mci\u001b[0m\u001b[0;34m=\u001b[0m\u001b[0;36m95\u001b[0m\u001b[0;34m,\u001b[0m\u001b[0;34m\u001b[0m\n",
       "\u001b[0;34m\u001b[0m    \u001b[0mn_boot\u001b[0m\u001b[0;34m=\u001b[0m\u001b[0;36m1000\u001b[0m\u001b[0;34m,\u001b[0m\u001b[0;34m\u001b[0m\n",
       "\u001b[0;34m\u001b[0m    \u001b[0munits\u001b[0m\u001b[0;34m=\u001b[0m\u001b[0;32mNone\u001b[0m\u001b[0;34m,\u001b[0m\u001b[0;34m\u001b[0m\n",
       "\u001b[0;34m\u001b[0m    \u001b[0mseed\u001b[0m\u001b[0;34m=\u001b[0m\u001b[0;32mNone\u001b[0m\u001b[0;34m,\u001b[0m\u001b[0;34m\u001b[0m\n",
       "\u001b[0;34m\u001b[0m    \u001b[0morder\u001b[0m\u001b[0;34m=\u001b[0m\u001b[0;32mNone\u001b[0m\u001b[0;34m,\u001b[0m\u001b[0;34m\u001b[0m\n",
       "\u001b[0;34m\u001b[0m    \u001b[0mhue_order\u001b[0m\u001b[0;34m=\u001b[0m\u001b[0;32mNone\u001b[0m\u001b[0;34m,\u001b[0m\u001b[0;34m\u001b[0m\n",
       "\u001b[0;34m\u001b[0m    \u001b[0mrow_order\u001b[0m\u001b[0;34m=\u001b[0m\u001b[0;32mNone\u001b[0m\u001b[0;34m,\u001b[0m\u001b[0;34m\u001b[0m\n",
       "\u001b[0;34m\u001b[0m    \u001b[0mcol_order\u001b[0m\u001b[0;34m=\u001b[0m\u001b[0;32mNone\u001b[0m\u001b[0;34m,\u001b[0m\u001b[0;34m\u001b[0m\n",
       "\u001b[0;34m\u001b[0m    \u001b[0mkind\u001b[0m\u001b[0;34m=\u001b[0m\u001b[0;34m'strip'\u001b[0m\u001b[0;34m,\u001b[0m\u001b[0;34m\u001b[0m\n",
       "\u001b[0;34m\u001b[0m    \u001b[0mheight\u001b[0m\u001b[0;34m=\u001b[0m\u001b[0;36m5\u001b[0m\u001b[0;34m,\u001b[0m\u001b[0;34m\u001b[0m\n",
       "\u001b[0;34m\u001b[0m    \u001b[0maspect\u001b[0m\u001b[0;34m=\u001b[0m\u001b[0;36m1\u001b[0m\u001b[0;34m,\u001b[0m\u001b[0;34m\u001b[0m\n",
       "\u001b[0;34m\u001b[0m    \u001b[0morient\u001b[0m\u001b[0;34m=\u001b[0m\u001b[0;32mNone\u001b[0m\u001b[0;34m,\u001b[0m\u001b[0;34m\u001b[0m\n",
       "\u001b[0;34m\u001b[0m    \u001b[0mcolor\u001b[0m\u001b[0;34m=\u001b[0m\u001b[0;32mNone\u001b[0m\u001b[0;34m,\u001b[0m\u001b[0;34m\u001b[0m\n",
       "\u001b[0;34m\u001b[0m    \u001b[0mpalette\u001b[0m\u001b[0;34m=\u001b[0m\u001b[0;32mNone\u001b[0m\u001b[0;34m,\u001b[0m\u001b[0;34m\u001b[0m\n",
       "\u001b[0;34m\u001b[0m    \u001b[0mlegend\u001b[0m\u001b[0;34m=\u001b[0m\u001b[0;32mTrue\u001b[0m\u001b[0;34m,\u001b[0m\u001b[0;34m\u001b[0m\n",
       "\u001b[0;34m\u001b[0m    \u001b[0mlegend_out\u001b[0m\u001b[0;34m=\u001b[0m\u001b[0;32mTrue\u001b[0m\u001b[0;34m,\u001b[0m\u001b[0;34m\u001b[0m\n",
       "\u001b[0;34m\u001b[0m    \u001b[0msharex\u001b[0m\u001b[0;34m=\u001b[0m\u001b[0;32mTrue\u001b[0m\u001b[0;34m,\u001b[0m\u001b[0;34m\u001b[0m\n",
       "\u001b[0;34m\u001b[0m    \u001b[0msharey\u001b[0m\u001b[0;34m=\u001b[0m\u001b[0;32mTrue\u001b[0m\u001b[0;34m,\u001b[0m\u001b[0;34m\u001b[0m\n",
       "\u001b[0;34m\u001b[0m    \u001b[0mmargin_titles\u001b[0m\u001b[0;34m=\u001b[0m\u001b[0;32mFalse\u001b[0m\u001b[0;34m,\u001b[0m\u001b[0;34m\u001b[0m\n",
       "\u001b[0;34m\u001b[0m    \u001b[0mfacet_kws\u001b[0m\u001b[0;34m=\u001b[0m\u001b[0;32mNone\u001b[0m\u001b[0;34m,\u001b[0m\u001b[0;34m\u001b[0m\n",
       "\u001b[0;34m\u001b[0m    \u001b[0;34m**\u001b[0m\u001b[0mkwargs\u001b[0m\u001b[0;34m,\u001b[0m\u001b[0;34m\u001b[0m\n",
       "\u001b[0;34m\u001b[0m\u001b[0;34m)\u001b[0m\u001b[0;34m\u001b[0m\u001b[0;34m\u001b[0m\u001b[0m\n",
       "\u001b[0;31mDocstring:\u001b[0m\n",
       "Figure-level interface for drawing categorical plots onto a FacetGrid.\n",
       "\n",
       "This function provides access to several axes-level functions that\n",
       "show the relationship between a numerical and one or more categorical\n",
       "variables using one of several visual representations. The ``kind``\n",
       "parameter selects the underlying axes-level function to use:\n",
       "\n",
       "Categorical scatterplots:\n",
       "\n",
       "- :func:`stripplot` (with ``kind=\"strip\"``; the default)\n",
       "- :func:`swarmplot` (with ``kind=\"swarm\"``)\n",
       "\n",
       "Categorical distribution plots:\n",
       "\n",
       "- :func:`boxplot` (with ``kind=\"box\"``)\n",
       "- :func:`violinplot` (with ``kind=\"violin\"``)\n",
       "- :func:`boxenplot` (with ``kind=\"boxen\"``)\n",
       "\n",
       "Categorical estimate plots:\n",
       "\n",
       "- :func:`pointplot` (with ``kind=\"point\"``)\n",
       "- :func:`barplot` (with ``kind=\"bar\"``)\n",
       "- :func:`countplot` (with ``kind=\"count\"``)\n",
       "\n",
       "Extra keyword arguments are passed to the underlying function, so you\n",
       "should refer to the documentation for each to see kind-specific options.\n",
       "\n",
       "Note that unlike when using the axes-level functions directly, data must be\n",
       "passed in a long-form DataFrame with variables specified by passing strings\n",
       "to ``x``, ``y``, ``hue``, etc.\n",
       "\n",
       "As in the case with the underlying plot functions, if variables have a\n",
       "``categorical`` data type, the levels of the categorical variables, and\n",
       "their order will be inferred from the objects. Otherwise you may have to\n",
       "use alter the dataframe sorting or use the function parameters (``orient``,\n",
       "``order``, ``hue_order``, etc.) to set up the plot correctly.\n",
       "\n",
       "This function always treats one of the variables as categorical and\n",
       "draws data at ordinal positions (0, 1, ... n) on the relevant axis, even\n",
       "when the data has a numeric or date type.\n",
       "\n",
       "See the :ref:`tutorial <categorical_tutorial>` for more information.    \n",
       "\n",
       "After plotting, the :class:`FacetGrid` with the plot is returned and can\n",
       "be used directly to tweak supporting plot details or add other layers.\n",
       "\n",
       "Parameters\n",
       "----------\n",
       "x, y, hue : names of variables in ``data``\n",
       "    Inputs for plotting long-form data. See examples for interpretation.        \n",
       "data : DataFrame\n",
       "    Long-form (tidy) dataset for plotting. Each column should correspond\n",
       "    to a variable, and each row should correspond to an observation.    \n",
       "row, col : names of variables in ``data``, optional\n",
       "    Categorical variables that will determine the faceting of the grid.\n",
       "col_wrap : int\n",
       "    \"Wrap\" the column variable at this width, so that the column facets\n",
       "    span multiple rows. Incompatible with a ``row`` facet.    \n",
       "estimator : callable that maps vector -> scalar, optional\n",
       "    Statistical function to estimate within each categorical bin.\n",
       "ci : float or \"sd\" or None, optional\n",
       "    Size of confidence intervals to draw around estimated values.  If\n",
       "    \"sd\", skip bootstrapping and draw the standard deviation of the\n",
       "    observations. If ``None``, no bootstrapping will be performed, and\n",
       "    error bars will not be drawn.\n",
       "n_boot : int, optional\n",
       "    Number of bootstrap iterations to use when computing confidence\n",
       "    intervals.\n",
       "units : name of variable in ``data`` or vector data, optional\n",
       "    Identifier of sampling units, which will be used to perform a\n",
       "    multilevel bootstrap and account for repeated measures design.\n",
       "seed : int, numpy.random.Generator, or numpy.random.RandomState, optional\n",
       "    Seed or random number generator for reproducible bootstrapping.    \n",
       "order, hue_order : lists of strings, optional\n",
       "    Order to plot the categorical levels in, otherwise the levels are\n",
       "    inferred from the data objects.        \n",
       "row_order, col_order : lists of strings, optional\n",
       "    Order to organize the rows and/or columns of the grid in, otherwise the\n",
       "    orders are inferred from the data objects.\n",
       "kind : str, optional\n",
       "    The kind of plot to draw, corresponds to the name of a categorical\n",
       "    axes-level plotting function. Options are: \"strip\", \"swarm\", \"box\", \"violin\",\n",
       "    \"boxen\", \"point\", \"bar\", or \"count\".\n",
       "height : scalar\n",
       "    Height (in inches) of each facet. See also: ``aspect``.    \n",
       "aspect : scalar\n",
       "    Aspect ratio of each facet, so that ``aspect * height`` gives the width\n",
       "    of each facet in inches.    \n",
       "orient : \"v\" | \"h\", optional\n",
       "    Orientation of the plot (vertical or horizontal). This is usually\n",
       "    inferred based on the type of the input variables, but it can be used\n",
       "    to resolve ambiguity when both `x` and `y` are numeric or when\n",
       "    plotting wide-form data.    \n",
       "color : matplotlib color, optional\n",
       "    Color for all of the elements, or seed for a gradient palette.    \n",
       "palette : palette name, list, or dict\n",
       "    Colors to use for the different levels of the ``hue`` variable. Should\n",
       "    be something that can be interpreted by :func:`color_palette`, or a\n",
       "    dictionary mapping hue levels to matplotlib colors.    \n",
       "legend : bool, optional\n",
       "    If ``True`` and there is a ``hue`` variable, draw a legend on the plot.\n",
       "legend_out : bool\n",
       "    If ``True``, the figure size will be extended, and the legend will be\n",
       "    drawn outside the plot on the center right.    \n",
       "share{x,y} : bool, 'col', or 'row' optional\n",
       "    If true, the facets will share y axes across columns and/or x axes\n",
       "    across rows.    \n",
       "margin_titles : bool\n",
       "    If ``True``, the titles for the row variable are drawn to the right of\n",
       "    the last column. This option is experimental and may not work in all\n",
       "    cases.    \n",
       "facet_kws : dict, optional\n",
       "    Dictionary of other keyword arguments to pass to :class:`FacetGrid`.\n",
       "kwargs : key, value pairings\n",
       "    Other keyword arguments are passed through to the underlying plotting\n",
       "    function.\n",
       "\n",
       "Returns\n",
       "-------\n",
       "g : :class:`FacetGrid`\n",
       "    Returns the :class:`FacetGrid` object with the plot on it for further\n",
       "    tweaking.\n",
       "\n",
       "Examples\n",
       "--------\n",
       "\n",
       "Draw a single facet to use the :class:`FacetGrid` legend placement:\n",
       "\n",
       ".. plot::\n",
       "    :context: close-figs\n",
       "\n",
       "    >>> import seaborn as sns\n",
       "    >>> sns.set_theme(style=\"ticks\")\n",
       "    >>> exercise = sns.load_dataset(\"exercise\")\n",
       "    >>> g = sns.catplot(x=\"time\", y=\"pulse\", hue=\"kind\", data=exercise)\n",
       "\n",
       "Use a different plot kind to visualize the same data:\n",
       "\n",
       ".. plot::\n",
       "    :context: close-figs\n",
       "\n",
       "    >>> g = sns.catplot(x=\"time\", y=\"pulse\", hue=\"kind\",\n",
       "    ...                data=exercise, kind=\"violin\")\n",
       "\n",
       "Facet along the columns to show a third categorical variable:\n",
       "\n",
       ".. plot::\n",
       "    :context: close-figs\n",
       "\n",
       "    >>> g = sns.catplot(x=\"time\", y=\"pulse\", hue=\"kind\",\n",
       "    ...                 col=\"diet\", data=exercise)\n",
       "\n",
       "Use a different height and aspect ratio for the facets:\n",
       "\n",
       ".. plot::\n",
       "    :context: close-figs\n",
       "\n",
       "    >>> g = sns.catplot(x=\"time\", y=\"pulse\", hue=\"kind\",\n",
       "    ...                 col=\"diet\", data=exercise,\n",
       "    ...                 height=5, aspect=.8)\n",
       "\n",
       "Make many column facets and wrap them into the rows of the grid:\n",
       "\n",
       ".. plot::\n",
       "    :context: close-figs\n",
       "\n",
       "    >>> titanic = sns.load_dataset(\"titanic\")\n",
       "    >>> g = sns.catplot(x=\"alive\", col=\"deck\", col_wrap=4,\n",
       "    ...                 data=titanic[titanic.deck.notnull()],\n",
       "    ...                 kind=\"count\", height=2.5, aspect=.8)\n",
       "\n",
       "Plot horizontally and pass other keyword arguments to the plot function:\n",
       "\n",
       ".. plot::\n",
       "    :context: close-figs\n",
       "\n",
       "    >>> g = sns.catplot(x=\"age\", y=\"embark_town\",\n",
       "    ...                 hue=\"sex\", row=\"class\",\n",
       "    ...                 data=titanic[titanic.embark_town.notnull()],\n",
       "    ...                 orient=\"h\", height=2, aspect=3, palette=\"Set3\",\n",
       "    ...                 kind=\"violin\", dodge=True, cut=0, bw=.2)\n",
       "\n",
       "Use methods on the returned :class:`FacetGrid` to tweak the presentation:\n",
       "\n",
       ".. plot::\n",
       "    :context: close-figs\n",
       "\n",
       "    >>> g = sns.catplot(x=\"who\", y=\"survived\", col=\"class\",\n",
       "    ...                 data=titanic, saturation=.5,\n",
       "    ...                 kind=\"bar\", ci=None, aspect=.6)\n",
       "    >>> (g.set_axis_labels(\"\", \"Survival Rate\")\n",
       "    ...   .set_xticklabels([\"Men\", \"Women\", \"Children\"])\n",
       "    ...   .set_titles(\"{col_name} {col_var}\")\n",
       "    ...   .set(ylim=(0, 1))\n",
       "    ...   .despine(left=True))  #doctest: +ELLIPSIS\n",
       "    <seaborn.axisgrid.FacetGrid object at 0x...>\n",
       "\u001b[0;31mFile:\u001b[0m      ~/anaconda3/envs/py38/lib/python3.8/site-packages/seaborn/categorical.py\n",
       "\u001b[0;31mType:\u001b[0m      function\n"
      ]
     },
     "metadata": {},
     "output_type": "display_data"
    }
   ],
   "source": [
    "sns.catplot?"
   ]
  },
  {
   "cell_type": "code",
   "execution_count": 11,
   "metadata": {},
   "outputs": [
    {
     "data": {
      "text/plain": [
       "(0.33549354935493547, 1.0)"
      ]
     },
     "execution_count": 11,
     "metadata": {},
     "output_type": "execute_result"
    },
    {
     "data": {
      "text/plain": [
       "<Figure size 432x720 with 0 Axes>"
      ]
     },
     "metadata": {},
     "output_type": "display_data"
    },
    {
     "data": {
      "image/png": "[encoded data removed]",
      "text/plain": [
       "<Figure size 417.375x360 with 1 Axes>"
      ]
     },
     "metadata": {
      "needs_background": "light"
     },
     "output_type": "display_data"
    }
   ],
   "source": [
    "plt.figure(figsize=(6, 10))\n",
    "sns.catplot(data=maha, x='param', y='score', hue=\"type\", kind='strip')\n",
    "plt.ylim(None, 1)"
   ]
  },
  {
   "cell_type": "code",
   "execution_count": 35,
   "metadata": {},
   "outputs": [
    {
     "data": {
      "text/plain": [
       "(0.0, 1.0)"
      ]
     },
     "execution_count": 35,
     "metadata": {},
     "output_type": "execute_result"
    },
    {
     "data": {
      "image/png": "[encoded data removed]",
      "text/plain": [
       "<Figure size 360x360 with 1 Axes>"
      ]
     },
     "metadata": {
      "needs_background": "light"
     },
     "output_type": "display_data"
    }
   ],
   "source": [
    "sns.catplot(data=maha_post, x='param', y='pval', kind='strip')\n",
    "plt.ylim(0, 1)"
   ]
  },
  {
   "cell_type": "code",
   "execution_count": 9,
   "metadata": {},
   "outputs": [
    {
     "data": {
      "text/plain": [
       "<AxesSubplot:xlabel='param', ylabel='expected_auc'>"
      ]
     },
     "execution_count": 9,
     "metadata": {},
     "output_type": "execute_result"
    },
    {
     "data": {
      "image/png": "[encoded data removed]",
      "text/plain": [
       "<Figure size 432x288 with 1 Axes>"
      ]
     },
     "metadata": {
      "needs_background": "light"
     },
     "output_type": "display_data"
    }
   ],
   "source": [
    "ax = sns.pointplot(data=maha_pre, x=\"param\", y=\"score\",)\n",
    "sns.pointplot(data=maha_pre, x=\"param\", y=\"expected_auc\", ax =ax, color='red')"
   ]
  },
  {
   "cell_type": "code",
   "execution_count": 12,
   "metadata": {},
   "outputs": [],
   "source": [
    "samplesize = pd.read_pickle(\"simulate_samplesize_pre.pkl\")"
   ]
  },
  {
   "cell_type": "code",
   "execution_count": 13,
   "metadata": {},
   "outputs": [
    {
     "data": {
      "text/plain": [
       "Text(0.5, 0, 'N samples')"
      ]
     },
     "execution_count": 13,
     "metadata": {},
     "output_type": "execute_result"
    },
    {
     "data": {
      "image/png": "[encoded data removed]",
      "text/plain": [
       "<Figure size 432x288 with 1 Axes>"
      ]
     },
     "metadata": {
      "needs_background": "light"
     },
     "output_type": "display_data"
    }
   ],
   "source": [
    "ax = sns.lineplot(data=samplesize, x=\"param\", y=\"pval\")\n",
    "plt.xscale(\"log\")\n",
    "plt.ylabel(r\"$p$ value\")\n",
    "plt.xlabel(r\"N samples\")"
   ]
  },
  {
   "cell_type": "code",
   "execution_count": 24,
   "metadata": {},
   "outputs": [],
   "source": [
    "import time"
   ]
  },
  {
   "cell_type": "code",
   "execution_count": 25,
   "metadata": {},
   "outputs": [
    {
     "data": {
      "text/plain": [
       "'032023_14:25'"
      ]
     },
     "execution_count": 25,
     "metadata": {},
     "output_type": "execute_result"
    }
   ],
   "source": [
    "time.strftime(\"%m%d%y_%H:%M\")"
   ]
  },
  {
   "cell_type": "code",
   "execution_count": null,
   "metadata": {},
   "outputs": [],
   "source": []
  }
 ],
 "metadata": {
  "kernelspec": {
   "display_name": "py38",
   "language": "python",
   "name": "py38"
  },
  "language_info": {
   "codemirror_mode": {
    "name": "ipython",
    "version": 3
   },
   "file_extension": ".py",
   "mimetype": "text/x-python",
   "name": "python",
   "nbconvert_exporter": "python",
   "pygments_lexer": "ipython3",
   "version": "3.8.13"
  },
  "vscode": {
   "interpreter": {
    "hash": "1a3043ce43b8894bffef93d1839881ad472cb7607c1a3c9f1cfc63c042591dd0"
   }
  }
 },
 "nbformat": 4,
 "nbformat_minor": 4
}
