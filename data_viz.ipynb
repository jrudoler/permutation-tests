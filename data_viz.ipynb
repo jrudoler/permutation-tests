{
 "cells": [
  {
   "cell_type": "code",
   "execution_count": null,
   "metadata": {},
   "outputs": [],
   "source": []
  },
  {
   "cell_type": "code",
   "execution_count": 1,
   "metadata": {},
   "outputs": [
    {
     "name": "stderr",
     "output_type": "stream",
     "text": [
      "/home1/jrudoler/anaconda3/envs/py38/lib/python3.8/site-packages/scipy/__init__.py:146: UserWarning: A NumPy version >=1.16.5 and <1.23.0 is required for this version of SciPy (detected version 1.23.1\n",
      "  warnings.warn(f\"A NumPy version >={np_minversion} and <{np_maxversion}\"\n"
     ]
    }
   ],
   "source": [
    "import matplotlib.pyplot as plt\n",
    "import seaborn as sns\n",
    "import numpy as np\n",
    "import pandas as pd\n",
    "\n",
    "from scipy.stats import norm\n",
    "def auc_from_maha(maha_dist: float):\n",
    "    auc = norm.cdf(np.sqrt(2)*maha_dist)\n",
    "    return auc"
   ]
  },
  {
   "cell_type": "code",
   "execution_count": 2,
   "metadata": {},
   "outputs": [
    {
     "data": {
      "text/html": [
       "<div>\n",
       "<style scoped>\n",
       "    .dataframe tbody tr th:only-of-type {\n",
       "        vertical-align: middle;\n",
       "    }\n",
       "\n",
       "    .dataframe tbody tr th {\n",
       "        vertical-align: top;\n",
       "    }\n",
       "\n",
       "    .dataframe thead th {\n",
       "        text-align: right;\n",
       "    }\n",
       "</style>\n",
       "<table border=\"1\" class=\"dataframe\">\n",
       "  <thead>\n",
       "    <tr style=\"text-align: right;\">\n",
       "      <th></th>\n",
       "      <th>param</th>\n",
       "      <th>score</th>\n",
       "      <th>perm_scores</th>\n",
       "      <th>pval</th>\n",
       "    </tr>\n",
       "  </thead>\n",
       "  <tbody>\n",
       "    <tr>\n",
       "      <th>0</th>\n",
       "      <td>0.0</td>\n",
       "      <td>0.457246</td>\n",
       "      <td>[0.48244824482448245, 0.4946494649464946, 0.50...</td>\n",
       "      <td>0.854429</td>\n",
       "    </tr>\n",
       "    <tr>\n",
       "      <th>1</th>\n",
       "      <td>0.0</td>\n",
       "      <td>0.507386</td>\n",
       "      <td>[0.5443674002612802, 0.43794593508190127, 0.47...</td>\n",
       "      <td>0.439312</td>\n",
       "    </tr>\n",
       "    <tr>\n",
       "      <th>2</th>\n",
       "      <td>0.0</td>\n",
       "      <td>0.485849</td>\n",
       "      <td>[0.46484648464846484, 0.4763476347634764, 0.44...</td>\n",
       "      <td>0.637073</td>\n",
       "    </tr>\n",
       "    <tr>\n",
       "      <th>3</th>\n",
       "      <td>0.0</td>\n",
       "      <td>0.489462</td>\n",
       "      <td>[0.4799277398635086, 0.5156563629064632, 0.528...</td>\n",
       "      <td>0.607678</td>\n",
       "    </tr>\n",
       "    <tr>\n",
       "      <th>4</th>\n",
       "      <td>0.0</td>\n",
       "      <td>0.520700</td>\n",
       "      <td>[0.5609000000000001, 0.45310000000000006, 0.49...</td>\n",
       "      <td>0.315937</td>\n",
       "    </tr>\n",
       "    <tr>\n",
       "      <th>...</th>\n",
       "      <td>...</td>\n",
       "      <td>...</td>\n",
       "      <td>...</td>\n",
       "      <td>...</td>\n",
       "    </tr>\n",
       "    <tr>\n",
       "      <th>2495</th>\n",
       "      <td>1.5</td>\n",
       "      <td>0.625463</td>\n",
       "      <td>[0.48494849484948493, 0.4831483148314831, 0.51...</td>\n",
       "      <td>0.002000</td>\n",
       "    </tr>\n",
       "    <tr>\n",
       "      <th>2496</th>\n",
       "      <td>1.5</td>\n",
       "      <td>0.535357</td>\n",
       "      <td>[0.5087139423076923, 0.5100160256410255, 0.499...</td>\n",
       "      <td>0.188362</td>\n",
       "    </tr>\n",
       "    <tr>\n",
       "      <th>2497</th>\n",
       "      <td>1.5</td>\n",
       "      <td>0.924284</td>\n",
       "      <td>[0.570401862536694, 0.48213381921247084, 0.463...</td>\n",
       "      <td>0.000200</td>\n",
       "    </tr>\n",
       "    <tr>\n",
       "      <th>2498</th>\n",
       "      <td>1.5</td>\n",
       "      <td>0.526817</td>\n",
       "      <td>[0.5084711779448622, 0.49223057644110274, 0.48...</td>\n",
       "      <td>0.263347</td>\n",
       "    </tr>\n",
       "    <tr>\n",
       "      <th>2499</th>\n",
       "      <td>1.5</td>\n",
       "      <td>0.639098</td>\n",
       "      <td>[0.44401002506265663, 0.4507268170426066, 0.51...</td>\n",
       "      <td>0.000200</td>\n",
       "    </tr>\n",
       "  </tbody>\n",
       "</table>\n",
       "<p>2500 rows × 4 columns</p>\n",
       "</div>"
      ],
      "text/plain": [
       "      param     score                                        perm_scores  \\\n",
       "0       0.0  0.457246  [0.48244824482448245, 0.4946494649464946, 0.50...   \n",
       "1       0.0  0.507386  [0.5443674002612802, 0.43794593508190127, 0.47...   \n",
       "2       0.0  0.485849  [0.46484648464846484, 0.4763476347634764, 0.44...   \n",
       "3       0.0  0.489462  [0.4799277398635086, 0.5156563629064632, 0.528...   \n",
       "4       0.0  0.520700  [0.5609000000000001, 0.45310000000000006, 0.49...   \n",
       "...     ...       ...                                                ...   \n",
       "2495    1.5  0.625463  [0.48494849484948493, 0.4831483148314831, 0.51...   \n",
       "2496    1.5  0.535357  [0.5087139423076923, 0.5100160256410255, 0.499...   \n",
       "2497    1.5  0.924284  [0.570401862536694, 0.48213381921247084, 0.463...   \n",
       "2498    1.5  0.526817  [0.5084711779448622, 0.49223057644110274, 0.48...   \n",
       "2499    1.5  0.639098  [0.44401002506265663, 0.4507268170426066, 0.51...   \n",
       "\n",
       "          pval  \n",
       "0     0.854429  \n",
       "1     0.439312  \n",
       "2     0.637073  \n",
       "3     0.607678  \n",
       "4     0.315937  \n",
       "...        ...  \n",
       "2495  0.002000  \n",
       "2496  0.188362  \n",
       "2497  0.000200  \n",
       "2498  0.263347  \n",
       "2499  0.000200  \n",
       "\n",
       "[2500 rows x 4 columns]"
      ]
     },
     "execution_count": 2,
     "metadata": {},
     "output_type": "execute_result"
    }
   ],
   "source": [
    "maha_post = pd.read_pickle(\"simulate_maha_post.pkl\")\n",
    "maha_pre = pd.read_pickle(\"simulate_maha_pre.pkl\")\n",
    "maha_post"
   ]
  },
  {
   "cell_type": "code",
   "execution_count": 3,
   "metadata": {},
   "outputs": [
    {
     "data": {
      "text/html": [
       "<div>\n",
       "<style scoped>\n",
       "    .dataframe tbody tr th:only-of-type {\n",
       "        vertical-align: middle;\n",
       "    }\n",
       "\n",
       "    .dataframe tbody tr th {\n",
       "        vertical-align: top;\n",
       "    }\n",
       "\n",
       "    .dataframe thead tr th {\n",
       "        text-align: left;\n",
       "    }\n",
       "\n",
       "    .dataframe thead tr:last-of-type th {\n",
       "        text-align: right;\n",
       "    }\n",
       "</style>\n",
       "<table border=\"1\" class=\"dataframe\">\n",
       "  <thead>\n",
       "    <tr>\n",
       "      <th></th>\n",
       "      <th colspan=\"2\" halign=\"left\">pval</th>\n",
       "      <th colspan=\"2\" halign=\"left\">score</th>\n",
       "    </tr>\n",
       "    <tr>\n",
       "      <th></th>\n",
       "      <th>mean</th>\n",
       "      <th>std</th>\n",
       "      <th>mean</th>\n",
       "      <th>std</th>\n",
       "    </tr>\n",
       "    <tr>\n",
       "      <th>param</th>\n",
       "      <th></th>\n",
       "      <th></th>\n",
       "      <th></th>\n",
       "      <th></th>\n",
       "    </tr>\n",
       "  </thead>\n",
       "  <tbody>\n",
       "    <tr>\n",
       "      <th>0.000</th>\n",
       "      <td>0.493207</td>\n",
       "      <td>0.290590</td>\n",
       "      <td>0.501594</td>\n",
       "      <td>0.040381</td>\n",
       "    </tr>\n",
       "    <tr>\n",
       "      <th>0.375</th>\n",
       "      <td>0.459266</td>\n",
       "      <td>0.294403</td>\n",
       "      <td>0.506655</td>\n",
       "      <td>0.041491</td>\n",
       "    </tr>\n",
       "    <tr>\n",
       "      <th>0.750</th>\n",
       "      <td>0.353032</td>\n",
       "      <td>0.297815</td>\n",
       "      <td>0.531084</td>\n",
       "      <td>0.064145</td>\n",
       "    </tr>\n",
       "    <tr>\n",
       "      <th>1.125</th>\n",
       "      <td>0.315742</td>\n",
       "      <td>0.297967</td>\n",
       "      <td>0.547852</td>\n",
       "      <td>0.082382</td>\n",
       "    </tr>\n",
       "    <tr>\n",
       "      <th>1.500</th>\n",
       "      <td>0.224090</td>\n",
       "      <td>0.281435</td>\n",
       "      <td>0.584305</td>\n",
       "      <td>0.111338</td>\n",
       "    </tr>\n",
       "  </tbody>\n",
       "</table>\n",
       "</div>"
      ],
      "text/plain": [
       "           pval               score          \n",
       "           mean       std      mean       std\n",
       "param                                        \n",
       "0.000  0.493207  0.290590  0.501594  0.040381\n",
       "0.375  0.459266  0.294403  0.506655  0.041491\n",
       "0.750  0.353032  0.297815  0.531084  0.064145\n",
       "1.125  0.315742  0.297967  0.547852  0.082382\n",
       "1.500  0.224090  0.281435  0.584305  0.111338"
      ]
     },
     "execution_count": 3,
     "metadata": {},
     "output_type": "execute_result"
    }
   ],
   "source": [
    "maha_post.groupby(\"param\").agg({\"pval\":(\"mean\", \"std\"), \"score\":(\"mean\", \"std\")})"
   ]
  },
  {
   "cell_type": "code",
   "execution_count": 4,
   "metadata": {},
   "outputs": [
    {
     "data": {
      "text/html": [
       "<div>\n",
       "<style scoped>\n",
       "    .dataframe tbody tr th:only-of-type {\n",
       "        vertical-align: middle;\n",
       "    }\n",
       "\n",
       "    .dataframe tbody tr th {\n",
       "        vertical-align: top;\n",
       "    }\n",
       "\n",
       "    .dataframe thead tr th {\n",
       "        text-align: left;\n",
       "    }\n",
       "\n",
       "    .dataframe thead tr:last-of-type th {\n",
       "        text-align: right;\n",
       "    }\n",
       "</style>\n",
       "<table border=\"1\" class=\"dataframe\">\n",
       "  <thead>\n",
       "    <tr>\n",
       "      <th></th>\n",
       "      <th colspan=\"2\" halign=\"left\">pval</th>\n",
       "      <th colspan=\"2\" halign=\"left\">score</th>\n",
       "    </tr>\n",
       "    <tr>\n",
       "      <th></th>\n",
       "      <th>mean</th>\n",
       "      <th>std</th>\n",
       "      <th>mean</th>\n",
       "      <th>std</th>\n",
       "    </tr>\n",
       "    <tr>\n",
       "      <th>param</th>\n",
       "      <th></th>\n",
       "      <th></th>\n",
       "      <th></th>\n",
       "      <th></th>\n",
       "    </tr>\n",
       "  </thead>\n",
       "  <tbody>\n",
       "    <tr>\n",
       "      <th>0.000</th>\n",
       "      <td>0.580438</td>\n",
       "      <td>0.285983</td>\n",
       "      <td>0.486167</td>\n",
       "      <td>0.042343</td>\n",
       "    </tr>\n",
       "    <tr>\n",
       "      <th>0.375</th>\n",
       "      <td>0.436265</td>\n",
       "      <td>0.285906</td>\n",
       "      <td>0.510753</td>\n",
       "      <td>0.044832</td>\n",
       "    </tr>\n",
       "    <tr>\n",
       "      <th>0.750</th>\n",
       "      <td>0.397734</td>\n",
       "      <td>0.300682</td>\n",
       "      <td>0.520563</td>\n",
       "      <td>0.059075</td>\n",
       "    </tr>\n",
       "    <tr>\n",
       "      <th>1.125</th>\n",
       "      <td>0.318618</td>\n",
       "      <td>0.283401</td>\n",
       "      <td>0.535742</td>\n",
       "      <td>0.064550</td>\n",
       "    </tr>\n",
       "    <tr>\n",
       "      <th>1.500</th>\n",
       "      <td>0.243771</td>\n",
       "      <td>0.285617</td>\n",
       "      <td>0.579780</td>\n",
       "      <td>0.112467</td>\n",
       "    </tr>\n",
       "  </tbody>\n",
       "</table>\n",
       "</div>"
      ],
      "text/plain": [
       "           pval               score          \n",
       "           mean       std      mean       std\n",
       "param                                        \n",
       "0.000  0.580438  0.285983  0.486167  0.042343\n",
       "0.375  0.436265  0.285906  0.510753  0.044832\n",
       "0.750  0.397734  0.300682  0.520563  0.059075\n",
       "1.125  0.318618  0.283401  0.535742  0.064550\n",
       "1.500  0.243771  0.285617  0.579780  0.112467"
      ]
     },
     "execution_count": 4,
     "metadata": {},
     "output_type": "execute_result"
    }
   ],
   "source": [
    "maha_pre.groupby(\"param\").agg({\"pval\":(\"mean\", \"std\"), \"score\":(\"mean\", \"std\")})"
   ]
  },
  {
   "cell_type": "code",
   "execution_count": 5,
   "metadata": {},
   "outputs": [],
   "source": [
    "null_scores = maha_post.explode(\"perm_scores\").groupby(\"param\").agg({\"perm_scores\":(\"mean\", \"std\")})"
   ]
  },
  {
   "cell_type": "code",
   "execution_count": 55,
   "metadata": {},
   "outputs": [
    {
     "data": {
      "text/plain": [
       "(array([14.,  7., 12.,  5., 11., 15.,  7., 10., 12.,  7.]),\n",
       " array([5.99880024e-04, 9.77804439e-02, 1.94961008e-01, 2.92141572e-01,\n",
       "        3.89322136e-01, 4.86502699e-01, 5.83683263e-01, 6.80863827e-01,\n",
       "        7.78044391e-01, 8.75224955e-01, 9.72405519e-01]),\n",
       " <BarContainer object of 10 artists>)"
      ]
     },
     "execution_count": 55,
     "metadata": {},
     "output_type": "execute_result"
    },
    {
     "data": {
      "image/png": "[encoded data removed]",
      "text/plain": [
       "<Figure size 432x288 with 1 Axes>"
      ]
     },
     "metadata": {
      "needs_background": "light"
     },
     "output_type": "display_data"
    }
   ],
   "source": [
    "plt.hist(maha_pre[maha_pre.param==0.]['pval'])"
   ]
  },
  {
   "cell_type": "code",
   "execution_count": 56,
   "metadata": {},
   "outputs": [
    {
     "data": {
      "text/plain": [
       "0.08"
      ]
     },
     "execution_count": 56,
     "metadata": {},
     "output_type": "execute_result"
    }
   ],
   "source": [
    "(maha_pre[maha_pre.param==0.]['pval'] < .05).mean()"
   ]
  },
  {
   "cell_type": "markdown",
   "metadata": {},
   "source": [
    "## Are we over-fitting or under-fitting?"
   ]
  },
  {
   "cell_type": "code",
   "execution_count": 5,
   "metadata": {},
   "outputs": [],
   "source": [
    "maha_pre['expected_auc']= maha_pre['param'].apply(auc_from_maha)\n",
    "maha_pre['type'] = \"pre\"\n",
    "maha_post['expected_auc']= maha_post['param'].apply(auc_from_maha)\n",
    "maha_post['type'] = \"post\""
   ]
  },
  {
   "cell_type": "code",
   "execution_count": 6,
   "metadata": {},
   "outputs": [
    {
     "data": {
      "text/plain": [
       "<AxesSubplot:xlabel='param', ylabel='expected_auc'>"
      ]
     },
     "execution_count": 6,
     "metadata": {},
     "output_type": "execute_result"
    },
    {
     "data": {
      "image/png": "[encoded data removed]",
      "text/plain": [
       "<Figure size 432x288 with 1 Axes>"
      ]
     },
     "metadata": {
      "needs_background": "light"
     },
     "output_type": "display_data"
    }
   ],
   "source": [
    "ax = sns.pointplot(data=maha_post, x=\"param\", y=\"score\",)\n",
    "sns.pointplot(data=maha_post, x=\"param\", y=\"expected_auc\", ax =ax, color='red')\n",
    "# sns.pointplot(data=null_scores, x=\"param\", y=\"mean\")"
   ]
  },
  {
   "cell_type": "code",
   "execution_count": 7,
   "metadata": {},
   "outputs": [],
   "source": [
    "maha = pd.concat([maha_post, maha_pre])"
   ]
  },
  {
   "cell_type": "code",
   "execution_count": 37,
   "metadata": {
    "collapsed": true,
    "jupyter": {
     "outputs_hidden": true
    },
    "tags": []
   },
   "outputs": [
    {
     "data": {
      "text/plain": [
       "\u001b[0;31mSignature:\u001b[0m\n",
       "\u001b[0msns\u001b[0m\u001b[0;34m.\u001b[0m\u001b[0mcatplot\u001b[0m\u001b[0;34m(\u001b[0m\u001b[0;34m\u001b[0m\n",
       "\u001b[0;34m\u001b[0m    \u001b[0;34m*\u001b[0m\u001b[0;34m,\u001b[0m\u001b[0;34m\u001b[0m\n",
       "\u001b[0;34m\u001b[0m    \u001b[0mx\u001b[0m\u001b[0;34m=\u001b[0m\u001b[0;32mNone\u001b[0m\u001b[0;34m,\u001b[0m\u001b[0;34m\u001b[0m\n",
       "\u001b[0;34m\u001b[0m    \u001b[0my\u001b[0m\u001b[0;34m=\u001b[0m\u001b[0;32mNone\u001b[0m\u001b[0;34m,\u001b[0m\u001b[0;34m\u001b[0m\n",
       "\u001b[0;34m\u001b[0m    \u001b[0mhue\u001b[0m\u001b[0;34m=\u001b[0m\u001b[0;32mNone\u001b[0m\u001b[0;34m,\u001b[0m\u001b[0;34m\u001b[0m\n",
       "\u001b[0;34m\u001b[0m    \u001b[0mdata\u001b[0m\u001b[0;34m=\u001b[0m\u001b[0;32mNone\u001b[0m\u001b[0;34m,\u001b[0m\u001b[0;34m\u001b[0m\n",
       "\u001b[0;34m\u001b[0m    \u001b[0mrow\u001b[0m\u001b[0;34m=\u001b[0m\u001b[0;32mNone\u001b[0m\u001b[0;34m,\u001b[0m\u001b[0;34m\u001b[0m\n",
       "\u001b[0;34m\u001b[0m    \u001b[0mcol\u001b[0m\u001b[0;34m=\u001b[0m\u001b[0;32mNone\u001b[0m\u001b[0;34m,\u001b[0m\u001b[0;34m\u001b[0m\n",
       "\u001b[0;34m\u001b[0m    \u001b[0mcol_wrap\u001b[0m\u001b[0;34m=\u001b[0m\u001b[0;32mNone\u001b[0m\u001b[0;34m,\u001b[0m\u001b[0;34m\u001b[0m\n",
       "\u001b[0;34m\u001b[0m    \u001b[0mestimator\u001b[0m\u001b[0;34m=\u001b[0m\u001b[0;34m<\u001b[0m\u001b[0mfunction\u001b[0m \u001b[0mmean\u001b[0m \u001b[0mat\u001b[0m \u001b[0;36m0x2ac4ba52f550\u001b[0m\u001b[0;34m>\u001b[0m\u001b[0;34m,\u001b[0m\u001b[0;34m\u001b[0m\n",
       "\u001b[0;34m\u001b[0m    \u001b[0mci\u001b[0m\u001b[0;34m=\u001b[0m\u001b[0;36m95\u001b[0m\u001b[0;34m,\u001b[0m\u001b[0;34m\u001b[0m\n",
       "\u001b[0;34m\u001b[0m    \u001b[0mn_boot\u001b[0m\u001b[0;34m=\u001b[0m\u001b[0;36m1000\u001b[0m\u001b[0;34m,\u001b[0m\u001b[0;34m\u001b[0m\n",
       "\u001b[0;34m\u001b[0m    \u001b[0munits\u001b[0m\u001b[0;34m=\u001b[0m\u001b[0;32mNone\u001b[0m\u001b[0;34m,\u001b[0m\u001b[0;34m\u001b[0m\n",
       "\u001b[0;34m\u001b[0m    \u001b[0mseed\u001b[0m\u001b[0;34m=\u001b[0m\u001b[0;32mNone\u001b[0m\u001b[0;34m,\u001b[0m\u001b[0;34m\u001b[0m\n",
       "\u001b[0;34m\u001b[0m    \u001b[0morder\u001b[0m\u001b[0;34m=\u001b[0m\u001b[0;32mNone\u001b[0m\u001b[0;34m,\u001b[0m\u001b[0;34m\u001b[0m\n",
       "\u001b[0;34m\u001b[0m    \u001b[0mhue_order\u001b[0m\u001b[0;34m=\u001b[0m\u001b[0;32mNone\u001b[0m\u001b[0;34m,\u001b[0m\u001b[0;34m\u001b[0m\n",
       "\u001b[0;34m\u001b[0m    \u001b[0mrow_order\u001b[0m\u001b[0;34m=\u001b[0m\u001b[0;32mNone\u001b[0m\u001b[0;34m,\u001b[0m\u001b[0;34m\u001b[0m\n",
       "\u001b[0;34m\u001b[0m    \u001b[0mcol_order\u001b[0m\u001b[0;34m=\u001b[0m\u001b[0;32mNone\u001b[0m\u001b[0;34m,\u001b[0m\u001b[0;34m\u001b[0m\n",
       "\u001b[0;34m\u001b[0m    \u001b[0mkind\u001b[0m\u001b[0;34m=\u001b[0m\u001b[0;34m'strip'\u001b[0m\u001b[0;34m,\u001b[0m\u001b[0;34m\u001b[0m\n",
       "\u001b[0;34m\u001b[0m    \u001b[0mheight\u001b[0m\u001b[0;34m=\u001b[0m\u001b[0;36m5\u001b[0m\u001b[0;34m,\u001b[0m\u001b[0;34m\u001b[0m\n",
       "\u001b[0;34m\u001b[0m    \u001b[0maspect\u001b[0m\u001b[0;34m=\u001b[0m\u001b[0;36m1\u001b[0m\u001b[0;34m,\u001b[0m\u001b[0;34m\u001b[0m\n",
       "\u001b[0;34m\u001b[0m    \u001b[0morient\u001b[0m\u001b[0;34m=\u001b[0m\u001b[0;32mNone\u001b[0m\u001b[0;34m,\u001b[0m\u001b[0;34m\u001b[0m\n",
       "\u001b[0;34m\u001b[0m    \u001b[0mcolor\u001b[0m\u001b[0;34m=\u001b[0m\u001b[0;32mNone\u001b[0m\u001b[0;34m,\u001b[0m\u001b[0;34m\u001b[0m\n",
       "\u001b[0;34m\u001b[0m    \u001b[0mpalette\u001b[0m\u001b[0;34m=\u001b[0m\u001b[0;32mNone\u001b[0m\u001b[0;34m,\u001b[0m\u001b[0;34m\u001b[0m\n",
       "\u001b[0;34m\u001b[0m    \u001b[0mlegend\u001b[0m\u001b[0;34m=\u001b[0m\u001b[0;32mTrue\u001b[0m\u001b[0;34m,\u001b[0m\u001b[0;34m\u001b[0m\n",
       "\u001b[0;34m\u001b[0m    \u001b[0mlegend_out\u001b[0m\u001b[0;34m=\u001b[0m\u001b[0;32mTrue\u001b[0m\u001b[0;34m,\u001b[0m\u001b[0;34m\u001b[0m\n",
       "\u001b[0;34m\u001b[0m    \u001b[0msharex\u001b[0m\u001b[0;34m=\u001b[0m\u001b[0;32mTrue\u001b[0m\u001b[0;34m,\u001b[0m\u001b[0;34m\u001b[0m\n",
       "\u001b[0;34m\u001b[0m    \u001b[0msharey\u001b[0m\u001b[0;34m=\u001b[0m\u001b[0;32mTrue\u001b[0m\u001b[0;34m,\u001b[0m\u001b[0;34m\u001b[0m\n",
       "\u001b[0;34m\u001b[0m    \u001b[0mmargin_titles\u001b[0m\u001b[0;34m=\u001b[0m\u001b[0;32mFalse\u001b[0m\u001b[0;34m,\u001b[0m\u001b[0;34m\u001b[0m\n",
       "\u001b[0;34m\u001b[0m    \u001b[0mfacet_kws\u001b[0m\u001b[0;34m=\u001b[0m\u001b[0;32mNone\u001b[0m\u001b[0;34m,\u001b[0m\u001b[0;34m\u001b[0m\n",
       "\u001b[0;34m\u001b[0m    \u001b[0;34m**\u001b[0m\u001b[0mkwargs\u001b[0m\u001b[0;34m,\u001b[0m\u001b[0;34m\u001b[0m\n",
       "\u001b[0;34m\u001b[0m\u001b[0;34m)\u001b[0m\u001b[0;34m\u001b[0m\u001b[0;34m\u001b[0m\u001b[0m\n",
       "\u001b[0;31mDocstring:\u001b[0m\n",
       "Figure-level interface for drawing categorical plots onto a FacetGrid.\n",
       "\n",
       "This function provides access to several axes-level functions that\n",
       "show the relationship between a numerical and one or more categorical\n",
       "variables using one of several visual representations. The ``kind``\n",
       "parameter selects the underlying axes-level function to use:\n",
       "\n",
       "Categorical scatterplots:\n",
       "\n",
       "- :func:`stripplot` (with ``kind=\"strip\"``; the default)\n",
       "- :func:`swarmplot` (with ``kind=\"swarm\"``)\n",
       "\n",
       "Categorical distribution plots:\n",
       "\n",
       "- :func:`boxplot` (with ``kind=\"box\"``)\n",
       "- :func:`violinplot` (with ``kind=\"violin\"``)\n",
       "- :func:`boxenplot` (with ``kind=\"boxen\"``)\n",
       "\n",
       "Categorical estimate plots:\n",
       "\n",
       "- :func:`pointplot` (with ``kind=\"point\"``)\n",
       "- :func:`barplot` (with ``kind=\"bar\"``)\n",
       "- :func:`countplot` (with ``kind=\"count\"``)\n",
       "\n",
       "Extra keyword arguments are passed to the underlying function, so you\n",
       "should refer to the documentation for each to see kind-specific options.\n",
       "\n",
       "Note that unlike when using the axes-level functions directly, data must be\n",
       "passed in a long-form DataFrame with variables specified by passing strings\n",
       "to ``x``, ``y``, ``hue``, etc.\n",
       "\n",
       "As in the case with the underlying plot functions, if variables have a\n",
       "``categorical`` data type, the levels of the categorical variables, and\n",
       "their order will be inferred from the objects. Otherwise you may have to\n",
       "use alter the dataframe sorting or use the function parameters (``orient``,\n",
       "``order``, ``hue_order``, etc.) to set up the plot correctly.\n",
       "\n",
       "This function always treats one of the variables as categorical and\n",
       "draws data at ordinal positions (0, 1, ... n) on the relevant axis, even\n",
       "when the data has a numeric or date type.\n",
       "\n",
       "See the :ref:`tutorial <categorical_tutorial>` for more information.    \n",
       "\n",
       "After plotting, the :class:`FacetGrid` with the plot is returned and can\n",
       "be used directly to tweak supporting plot details or add other layers.\n",
       "\n",
       "Parameters\n",
       "----------\n",
       "x, y, hue : names of variables in ``data``\n",
       "    Inputs for plotting long-form data. See examples for interpretation.        \n",
       "data : DataFrame\n",
       "    Long-form (tidy) dataset for plotting. Each column should correspond\n",
       "    to a variable, and each row should correspond to an observation.    \n",
       "row, col : names of variables in ``data``, optional\n",
       "    Categorical variables that will determine the faceting of the grid.\n",
       "col_wrap : int\n",
       "    \"Wrap\" the column variable at this width, so that the column facets\n",
       "    span multiple rows. Incompatible with a ``row`` facet.    \n",
       "estimator : callable that maps vector -> scalar, optional\n",
       "    Statistical function to estimate within each categorical bin.\n",
       "ci : float or \"sd\" or None, optional\n",
       "    Size of confidence intervals to draw around estimated values.  If\n",
       "    \"sd\", skip bootstrapping and draw the standard deviation of the\n",
       "    observations. If ``None``, no bootstrapping will be performed, and\n",
       "    error bars will not be drawn.\n",
       "n_boot : int, optional\n",
       "    Number of bootstrap iterations to use when computing confidence\n",
       "    intervals.\n",
       "units : name of variable in ``data`` or vector data, optional\n",
       "    Identifier of sampling units, which will be used to perform a\n",
       "    multilevel bootstrap and account for repeated measures design.\n",
       "seed : int, numpy.random.Generator, or numpy.random.RandomState, optional\n",
       "    Seed or random number generator for reproducible bootstrapping.    \n",
       "order, hue_order : lists of strings, optional\n",
       "    Order to plot the categorical levels in, otherwise the levels are\n",
       "    inferred from the data objects.        \n",
       "row_order, col_order : lists of strings, optional\n",
       "    Order to organize the rows and/or columns of the grid in, otherwise the\n",
       "    orders are inferred from the data objects.\n",
       "kind : str, optional\n",
       "    The kind of plot to draw, corresponds to the name of a categorical\n",
       "    axes-level plotting function. Options are: \"strip\", \"swarm\", \"box\", \"violin\",\n",
       "    \"boxen\", \"point\", \"bar\", or \"count\".\n",
       "height : scalar\n",
       "    Height (in inches) of each facet. See also: ``aspect``.    \n",
       "aspect : scalar\n",
       "    Aspect ratio of each facet, so that ``aspect * height`` gives the width\n",
       "    of each facet in inches.    \n",
       "orient : \"v\" | \"h\", optional\n",
       "    Orientation of the plot (vertical or horizontal). This is usually\n",
       "    inferred based on the type of the input variables, but it can be used\n",
       "    to resolve ambiguity when both `x` and `y` are numeric or when\n",
       "    plotting wide-form data.    \n",
       "color : matplotlib color, optional\n",
       "    Color for all of the elements, or seed for a gradient palette.    \n",
       "palette : palette name, list, or dict\n",
       "    Colors to use for the different levels of the ``hue`` variable. Should\n",
       "    be something that can be interpreted by :func:`color_palette`, or a\n",
       "    dictionary mapping hue levels to matplotlib colors.    \n",
       "legend : bool, optional\n",
       "    If ``True`` and there is a ``hue`` variable, draw a legend on the plot.\n",
       "legend_out : bool\n",
       "    If ``True``, the figure size will be extended, and the legend will be\n",
       "    drawn outside the plot on the center right.    \n",
       "share{x,y} : bool, 'col', or 'row' optional\n",
       "    If true, the facets will share y axes across columns and/or x axes\n",
       "    across rows.    \n",
       "margin_titles : bool\n",
       "    If ``True``, the titles for the row variable are drawn to the right of\n",
       "    the last column. This option is experimental and may not work in all\n",
       "    cases.    \n",
       "facet_kws : dict, optional\n",
       "    Dictionary of other keyword arguments to pass to :class:`FacetGrid`.\n",
       "kwargs : key, value pairings\n",
       "    Other keyword arguments are passed through to the underlying plotting\n",
       "    function.\n",
       "\n",
       "Returns\n",
       "-------\n",
       "g : :class:`FacetGrid`\n",
       "    Returns the :class:`FacetGrid` object with the plot on it for further\n",
       "    tweaking.\n",
       "\n",
       "Examples\n",
       "--------\n",
       "\n",
       "Draw a single facet to use the :class:`FacetGrid` legend placement:\n",
       "\n",
       ".. plot::\n",
       "    :context: close-figs\n",
       "\n",
       "    >>> import seaborn as sns\n",
       "    >>> sns.set_theme(style=\"ticks\")\n",
       "    >>> exercise = sns.load_dataset(\"exercise\")\n",
       "    >>> g = sns.catplot(x=\"time\", y=\"pulse\", hue=\"kind\", data=exercise)\n",
       "\n",
       "Use a different plot kind to visualize the same data:\n",
       "\n",
       ".. plot::\n",
       "    :context: close-figs\n",
       "\n",
       "    >>> g = sns.catplot(x=\"time\", y=\"pulse\", hue=\"kind\",\n",
       "    ...                data=exercise, kind=\"violin\")\n",
       "\n",
       "Facet along the columns to show a third categorical variable:\n",
       "\n",
       ".. plot::\n",
       "    :context: close-figs\n",
       "\n",
       "    >>> g = sns.catplot(x=\"time\", y=\"pulse\", hue=\"kind\",\n",
       "    ...                 col=\"diet\", data=exercise)\n",
       "\n",
       "Use a different height and aspect ratio for the facets:\n",
       "\n",
       ".. plot::\n",
       "    :context: close-figs\n",
       "\n",
       "    >>> g = sns.catplot(x=\"time\", y=\"pulse\", hue=\"kind\",\n",
       "    ...                 col=\"diet\", data=exercise,\n",
       "    ...                 height=5, aspect=.8)\n",
       "\n",
       "Make many column facets and wrap them into the rows of the grid:\n",
       "\n",
       ".. plot::\n",
       "    :context: close-figs\n",
       "\n",
       "    >>> titanic = sns.load_dataset(\"titanic\")\n",
       "    >>> g = sns.catplot(x=\"alive\", col=\"deck\", col_wrap=4,\n",
       "    ...                 data=titanic[titanic.deck.notnull()],\n",
       "    ...                 kind=\"count\", height=2.5, aspect=.8)\n",
       "\n",
       "Plot horizontally and pass other keyword arguments to the plot function:\n",
       "\n",
       ".. plot::\n",
       "    :context: close-figs\n",
       "\n",
       "    >>> g = sns.catplot(x=\"age\", y=\"embark_town\",\n",
       "    ...                 hue=\"sex\", row=\"class\",\n",
       "    ...                 data=titanic[titanic.embark_town.notnull()],\n",
       "    ...                 orient=\"h\", height=2, aspect=3, palette=\"Set3\",\n",
       "    ...                 kind=\"violin\", dodge=True, cut=0, bw=.2)\n",
       "\n",
       "Use methods on the returned :class:`FacetGrid` to tweak the presentation:\n",
       "\n",
       ".. plot::\n",
       "    :context: close-figs\n",
       "\n",
       "    >>> g = sns.catplot(x=\"who\", y=\"survived\", col=\"class\",\n",
       "    ...                 data=titanic, saturation=.5,\n",
       "    ...                 kind=\"bar\", ci=None, aspect=.6)\n",
       "    >>> (g.set_axis_labels(\"\", \"Survival Rate\")\n",
       "    ...   .set_xticklabels([\"Men\", \"Women\", \"Children\"])\n",
       "    ...   .set_titles(\"{col_name} {col_var}\")\n",
       "    ...   .set(ylim=(0, 1))\n",
       "    ...   .despine(left=True))  #doctest: +ELLIPSIS\n",
       "    <seaborn.axisgrid.FacetGrid object at 0x...>\n",
       "\u001b[0;31mFile:\u001b[0m      ~/anaconda3/envs/py38/lib/python3.8/site-packages/seaborn/categorical.py\n",
       "\u001b[0;31mType:\u001b[0m      function\n"
      ]
     },
     "metadata": {},
     "output_type": "display_data"
    }
   ],
   "source": [
    "sns.catplot?"
   ]
  },
  {
   "cell_type": "code",
   "execution_count": 8,
   "metadata": {},
   "outputs": [
    {
     "data": {
      "text/plain": [
       "(0.3313885789468034, 1.0)"
      ]
     },
     "execution_count": 8,
     "metadata": {},
     "output_type": "execute_result"
    },
    {
     "data": {
      "text/plain": [
       "<Figure size 432x720 with 0 Axes>"
      ]
     },
     "metadata": {},
     "output_type": "display_data"
    },
    {
     "data": {
      "image/png": "[encoded data removed]",
      "text/plain": [
       "<Figure size 417.375x360 with 1 Axes>"
      ]
     },
     "metadata": {
      "needs_background": "light"
     },
     "output_type": "display_data"
    }
   ],
   "source": [
    "plt.figure(figsize=(6, 10))\n",
    "sns.catplot(data=maha, x='param', y='score', hue=\"type\", kind='strip')\n",
    "plt.ylim(None, 1)"
   ]
  },
  {
   "cell_type": "code",
   "execution_count": 9,
   "metadata": {},
   "outputs": [
    {
     "data": {
      "text/plain": [
       "<seaborn.axisgrid.FacetGrid at 0x2b2fc238d040>"
      ]
     },
     "execution_count": 9,
     "metadata": {},
     "output_type": "execute_result"
    },
    {
     "data": {
      "image/png": "[encoded data removed]",
      "text/plain": [
       "<Figure size 360x360 with 1 Axes>"
      ]
     },
     "metadata": {
      "needs_background": "light"
     },
     "output_type": "display_data"
    }
   ],
   "source": [
    "sns.catplot(data=maha_pre, x='param', y='pval', kind='violin')"
   ]
  },
  {
   "cell_type": "code",
   "execution_count": 10,
   "metadata": {},
   "outputs": [
    {
     "data": {
      "text/plain": [
       "<AxesSubplot:xlabel='param', ylabel='expected_auc'>"
      ]
     },
     "execution_count": 10,
     "metadata": {},
     "output_type": "execute_result"
    },
    {
     "data": {
      "image/png": "[encoded data removed]",
      "text/plain": [
       "<Figure size 432x288 with 1 Axes>"
      ]
     },
     "metadata": {
      "needs_background": "light"
     },
     "output_type": "display_data"
    }
   ],
   "source": [
    "ax = sns.pointplot(data=maha_pre, x=\"param\", y=\"score\",)\n",
    "sns.pointplot(data=maha_pre, x=\"param\", y=\"expected_auc\", ax =ax, color='red')"
   ]
  },
  {
   "cell_type": "code",
   "execution_count": 65,
   "metadata": {},
   "outputs": [],
   "source": [
    "samplesize = pd.read_pickle(\"simulate_samplesize.pkl\")"
   ]
  },
  {
   "cell_type": "code",
   "execution_count": 24,
   "metadata": {},
   "outputs": [
    {
     "data": {
      "image/png": "[encoded data removed]",
      "text/plain": [
       "<Figure size 432x288 with 1 Axes>"
      ]
     },
     "metadata": {
      "needs_background": "light"
     },
     "output_type": "display_data"
    }
   ],
   "source": [
    "ax = sns.lineplot(data=samplesize, x=\"param\", y=\"pval\")"
   ]
  },
  {
   "cell_type": "code",
   "execution_count": 28,
   "metadata": {},
   "outputs": [],
   "source": [
    "import time"
   ]
  },
  {
   "cell_type": "code",
   "execution_count": 47,
   "metadata": {},
   "outputs": [
    {
     "data": {
      "text/plain": [
       "'010223_14:32'"
      ]
     },
     "execution_count": 47,
     "metadata": {},
     "output_type": "execute_result"
    }
   ],
   "source": [
    "time.strftime(\"%m%d%y_%H:%M\")"
   ]
  },
  {
   "cell_type": "code",
   "execution_count": null,
   "metadata": {},
   "outputs": [],
   "source": []
  }
 ],
 "metadata": {
  "kernelspec": {
   "display_name": "py3da",
   "language": "python",
   "name": "python3"
  },
  "language_info": {
   "codemirror_mode": {
    "name": "ipython",
    "version": 3
   },
   "file_extension": ".py",
   "mimetype": "text/x-python",
   "name": "python",
   "nbconvert_exporter": "python",
   "pygments_lexer": "ipython3",
   "version": "3.9.6 (default, Aug 16 2021, 12:43:27) \n[Clang 12.0.0 ]"
  },
  "vscode": {
   "interpreter": {
    "hash": "fef6b1176d955c856bdf5104b17957eede64e30f941e75130ac3b4b836f57e6f"
   }
  }
 },
 "nbformat": 4,
 "nbformat_minor": 4
}
